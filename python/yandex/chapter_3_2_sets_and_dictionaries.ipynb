{
 "cells": [
  {
   "cell_type": "code",
   "execution_count": null,
   "id": "4ce74849",
   "metadata": {},
   "outputs": [],
   "source": [
    "\"\"\"Sets and dictionaries in python.\"\"\""
   ]
  },
  {
   "cell_type": "code",
   "execution_count": null,
   "id": "ad997fcd",
   "metadata": {},
   "outputs": [
    {
     "name": "stdout",
     "output_type": "stream",
     "text": [
      "рвпи\n"
     ]
    }
   ],
   "source": [
    "import json\n",
    "import math\n",
    "\n",
    "\n",
    "def task_1() -> None:\n",
    "    \"\"\"Print unique letters of word.\"\"\"\n",
    "    data: set[str] = set(input())\n",
    "    print(*data, sep=\"\")\n",
    "\n",
    "\n",
    "task_1()"
   ]
  },
  {
   "cell_type": "code",
   "execution_count": null,
   "id": "1fa81be5",
   "metadata": {},
   "outputs": [
    {
     "name": "stdout",
     "output_type": "stream",
     "text": [
      "hg\n"
     ]
    }
   ],
   "source": [
    "def task_2() -> None:\n",
    "    \"\"\"Print intersection of words.\"\"\"\n",
    "    first_word: set[str] = set(input())\n",
    "    second_word: set[str] = set(input())\n",
    "    result_word: set[str] = first_word.intersection(second_word)\n",
    "    print(*result_word, sep=\"\")\n",
    "\n",
    "\n",
    "task_2()"
   ]
  },
  {
   "cell_type": "code",
   "execution_count": null,
   "id": "d3adf2f4",
   "metadata": {},
   "outputs": [
    {
     "name": "stdout",
     "output_type": "stream",
     "text": [
      "лужа\n",
      "заяц\n",
      "берёза\n"
     ]
    }
   ],
   "source": [
    "def task_3() -> None:\n",
    "    \"\"\"Count number of things.\"\"\"\n",
    "    count_of_places: int = int(input())\n",
    "    all_things: set[str] = set()\n",
    "    for _ in range(count_of_places):\n",
    "        place: set[str] = set(input().split())\n",
    "        all_things = all_things | place\n",
    "    print(*all_things, sep=\"\\n\")\n",
    "\n",
    "\n",
    "task_3()"
   ]
  },
  {
   "cell_type": "code",
   "execution_count": null,
   "id": "7ed7caf1",
   "metadata": {},
   "outputs": [
    {
     "name": "stdout",
     "output_type": "stream",
     "text": [
      "1\n"
     ]
    }
   ],
   "source": [
    "def task_4() -> None:\n",
    "    \"\"\"Count the number of intersections.\"\"\"\n",
    "    count_semolina_lovers: int = int(input())\n",
    "    count_oatmeal_lovers: int = int(input())\n",
    "\n",
    "    semolina_lovers: set[str] = set()\n",
    "    for _ in range(count_semolina_lovers):\n",
    "        student_surname2: str = input().strip()\n",
    "        semolina_lovers.add(student_surname2)\n",
    "\n",
    "    oatmeal_lovers: set[str] = set()\n",
    "    for _ in range(count_oatmeal_lovers):\n",
    "        student_surname2 = input().strip()\n",
    "        oatmeal_lovers.add(student_surname2)\n",
    "\n",
    "    both_lovers: set[str] = semolina_lovers & oatmeal_lovers\n",
    "\n",
    "    if both_lovers:\n",
    "        print(len(both_lovers))\n",
    "    else:\n",
    "        print(\"Таких нет\")\n",
    "\n",
    "\n",
    "task_4()"
   ]
  },
  {
   "cell_type": "code",
   "execution_count": 9,
   "id": "f28fae52",
   "metadata": {},
   "outputs": [
    {
     "name": "stdout",
     "output_type": "stream",
     "text": [
      "2\n"
     ]
    }
   ],
   "source": [
    "def task_5() -> None:\n",
    "    \"\"\"Count children who like exactly one porridge.\"\"\"\n",
    "    count_semolina_lovers: int = int(input())\n",
    "    count_oatmeal_lovers: int = int(input())\n",
    "    total_entries: int = count_semolina_lovers + count_oatmeal_lovers\n",
    "\n",
    "    surname_counts: dict[str, int] = {}\n",
    "    for _ in range(total_entries):\n",
    "        surname: str = input()\n",
    "        surname_counts[surname] = surname_counts.get(surname, 0) + 1\n",
    "\n",
    "    only_one_count: int = sum(\n",
    "        1 for occurrences in surname_counts.values() if occurrences == 1\n",
    "    )\n",
    "    if only_one_count:\n",
    "        print(only_one_count)\n",
    "    else:\n",
    "        print(\"Таких нет\")\n",
    "\n",
    "\n",
    "task_5()"
   ]
  },
  {
   "cell_type": "code",
   "execution_count": 10,
   "id": "455972bc",
   "metadata": {},
   "outputs": [
    {
     "name": "stdout",
     "output_type": "stream",
     "text": [
      "Ваня\n"
     ]
    }
   ],
   "source": [
    "def task_6() -> None:\n",
    "    \"\"\"List children who like exactly one porridge.\"\"\"\n",
    "    count_semolina_lovers: int = int(input())\n",
    "    count_oatmeal_lovers: int = int(input())\n",
    "    total_entries: int = count_semolina_lovers + count_oatmeal_lovers\n",
    "\n",
    "    surname_counts: dict[str, int] = {}\n",
    "    for _ in range(total_entries):\n",
    "        surname: str = input()\n",
    "        surname_counts[surname] = surname_counts.get(surname, 0) + 1\n",
    "\n",
    "    unique_lovers: list[str] = [\n",
    "        name for name, occurrences in surname_counts.items() if occurrences == 1\n",
    "    ]\n",
    "    if unique_lovers:\n",
    "        unique_lovers.sort()\n",
    "        for name in unique_lovers:\n",
    "            print(name)\n",
    "    else:\n",
    "        print(\"Таких нет\")\n",
    "\n",
    "\n",
    "task_6()"
   ]
  },
  {
   "cell_type": "code",
   "execution_count": null,
   "id": "845bf3e7",
   "metadata": {},
   "outputs": [
    {
     "name": "stdout",
     "output_type": "stream",
     "text": [
      ".... . .-.. .-.. ---\n",
      ".-- --- .-. .-.. -..\n"
     ]
    }
   ],
   "source": [
    "def task_7() -> None:\n",
    "    \"\"\"Encode each word of input text into Morse code.\"\"\"\n",
    "    morse: dict[str, str] = {\n",
    "        \"A\": \".-\",\n",
    "        \"B\": \"-...\",\n",
    "        \"C\": \"-.-.\",\n",
    "        \"D\": \"-..\",\n",
    "        \"E\": \".\",\n",
    "        \"F\": \"..-.\",\n",
    "        \"G\": \"--.\",\n",
    "        \"H\": \"....\",\n",
    "        \"I\": \"..\",\n",
    "        \"J\": \".---\",\n",
    "        \"K\": \"-.-\",\n",
    "        \"L\": \".-..\",\n",
    "        \"M\": \"--\",\n",
    "        \"N\": \"-.\",\n",
    "        \"O\": \"---\",\n",
    "        \"P\": \".--.\",\n",
    "        \"Q\": \"--.-\",\n",
    "        \"R\": \".-.\",\n",
    "        \"S\": \"...\",\n",
    "        \"T\": \"-\",\n",
    "        \"U\": \"..-\",\n",
    "        \"V\": \"...-\",\n",
    "        \"W\": \".--\",\n",
    "        \"X\": \"-..-\",\n",
    "        \"Y\": \"-.--\",\n",
    "        \"Z\": \"--..\",\n",
    "        \"0\": \"-----\",\n",
    "        \"1\": \".----\",\n",
    "        \"2\": \"..---\",\n",
    "        \"3\": \"...--\",\n",
    "        \"4\": \"....-\",\n",
    "        \"5\": \".....\",\n",
    "        \"6\": \"-....\",\n",
    "        \"7\": \"--...\",\n",
    "        \"8\": \"---..\",\n",
    "        \"9\": \"----.\",\n",
    "    }\n",
    "    words: list[str] = input().split()\n",
    "    for word in words:\n",
    "        encoded_letters: list[str] = [morse[char.upper()] for char in word]\n",
    "        print(\" \".join(encoded_letters))\n",
    "\n",
    "\n",
    "task_7()"
   ]
  },
  {
   "cell_type": "code",
   "execution_count": 17,
   "id": "e1ebc386",
   "metadata": {},
   "outputs": [
    {
     "name": "stdout",
     "output_type": "stream",
     "text": [
      "Таких нет\n"
     ]
    }
   ],
   "source": [
    "def task_8() -> None:\n",
    "    \"\"\"List surnames of children who like a given porridge.\"\"\"\n",
    "    count_children: int = int(input())\n",
    "    food_to_names: dict[str, list[str]] = {}\n",
    "    for _ in range(count_children):\n",
    "        name, *foods = input().split()\n",
    "        for food in foods:\n",
    "            if food not in food_to_names:\n",
    "                food_to_names[food] = [name]\n",
    "            else:\n",
    "                food_to_names[food].append(name)\n",
    "    query: str = input()\n",
    "    result: list[str] = food_to_names.get(query, [])\n",
    "    if result:\n",
    "        for surname in sorted(result):\n",
    "            print(surname)\n",
    "    else:\n",
    "        print(\"Таких нет\")\n",
    "\n",
    "\n",
    "task_8()"
   ]
  },
  {
   "cell_type": "code",
   "execution_count": null,
   "id": "cd6fa78c",
   "metadata": {},
   "outputs": [
    {
     "name": "stdout",
     "output_type": "stream",
     "text": [
      "3 2\n",
      "4 1\n",
      "45 1\n",
      "342 3\n",
      "3432 1\n",
      "5авв 1\n",
      "ыи 1\n",
      "аи 1\n",
      "в 1\n",
      "пс 1\n"
     ]
    }
   ],
   "source": [
    "def task_9() -> None:\n",
    "    \"\"\"Count occurrences of each word.\"\"\"\n",
    "    counts: dict[str, int] = {}\n",
    "    while True:\n",
    "        line: str = input()\n",
    "        if line == \"\":\n",
    "            break\n",
    "        for word in line.split():\n",
    "            counts[word] = counts.get(word, 0) + 1\n",
    "    for word, count in counts.items():\n",
    "        print(word, count)\n",
    "\n",
    "\n",
    "task_9()"
   ]
  },
  {
   "cell_type": "code",
   "execution_count": null,
   "id": "07eccd37",
   "metadata": {},
   "outputs": [
    {
     "name": "stdout",
     "output_type": "stream",
     "text": [
      "privet\n"
     ]
    }
   ],
   "source": [
    "def task_10() -> None:\n",
    "    \"\"\"Transliterate Russian text to Latin per standard R 52535.1-2006.\"\"\"\n",
    "    mapping_lower: dict[str, str] = {\n",
    "        \"а\": \"a\",\n",
    "        \"б\": \"b\",\n",
    "        \"в\": \"v\",\n",
    "        \"г\": \"g\",\n",
    "        \"д\": \"d\",\n",
    "        \"е\": \"e\",\n",
    "        \"ё\": \"e\",\n",
    "        \"ж\": \"zh\",\n",
    "        \"з\": \"z\",\n",
    "        \"и\": \"i\",\n",
    "        \"й\": \"i\",\n",
    "        \"к\": \"k\",\n",
    "        \"л\": \"l\",\n",
    "        \"м\": \"m\",\n",
    "        \"н\": \"n\",\n",
    "        \"о\": \"o\",\n",
    "        \"п\": \"p\",\n",
    "        \"р\": \"r\",\n",
    "        \"с\": \"s\",\n",
    "        \"т\": \"t\",\n",
    "        \"у\": \"u\",\n",
    "        \"ф\": \"f\",\n",
    "        \"х\": \"kh\",\n",
    "        \"ц\": \"tc\",\n",
    "        \"ч\": \"ch\",\n",
    "        \"ш\": \"sh\",\n",
    "        \"щ\": \"shch\",\n",
    "        \"ы\": \"y\",\n",
    "        \"э\": \"e\",\n",
    "        \"ю\": \"iu\",\n",
    "        \"я\": \"ia\",\n",
    "        \"ъ\": \"\",\n",
    "        \"ь\": \"\",\n",
    "    }\n",
    "    text: str = input()\n",
    "    result: list[str] = []\n",
    "    for ch in text:\n",
    "        lower_char: str = ch.lower()\n",
    "        if lower_char in mapping_lower:\n",
    "            latin: str = mapping_lower[lower_char]\n",
    "            if latin:\n",
    "                result.append(latin.capitalize() if ch.isupper() else latin)\n",
    "        else:\n",
    "            result.append(ch)\n",
    "    print(\"\".join(result))\n",
    "\n",
    "\n",
    "task_10()"
   ]
  },
  {
   "cell_type": "code",
   "execution_count": 18,
   "id": "5a05eb56",
   "metadata": {},
   "outputs": [
    {
     "name": "stdout",
     "output_type": "stream",
     "text": [
      "2\n"
     ]
    }
   ],
   "source": [
    "def task_11() -> None:\n",
    "    \"\"\"Count employees with duplicate surnames.\"\"\"\n",
    "    count_employees: int = int(input())\n",
    "    surname_counts: dict[str, int] = {}\n",
    "    for _ in range(count_employees):\n",
    "        surname: str = input()\n",
    "        surname_counts[surname] = surname_counts.get(surname, 0) + 1\n",
    "    duplicate_total: int = sum(cnt for cnt in surname_counts.values() if cnt > 1)\n",
    "    print(duplicate_total)\n",
    "\n",
    "\n",
    "task_11()"
   ]
  },
  {
   "cell_type": "code",
   "execution_count": 21,
   "id": "e8fdb1b3",
   "metadata": {},
   "outputs": [
    {
     "name": "stdout",
     "output_type": "stream",
     "text": [
      "Маликов - 2\n"
     ]
    }
   ],
   "source": [
    "def task_12() -> None:\n",
    "    \"\"\"List duplicate surnames with their counts.\"\"\"\n",
    "    count_employees: int = int(input())\n",
    "    surname_counts: dict[str, int] = {}\n",
    "    for _ in range(count_employees):\n",
    "        surname: str = input()\n",
    "        surname_counts[surname] = surname_counts.get(surname, 0) + 1\n",
    "\n",
    "    duplicates: list[tuple[str, int]] = [\n",
    "        (name, cnt) for name, cnt in surname_counts.items() if cnt > 1\n",
    "    ]\n",
    "\n",
    "    if not duplicates:\n",
    "        print(\"Однофамильцев нет\")\n",
    "    else:\n",
    "        for name, cnt in sorted(duplicates, key=lambda item: item[0]):\n",
    "            print(f\"{name} - {cnt}\")\n",
    "\n",
    "\n",
    "task_12()"
   ]
  },
  {
   "cell_type": "code",
   "execution_count": null,
   "id": "f0a7b742",
   "metadata": {},
   "outputs": [
    {
     "name": "stdout",
     "output_type": "stream",
     "text": [
      "Манная каша\n",
      "Овсянка\n"
     ]
    }
   ],
   "source": [
    "def task_13() -> None:\n",
    "    \"\"\"List dishes not cooked this week.\"\"\"\n",
    "    count_dishes: int = int(input())\n",
    "    all_dishes: set[str] = set()\n",
    "    for _ in range(count_dishes):\n",
    "        dish: str = input()\n",
    "        all_dishes.add(dish)\n",
    "\n",
    "    count_days: int = int(input())\n",
    "    cooked: set[str] = set()\n",
    "    for _ in range(count_days):\n",
    "        dishes_today: int = int(input())\n",
    "        for _ in range(dishes_today):\n",
    "            dish = input()\n",
    "            cooked.add(dish)\n",
    "\n",
    "    to_cook: set[str] = all_dishes - cooked\n",
    "    if to_cook:\n",
    "        for dish in sorted(to_cook):\n",
    "            print(dish)\n",
    "    else:\n",
    "        print(\"Готовить нечего\")\n",
    "\n",
    "\n",
    "task_13()"
   ]
  },
  {
   "cell_type": "code",
   "execution_count": 31,
   "id": "104d0b5f",
   "metadata": {},
   "outputs": [
    {
     "name": "stdout",
     "output_type": "stream",
     "text": [
      "Готовить нечего\n"
     ]
    }
   ],
   "source": [
    "def task_14() -> None:\n",
    "    \"\"\"Determine which recipes can be cooked given available products.\"\"\"\n",
    "    count_products: int = int(input())\n",
    "    available_products: set[str] = {input() for _ in range(count_products)}\n",
    "\n",
    "    count_recipes: int = int(input())\n",
    "    cookable: list[str] = []\n",
    "    for _ in range(count_recipes):\n",
    "        dish_name: str = input()\n",
    "        num_ingredients: int = int(input())\n",
    "        required: set[str] = {input() for _ in range(num_ingredients)}\n",
    "        if required <= available_products:\n",
    "            cookable.append(dish_name)\n",
    "\n",
    "    if cookable:\n",
    "        for name in sorted(cookable):\n",
    "            print(name)\n",
    "    else:\n",
    "        print(\"Готовить нечего\")\n",
    "\n",
    "\n",
    "task_14()"
   ]
  },
  {
   "cell_type": "code",
   "execution_count": 30,
   "id": "5b0aebdc",
   "metadata": {},
   "outputs": [
    {
     "name": "stdout",
     "output_type": "stream",
     "text": [
      "[\n",
      "    {\n",
      "        \"digits\": 3,\n",
      "        \"units\": 2,\n",
      "        \"zeros\": 1\n",
      "    },\n",
      "    {\n",
      "        \"digits\": 4,\n",
      "        \"units\": 1,\n",
      "        \"zeros\": 3\n",
      "    },\n",
      "    {\n",
      "        \"digits\": 4,\n",
      "        \"units\": 2,\n",
      "        \"zeros\": 2\n",
      "    }\n",
      "]\n"
     ]
    }
   ],
   "source": [
    "def task_15() -> None:\n",
    "    \"\"\"Compute binary digit, one‑count and zero‑count statistics for each integer.\"\"\"\n",
    "    tokens: list[str] = input().split()\n",
    "    result: list[dict[str, int]] = []\n",
    "    for tok in tokens:\n",
    "        number: int = int(tok)\n",
    "        binary: str = f\"{number:b}\"\n",
    "        result.append(\n",
    "            {\n",
    "                \"digits\": len(binary),\n",
    "                \"units\": binary.count(\"1\"),\n",
    "                \"zeros\": binary.count(\"0\"),\n",
    "            }\n",
    "        )\n",
    "    print(json.dumps(result, ensure_ascii=False, indent=4))\n",
    "\n",
    "\n",
    "task_15()"
   ]
  },
  {
   "cell_type": "code",
   "execution_count": 29,
   "id": "e5759ace",
   "metadata": {},
   "outputs": [
    {
     "name": "stdout",
     "output_type": "stream",
     "text": [
      "сосна\n",
      "елочка\n",
      "медведь\n",
      "волк\n"
     ]
    }
   ],
   "source": [
    "def task_16() -> None:\n",
    "    \"\"\"Find objects adjacent to the word 'зайка' in the descriptions.\"\"\"\n",
    "    neighbors: set[str] = set()\n",
    "    while True:\n",
    "        line: str = input()\n",
    "        if line == \"\":\n",
    "            break\n",
    "        words: list[str] = line.split()\n",
    "        for idx, word in enumerate(words):\n",
    "            if word == \"зайка\":\n",
    "                if idx > 0:\n",
    "                    neighbors.add(words[idx - 1])\n",
    "                if idx < len(words) - 1:\n",
    "                    neighbors.add(words[idx + 1])\n",
    "    for obj in neighbors:\n",
    "        print(obj)\n",
    "\n",
    "\n",
    "task_16()"
   ]
  },
  {
   "cell_type": "code",
   "execution_count": null,
   "id": "40a04a2a",
   "metadata": {},
   "outputs": [
    {
     "name": "stdout",
     "output_type": "stream",
     "text": [
      "Васильев: Иванов, Кириллов, Яковлев\n",
      "Иванов: Васильев, Кириллов, Яковлев\n",
      "Кириллов: Васильев, Иванов, Яковлев\n",
      "Петров: Сергеев\n",
      "Сергеев: Петров\n",
      "Яковлев: Васильев, Иванов, Кириллов\n"
     ]
    }
   ],
   "source": [
    "def task_17() -> None:\n",
    "    \"\"\"Compute second‑level friends for each person.\"\"\"\n",
    "    # build adjacency: each person maps to a set of direct friends\n",
    "    friend_map: dict[str, set[str]] = {}\n",
    "    while True:\n",
    "        line: str = input()\n",
    "        if not line:\n",
    "            break\n",
    "        person1, person2 = line.split()\n",
    "        for p1, q1 in ((person1, person2), (person2, person1)):\n",
    "            if p1 not in friend_map:\n",
    "                friend_map[p1] = set()\n",
    "            friend_map[p1].add(q1)\n",
    "\n",
    "    # for each person in alphabetical order, compute friends of friends\n",
    "    for person in sorted(friend_map):\n",
    "        second_level: set[str] = set()\n",
    "        for direct in friend_map[person]:\n",
    "            # add all friends of this direct friend\n",
    "            second_level |= friend_map.get(direct, set())\n",
    "        # exclude the person themself and their direct friends\n",
    "        second_level.discard(person)\n",
    "        second_level -= friend_map[person]\n",
    "\n",
    "        if second_level:\n",
    "            print(f\"{person}: {', '.join(sorted(second_level))}\")\n",
    "        else:\n",
    "            # nobody at second level\n",
    "            print(f\"{person}:\")\n",
    "\n",
    "\n",
    "task_17()"
   ]
  },
  {
   "cell_type": "code",
   "execution_count": 27,
   "id": "058bfaaa",
   "metadata": {},
   "outputs": [
    {
     "name": "stdout",
     "output_type": "stream",
     "text": [
      "3\n"
     ]
    }
   ],
   "source": [
    "def task_18() -> None:\n",
    "    \"\"\"Compute the maximum number of points.\"\"\"\n",
    "    count_points: int = int(input())\n",
    "    freq: dict[tuple[int, int], int] = {}\n",
    "    for _ in range(count_points):\n",
    "        x_coord, y_coord = map(int, input().split())\n",
    "        key = (x_coord // 10, y_coord // 10)\n",
    "        freq[key] = freq.get(key, 0) + 1\n",
    "\n",
    "    print(max(freq.values(), default=0))\n",
    "\n",
    "\n",
    "task_18()"
   ]
  },
  {
   "cell_type": "code",
   "execution_count": 26,
   "id": "6436577a",
   "metadata": {},
   "outputs": [
    {
     "name": "stdout",
     "output_type": "stream",
     "text": [
      "домик\n",
      "зайчик\n",
      "кубики\n",
      "кукла\n"
     ]
    }
   ],
   "source": [
    "def task_19() -> None:\n",
    "    \"\"\"Read N children with their toys.\"\"\"\n",
    "    count_children: int = int(input())\n",
    "    toy_owner_counts: dict[str, int] = {}\n",
    "\n",
    "    for _ in range(count_children):\n",
    "        line: str = input()\n",
    "        # split into name and the comma‑separated list of toys\n",
    "        _, toys_part = line.split(\":\", 1)\n",
    "        # collect each toy once per child\n",
    "        owned: set[str] = set()\n",
    "        for raw_toy in toys_part.split(\",\"):\n",
    "            toy_name: str = raw_toy.strip()\n",
    "            if toy_name:\n",
    "                owned.add(toy_name)\n",
    "        # increment the owner count for each toy\n",
    "        for toy in owned:\n",
    "            toy_owner_counts[toy] = toy_owner_counts.get(toy, 0) + 1\n",
    "\n",
    "    # select those toys owned by exactly one child\n",
    "    unique_toys: list[str] = [\n",
    "        toy for toy, owners in toy_owner_counts.items() if owners == 1\n",
    "    ]\n",
    "\n",
    "    # output in alphabetical order\n",
    "    for toy in sorted(unique_toys):\n",
    "        print(toy)\n",
    "\n",
    "\n",
    "task_19()"
   ]
  },
  {
   "cell_type": "code",
   "execution_count": null,
   "id": "bcfae453",
   "metadata": {},
   "outputs": [
    {
     "name": "stdout",
     "output_type": "stream",
     "text": [
      "2 - 3, 5, 7, 9, 11, 13, 15, 17, 19\n",
      "3 - 2, 4, 5, 7, 8, 10, 11, 13, 14, 16, 17, 19, 20\n",
      "4 - 3, 5, 7, 9, 11, 13, 15, 17, 19\n",
      "5 - 2, 3, 4, 6, 7, 8, 9, 11, 12, 13, 14, 16, 17, 18, 19\n",
      "6 - 5, 7, 11, 13, 17, 19\n",
      "7 - 2, 3, 4, 5, 6, 8, 9, 10, 11, 12, 13, 15, 16, 17, 18, 19, 20\n",
      "8 - 3, 5, 7, 9, 11, 13, 15, 17, 19\n",
      "9 - 2, 4, 5, 7, 8, 10, 11, 13, 14, 16, 17, 19, 20\n",
      "10 - 3, 7, 9, 11, 13, 17, 19\n",
      "11 - 2, 3, 4, 5, 6, 7, 8, 9, 10, 12, 13, 14, 15, 16, 17, 18, 19, 20\n",
      "12 - 5, 7, 11, 13, 17, 19\n",
      "13 - 2, 3, 4, 5, 6, 7, 8, 9, 10, 11, 12, 14, 15, 16, 17, 18, 19, 20\n",
      "14 - 3, 5, 9, 11, 13, 15, 17, 19\n",
      "15 - 2, 4, 7, 8, 11, 13, 14, 16, 17, 19\n",
      "16 - 3, 5, 7, 9, 11, 13, 15, 17, 19\n",
      "17 - 2, 3, 4, 5, 6, 7, 8, 9, 10, 11, 12, 13, 14, 15, 16, 18, 19, 20\n",
      "18 - 5, 7, 11, 13, 17, 19\n",
      "19 - 2, 3, 4, 5, 6, 7, 8, 9, 10, 11, 12, 13, 14, 15, 16, 17, 18, 20\n",
      "20 - 3, 7, 9, 11, 13, 17, 19\n"
     ]
    }
   ],
   "source": [
    "def task_20() -> None:\n",
    "    \"\"\"For each number, list other numbers that are coprime with it.\"\"\"\n",
    "    # read numbers separated by ';' and optional spaces\n",
    "    tokens: list[str] = [tok.strip() for tok in input().split(\";\") if tok.strip()]\n",
    "    numbers: list[int] = [int(tok) for tok in tokens]\n",
    "\n",
    "    # work with each unique number in ascending order\n",
    "    unique_numbers: list[int] = sorted(set(numbers))\n",
    "\n",
    "    for a2 in unique_numbers:\n",
    "        # find others b2 ≠ a2 with gcd(a2, b2) == 1\n",
    "        coprimes: list[int] = [\n",
    "            b2 for b2 in unique_numbers if b2 != a2 and math.gcd(a2, b2) == 1\n",
    "        ]\n",
    "        if coprimes:\n",
    "            # format: \"a - b1, b2, b3, ...\"\n",
    "            print(f\"{a2} - {', '.join(str(b2) for b2 in coprimes)}\")\n",
    "\n",
    "\n",
    "task_20()"
   ]
  }
 ],
 "metadata": {
  "kernelspec": {
   "display_name": "dsfb",
   "language": "python",
   "name": "python3"
  },
  "language_info": {
   "codemirror_mode": {
    "name": "ipython",
    "version": 3
   },
   "file_extension": ".py",
   "mimetype": "text/x-python",
   "name": "python",
   "nbconvert_exporter": "python",
   "pygments_lexer": "ipython3",
   "version": "3.12.9"
  }
 },
 "nbformat": 4,
 "nbformat_minor": 5
}
