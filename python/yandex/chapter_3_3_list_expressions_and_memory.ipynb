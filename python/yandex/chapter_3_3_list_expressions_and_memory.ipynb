{
 "cells": [
  {
   "cell_type": "code",
   "execution_count": null,
   "id": "84a9ce43",
   "metadata": {},
   "outputs": [],
   "source": [
    "\"\"\"List Expressions: Memory Model for Python Types.\"\"\""
   ]
  },
  {
   "cell_type": "code",
   "execution_count": null,
   "id": "0e231785",
   "metadata": {},
   "outputs": [
    {
     "name": "stdout",
     "output_type": "stream",
     "text": [
      "[1, 4, 9, 16, 25]\n"
     ]
    }
   ],
   "source": [
    "from typing import Sequence\n",
    "\n",
    "\n",
    "def task_1() -> None:\n",
    "    \"\"\"Square numbers.\"\"\"\n",
    "    a_num: int = 1\n",
    "    b_num: int = 5\n",
    "    numbers_squared: list[int] = [i_num**2 for i_num in range(a_num, b_num + 1)]\n",
    "    print(numbers_squared)\n",
    "\n",
    "\n",
    "task_1()"
   ]
  },
  {
   "cell_type": "code",
   "execution_count": null,
   "id": "fe08fe43",
   "metadata": {},
   "outputs": [
    {
     "name": "stdout",
     "output_type": "stream",
     "text": [
      "[36, 25, 16, 9, 4, 1, 0, 1, 4, 9]\n"
     ]
    }
   ],
   "source": [
    "def task_2() -> None:\n",
    "    \"\"\"Square numbers also wise versa.\"\"\"\n",
    "    a_num: int = 6\n",
    "    b_num: int = -3\n",
    "    numbers_squared2: list[int] = [\n",
    "        x_num**2\n",
    "        for x_num in range(\n",
    "            a_num, b_num + (1 if a_num < b_num else -1), 1 if a_num < b_num else -1\n",
    "        )\n",
    "    ]\n",
    "    print(numbers_squared2)\n",
    "\n",
    "\n",
    "task_2()"
   ]
  },
  {
   "cell_type": "code",
   "execution_count": 9,
   "id": "e89f9041",
   "metadata": {},
   "outputs": [
    {
     "name": "stdout",
     "output_type": "stream",
     "text": [
      "[2, 4]\n"
     ]
    }
   ],
   "source": [
    "def task_3() -> None:\n",
    "    \"\"\"Make list only with numbers from a to b multiples of d.\"\"\"\n",
    "    a_num: int = 1\n",
    "    b_num: int = 5\n",
    "    d_num: int = 2\n",
    "    numbers_filtered: list[int] = [\n",
    "        i_num for i_num in range(a_num, b_num + 1) if i_num % d_num == 0\n",
    "    ]\n",
    "    print(numbers_filtered)\n",
    "\n",
    "\n",
    "task_3()"
   ]
  },
  {
   "cell_type": "code",
   "execution_count": null,
   "id": "11ba1418",
   "metadata": {},
   "outputs": [
    {
     "name": "stdout",
     "output_type": "stream",
     "text": [
      "{1, 3, 5}\n"
     ]
    }
   ],
   "source": [
    "def task_4() -> None:\n",
    "    \"\"\"Make set only with even numbers.\"\"\"\n",
    "    numbers: list[int] = [1, 2, 3, 4, 5]\n",
    "    numbers_filtered: set[int] = {i_num for i_num in numbers if i_num % 2 != 0}\n",
    "    print(numbers_filtered)\n",
    "\n",
    "\n",
    "task_4()"
   ]
  },
  {
   "cell_type": "code",
   "execution_count": null,
   "id": "4e3b14c4",
   "metadata": {},
   "outputs": [
    {
     "name": "stdout",
     "output_type": "stream",
     "text": [
      "{1, 4}\n"
     ]
    }
   ],
   "source": [
    "def task_5() -> None:\n",
    "    \"\"\"Make set only with fully squared nums.\"\"\"\n",
    "    numbers: list[int] = [1, 2, 3, 4, 5]\n",
    "    numbers_filtered: set[int] = {\n",
    "        i_num for i_num in numbers if i_num == int(i_num**0.5) ** 2\n",
    "    }\n",
    "    print(numbers_filtered)\n",
    "\n",
    "\n",
    "task_5()"
   ]
  },
  {
   "cell_type": "code",
   "execution_count": null,
   "id": "65934418",
   "metadata": {},
   "outputs": [],
   "source": [
    "def task_6() -> None:\n",
    "    \"\"\"Make list length of words in sentence.\"\"\"\n",
    "    sentence: str = \"Ехали медведи на велосипеде\"\n",
    "    numbers_filtered: list[int] = [\n",
    "        len(i_num) for i_num in sentence.split() if i_num != \" \"\n",
    "    ]\n",
    "    print(numbers_filtered)\n",
    "\n",
    "\n",
    "task_6()"
   ]
  },
  {
   "cell_type": "code",
   "execution_count": 12,
   "id": "53df0016",
   "metadata": {},
   "outputs": [
    {
     "name": "stdout",
     "output_type": "stream",
     "text": [
      "33333333\n"
     ]
    }
   ],
   "source": [
    "def task_7() -> None:\n",
    "    \"\"\"Extract all digits from the given text and print them as a single string.\"\"\"\n",
    "    text: str = (\n",
    "        \"33 коровы,\\n\"\n",
    "        \"33 коровы,\\n\"\n",
    "        \"33 коровы -\\n\"\n",
    "        \"Свежая строка.\\n\"\n",
    "        \"33 коровы,\\n\"\n",
    "        \"Стих родился новый,\\n\"\n",
    "        \"Как стакан парного молока.\\n\"\n",
    "        \"Стих родился новый,\\n\"\n",
    "        \"Как стакан парного молока.\\n\"\n",
    "    )\n",
    "    digits_list: list[str] = [character for character in text if character.isdigit()]\n",
    "    digits_string: str = \"\".join(digits_list)\n",
    "    print(digits_string)\n",
    "\n",
    "\n",
    "task_7()"
   ]
  },
  {
   "cell_type": "code",
   "execution_count": 15,
   "id": "d3da75fc",
   "metadata": {},
   "outputs": [
    {
     "name": "stdout",
     "output_type": "stream",
     "text": [
      "РФ\n"
     ]
    }
   ],
   "source": [
    "def task_8() -> None:\n",
    "    \"\"\"Generate an abbreviation from the first letters words in the string.\"\"\"\n",
    "    string: str = \"Российская Федерация\"\n",
    "    abbreviation: str = \"\".join([word[0].upper() for word in string.split()])\n",
    "    print(abbreviation)\n",
    "\n",
    "\n",
    "task_8()"
   ]
  },
  {
   "cell_type": "code",
   "execution_count": 16,
   "id": "065b1b0d",
   "metadata": {},
   "outputs": [
    {
     "name": "stdout",
     "output_type": "stream",
     "text": [
      "1 - 2 - 3\n"
     ]
    }
   ],
   "source": [
    "def task_9() -> None:\n",
    "    \"\"\"Convert a list of natural numbers.\"\"\"\n",
    "    numbers: list[int] = [3, 1, 2, 3, 2, 2, 1]\n",
    "    unique_sorted: list[int] = sorted(set(numbers))\n",
    "    stringified_numbers: list[str] = [str(value) for value in unique_sorted]\n",
    "    result: str = \" - \".join(stringified_numbers)\n",
    "    print(result)\n",
    "\n",
    "\n",
    "task_9()"
   ]
  },
  {
   "cell_type": "code",
   "execution_count": 17,
   "id": "32206afd",
   "metadata": {},
   "outputs": [
    {
     "name": "stdout",
     "output_type": "stream",
     "text": [
      "['Ехали', 'медведи', 'велосипеде']\n"
     ]
    }
   ],
   "source": [
    "def task_10() -> None:\n",
    "    \"\"\"Filter words containing three or more vowels.\"\"\"\n",
    "    words: str = \"Ехали медведи на велосипеде\"\n",
    "    result: list[str] = [\n",
    "        word\n",
    "        for word in words.split()\n",
    "        if sum(letter.lower() in \"ауоэеиыaeiouy\" for letter in word) >= 3\n",
    "    ]\n",
    "    print(result)\n",
    "\n",
    "\n",
    "task_10()"
   ]
  },
  {
   "cell_type": "code",
   "execution_count": 18,
   "id": "9f525f8a",
   "metadata": {},
   "outputs": [
    {
     "name": "stdout",
     "output_type": "stream",
     "text": [
      "{3, 4, 5}\n"
     ]
    }
   ],
   "source": [
    "def task_11() -> None:\n",
    "    \"\"\"Build set of numbers occurring exactly once in the list.\"\"\"\n",
    "    numbers: list[int] = [1, 2, 1, 3, 1, 2, 2, 4, 5]\n",
    "    unique_once: set[int] = {value for value in numbers if numbers.count(value) == 1}\n",
    "    print(unique_once)\n",
    "\n",
    "\n",
    "task_11()"
   ]
  },
  {
   "cell_type": "code",
   "execution_count": 19,
   "id": "6c3669f1",
   "metadata": {},
   "outputs": [
    {
     "name": "stdout",
     "output_type": "stream",
     "text": [
      "20\n"
     ]
    }
   ],
   "source": [
    "def task_12() -> None:\n",
    "    \"\"\"Return max product of two different numbers from the set.\"\"\"\n",
    "    numbers: set[int] = {1, 2, 3, 4, 5}\n",
    "    max_product: int = max(\n",
    "        first * second for first in numbers for second in numbers if first != second\n",
    "    )\n",
    "    print(max_product)\n",
    "\n",
    "\n",
    "task_12()"
   ]
  },
  {
   "cell_type": "code",
   "execution_count": 21,
   "id": "9c902145",
   "metadata": {},
   "outputs": [
    {
     "name": "stdout",
     "output_type": "stream",
     "text": [
      "a\n"
     ]
    }
   ],
   "source": [
    "def task_13() -> None:\n",
    "    \"\"\"Find the key whose list values sum to the smallest total.\"\"\"\n",
    "    data: dict[str, list[int]] = {\"a\": [1, 2, 3], \"b\": [2, 3, 4, 5]}\n",
    "    result: str = min((sum(values), key) for key, values in data.items())[1]\n",
    "    print(result)\n",
    "\n",
    "\n",
    "task_13()"
   ]
  },
  {
   "cell_type": "code",
   "execution_count": 22,
   "id": "31cb3312",
   "metadata": {},
   "outputs": [
    {
     "name": "stdout",
     "output_type": "stream",
     "text": [
      "{'a', 'b'}\n"
     ]
    }
   ],
   "source": [
    "def task_14() -> None:\n",
    "    \"\"\"Build set of keys whose lists contain duplicates.\"\"\"\n",
    "    data: dict[str, list[int]] = {\"a\": [1, 2, 1], \"b\": [2, 3, 2, 5, 1]}\n",
    "    repeated_keys: set[str] = {\n",
    "        key for key, values in data.items() if len(values) != len(set(values))\n",
    "    }\n",
    "    print(repeated_keys)\n",
    "\n",
    "\n",
    "task_14()"
   ]
  },
  {
   "cell_type": "code",
   "execution_count": 23,
   "id": "07fec8d8",
   "metadata": {},
   "outputs": [
    {
     "name": "stdout",
     "output_type": "stream",
     "text": [
      "{'м': 4, 'а': 4, 'ы': 1, 'л': 1, 'р': 1, 'у': 1}\n"
     ]
    }
   ],
   "source": [
    "def task_15() -> None:\n",
    "    \"\"\"Count letter frequencies in the given text.\"\"\"\n",
    "    text: str = \"Мама мыла раму!\"\n",
    "    frequencies: dict[str, int] = {\n",
    "        letter.lower(): text.lower().count(letter.lower())\n",
    "        for letter in text\n",
    "        if letter.isalpha()\n",
    "    }\n",
    "    print(frequencies)\n",
    "\n",
    "\n",
    "task_15()"
   ]
  },
  {
   "cell_type": "code",
   "execution_count": 24,
   "id": "d8579d74",
   "metadata": {},
   "outputs": [
    {
     "name": "stdout",
     "output_type": "stream",
     "text": [
      "aabbbc\n"
     ]
    }
   ],
   "source": [
    "def task_16() -> None:\n",
    "    \"\"\"Restore string from run-length encoding list.\"\"\"\n",
    "    rle: list[tuple[str, int]] = [(\"a\", 2), (\"b\", 3), (\"c\", 1)]\n",
    "    result: str = \"\".join(letter * count for letter, count in rle)\n",
    "    print(result)\n",
    "\n",
    "\n",
    "task_16()"
   ]
  },
  {
   "cell_type": "code",
   "execution_count": null,
   "id": "08052d57",
   "metadata": {},
   "outputs": [
    {
     "name": "stdout",
     "output_type": "stream",
     "text": [
      "[[1, 2, 3], [2, 4, 6], [3, 6, 9]]\n"
     ]
    }
   ],
   "source": [
    "def task_17() -> None:\n",
    "    \"\"\"Generate multiplication table of size n_num.\"\"\"\n",
    "    n_num: int = 3\n",
    "    table: list[list[int]] = [\n",
    "        [row * col for col in range(1, n_num + 1)] for row in range(1, n_num + 1)\n",
    "    ]\n",
    "    print(table)\n",
    "\n",
    "\n",
    "task_17()"
   ]
  },
  {
   "cell_type": "code",
   "execution_count": 26,
   "id": "ab4b83fc",
   "metadata": {},
   "outputs": [
    {
     "name": "stdout",
     "output_type": "stream",
     "text": [
      "{1: [1], 2: [1, 2], 3: [1, 3], 4: [1, 2, 4], 5: [1, 5]}\n"
     ]
    }
   ],
   "source": [
    "def task_18() -> None:\n",
    "    \"\"\"Map each number to its divisors (1 through the number).\"\"\"\n",
    "    numbers: set[int] = {1, 2, 3, 4, 5}\n",
    "    divisors_map: dict[int, list[int]] = {\n",
    "        num: [i for i in range(1, num + 1) if num % i == 0] for num in numbers\n",
    "    }\n",
    "    print(divisors_map)\n",
    "\n",
    "\n",
    "task_18()"
   ]
  },
  {
   "cell_type": "code",
   "execution_count": 27,
   "id": "443f9eaa",
   "metadata": {},
   "outputs": [
    {
     "name": "stdout",
     "output_type": "stream",
     "text": [
      "{2, 3, 5}\n"
     ]
    }
   ],
   "source": [
    "def task_19() -> None:\n",
    "    \"\"\"Filter prime numbers from the given set.\"\"\"\n",
    "    numbers: set[int] = {1, 2, 3, 4, 5}\n",
    "    primes: set[int] = {\n",
    "        number\n",
    "        for number in numbers\n",
    "        if number > 1 and all(number % divisor for divisor in range(2, number))\n",
    "    }\n",
    "    print(primes)\n",
    "\n",
    "\n",
    "task_19()"
   ]
  },
  {
   "cell_type": "code",
   "execution_count": 28,
   "id": "0701f1ed",
   "metadata": {},
   "outputs": [
    {
     "name": "stdout",
     "output_type": "stream",
     "text": [
      "{('велосипеде', 'ехали'), ('велосипеде', 'медведи')}\n"
     ]
    }
   ],
   "source": [
    "def task_20() -> None:\n",
    "    \"\"\"Find word pairs with ≥3 common letters.\"\"\"\n",
    "    text: str = \"ехали медведи на велосипеде\"\n",
    "    words_list: Sequence[str] = text.split()\n",
    "    common_pairs: set[tuple[str, str]] = {\n",
    "        (first, second)\n",
    "        for first in words_list\n",
    "        for second in words_list\n",
    "        if first < second and len(set(first) & set(second)) >= 3\n",
    "    }\n",
    "    print(common_pairs)\n",
    "\n",
    "\n",
    "task_20()"
   ]
  }
 ],
 "metadata": {
  "kernelspec": {
   "display_name": "dsfb",
   "language": "python",
   "name": "python3"
  },
  "language_info": {
   "codemirror_mode": {
    "name": "ipython",
    "version": 3
   },
   "file_extension": ".py",
   "mimetype": "text/x-python",
   "name": "python",
   "nbconvert_exporter": "python",
   "pygments_lexer": "ipython3",
   "version": "3.12.9"
  }
 },
 "nbformat": 4,
 "nbformat_minor": 5
}
