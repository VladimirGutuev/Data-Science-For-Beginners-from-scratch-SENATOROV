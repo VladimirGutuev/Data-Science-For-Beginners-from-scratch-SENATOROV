{
 "cells": [
  {
   "cell_type": "code",
   "execution_count": null,
   "id": "cd4f77f7",
   "metadata": {},
   "outputs": [],
   "source": [
    "\"\"\"Working with built-in functions from python and itertools.\"\"\""
   ]
  },
  {
   "cell_type": "code",
   "execution_count": null,
   "id": "ed16ed22",
   "metadata": {},
   "outputs": [
    {
     "name": "stdout",
     "output_type": "stream",
     "text": [
      "1. привет,\n",
      "2. мир!\n"
     ]
    }
   ],
   "source": [
    "from collections.abc import Iterator\n",
    "from itertools import (\n",
    "    accumulate,\n",
    "    chain,\n",
    "    combinations,\n",
    "    count,\n",
    "    cycle,\n",
    "    islice,\n",
    "    permutations,\n",
    "    product,\n",
    "    zip_longest,\n",
    ")\n",
    "\n",
    "\n",
    "def task_1() -> None:\n",
    "    \"\"\"Numbers words and outputs one by one with index.\"\"\"\n",
    "    string: str = input()\n",
    "    for index, word in enumerate(string.split(), 1):\n",
    "        print(f\"{index}. {word}\")\n",
    "\n",
    "\n",
    "task_1()"
   ]
  },
  {
   "cell_type": "code",
   "execution_count": null,
   "id": "83d43b84",
   "metadata": {},
   "outputs": [
    {
     "name": "stdout",
     "output_type": "stream",
     "text": [
      "Аня - Боря\n",
      "Вова - Дима\n"
     ]
    }
   ],
   "source": [
    "def task_2() -> None:\n",
    "    \"\"\"Create pairs.\"\"\"\n",
    "    first_line: str = input()\n",
    "    second_line: str = input()\n",
    "    for first, second in zip(first_line.split(\", \"), second_line.split(\", \")):\n",
    "        print(first, second, sep=\" - \")\n",
    "\n",
    "\n",
    "task_2()"
   ]
  },
  {
   "cell_type": "code",
   "execution_count": null,
   "id": "2bef5445",
   "metadata": {},
   "outputs": [
    {
     "name": "stdout",
     "output_type": "stream",
     "text": [
      "3.2\n",
      "4.0\n",
      "4.8\n",
      "5.6\n",
      "6.4\n"
     ]
    }
   ],
   "source": [
    "def task_3() -> None:\n",
    "    \"\"\"Infinity iterator.\"\"\"\n",
    "    parameters: str = input()\n",
    "    for x1 in count(float(parameters.split()[0]), float(parameters.split()[2])):\n",
    "        if x1 >= float(parameters.split()[1]):\n",
    "            break\n",
    "        print(round(x1, 2))\n",
    "\n",
    "\n",
    "task_3()"
   ]
  },
  {
   "cell_type": "code",
   "execution_count": null,
   "id": "d7b8c2ee",
   "metadata": {},
   "outputs": [
    {
     "name": "stdout",
     "output_type": "stream",
     "text": [
      "мама\n",
      "мамамыла\n",
      "мамамылараму\n",
      " \n"
     ]
    }
   ],
   "source": [
    "def task_4() -> None:\n",
    "    \"\"\"Print lines with one more accumulated word each time.\"\"\"\n",
    "    input_text: str = input()\n",
    "    words_list: list[str] = input_text.split()\n",
    "    accumulated_lines: list[str] = list(\n",
    "        accumulate(words_list, lambda previous, current: f\"{previous} {current}\")\n",
    "    )\n",
    "    for line in accumulated_lines:\n",
    "        print(line)\n",
    "\n",
    "\n",
    "task_4()"
   ]
  },
  {
   "cell_type": "code",
   "execution_count": 36,
   "id": "84aa9194",
   "metadata": {},
   "outputs": [
    {
     "name": "stdout",
     "output_type": "stream",
     "text": [
      "1. картина\n",
      "2. картонка\n",
      "3. корзина\n",
      "4. манка\n",
      "5. молоко\n",
      "6. мыло\n",
      "7. сыр\n",
      "8. хлеб\n"
     ]
    }
   ],
   "source": [
    "def task_5() -> None:\n",
    "    \"\"\"Collect family wishes into sorted numbered list.\"\"\"\n",
    "    raw_inputs: list[str] = [input() for _ in range(3)]\n",
    "    split_lists: list[list[str]] = [line.split(\", \") for line in raw_inputs]\n",
    "    sorted_items: list[str] = sorted(chain(*split_lists))\n",
    "    for index, item in enumerate(sorted_items, start=1):\n",
    "        print(f\"{index}. {item}\")\n",
    "\n",
    "\n",
    "task_5()"
   ]
  },
  {
   "cell_type": "code",
   "execution_count": 37,
   "id": "7a704981",
   "metadata": {},
   "outputs": [
    {
     "name": "stdout",
     "output_type": "stream",
     "text": [
      "2 пик\n",
      "2 бубен\n",
      "2 червей\n",
      "3 пик\n",
      "3 бубен\n",
      "3 червей\n",
      "4 пик\n",
      "4 бубен\n",
      "4 червей\n",
      "5 пик\n",
      "5 бубен\n",
      "5 червей\n",
      "6 пик\n",
      "6 бубен\n",
      "6 червей\n",
      "7 пик\n",
      "7 бубен\n",
      "7 червей\n",
      "8 пик\n",
      "8 бубен\n",
      "8 червей\n",
      "9 пик\n",
      "9 бубен\n",
      "9 червей\n",
      "10 пик\n",
      "10 бубен\n",
      "10 червей\n",
      "валет пик\n",
      "валет бубен\n",
      "валет червей\n",
      "дама пик\n",
      "дама бубен\n",
      "дама червей\n",
      "король пик\n",
      "король бубен\n",
      "король червей\n",
      "туз пик\n",
      "туз бубен\n",
      "туз червей\n"
     ]
    }
   ],
   "source": [
    "def task_6() -> None:\n",
    "    \"\"\"Generate a deck of cards excluding a specified suit.\"\"\"\n",
    "    excluded_suit: str = input()\n",
    "    all_suits: list[str] = [\"пик\", \"треф\", \"бубен\", \"червей\"]\n",
    "    ranks: list[str] = [\n",
    "        \"2\",\n",
    "        \"3\",\n",
    "        \"4\",\n",
    "        \"5\",\n",
    "        \"6\",\n",
    "        \"7\",\n",
    "        \"8\",\n",
    "        \"9\",\n",
    "        \"10\",\n",
    "        \"валет\",\n",
    "        \"дама\",\n",
    "        \"король\",\n",
    "        \"туз\",\n",
    "    ]\n",
    "    available_suits: list[str] = [s for s in all_suits if s != excluded_suit]\n",
    "    for rank, suit in product(ranks, available_suits):\n",
    "        print(f\"{rank} {suit}\")\n",
    "\n",
    "\n",
    "task_6()"
   ]
  },
  {
   "cell_type": "code",
   "execution_count": 38,
   "id": "f6ea7411",
   "metadata": {},
   "outputs": [
    {
     "name": "stdout",
     "output_type": "stream",
     "text": [
      "Аня - Боря\n",
      "Аня - Вова\n",
      "Боря - Вова\n"
     ]
    }
   ],
   "source": [
    "def task_7() -> None:\n",
    "    \"\"\"Generate all possible games in a round-robin tournament.\"\"\"\n",
    "    total_players: int = int(input())\n",
    "    player_names: list[str] = [input() for _ in range(total_players)]\n",
    "    for first, second in combinations(player_names, 2):\n",
    "        print(f\"{first} - {second}\")\n",
    "\n",
    "\n",
    "task_7()"
   ]
  },
  {
   "cell_type": "code",
   "execution_count": 39,
   "id": "c83b4770",
   "metadata": {},
   "outputs": [
    {
     "name": "stdout",
     "output_type": "stream",
     "text": [
      "Манная\n",
      "Гречневая\n",
      "Пшённая\n",
      "Овсяная\n",
      "Рисовая\n",
      "Манная\n",
      "Гречневая\n",
      "Пшённая\n",
      "Овсяная\n",
      "Рисовая\n",
      "Манная\n",
      "Гречневая\n"
     ]
    }
   ],
   "source": [
    "def task_8() -> None:\n",
    "    \"\"\"Generate kasha schedule for the next N days.\"\"\"\n",
    "    total_kashes: int = int(input())\n",
    "    menu: list[str] = [input() for _ in range(total_kashes)]\n",
    "    days: int = int(input())\n",
    "    for porridge in islice(cycle(menu), days):\n",
    "        print(porridge)\n",
    "\n",
    "\n",
    "task_8()"
   ]
  },
  {
   "cell_type": "code",
   "execution_count": 40,
   "id": "bfa46da0",
   "metadata": {},
   "outputs": [
    {
     "name": "stdout",
     "output_type": "stream",
     "text": [
      "1 2 3\n",
      "2 4 6\n",
      "3 6 9\n"
     ]
    }
   ],
   "source": [
    "def task_9() -> None:\n",
    "    \"\"\"Generate an N×N multiplication table.\"\"\"\n",
    "    size: int = int(input())\n",
    "    for row_index in range(1, size + 1):\n",
    "        products: list[str] = [\n",
    "            str(row_index * col_index) for col_index in range(1, size + 1)\n",
    "        ]\n",
    "        print(\" \".join(products))\n",
    "\n",
    "\n",
    "task_9()"
   ]
  },
  {
   "cell_type": "code",
   "execution_count": 23,
   "id": "7b49f624",
   "metadata": {},
   "outputs": [
    {
     "name": "stdout",
     "output_type": "stream",
     "text": [
      "А Б В\n",
      "1 1 1\n"
     ]
    }
   ],
   "source": [
    "def task_10() -> None:\n",
    "    \"\"\"Print all ways to split slices among Anya, Borya, and Vova.\"\"\"\n",
    "    total_slices: int = int(input())\n",
    "    # Header with initials (Cyrillic letters)\n",
    "    print(\"А Б В\")\n",
    "    for anya_count, borya_count in product(range(1, total_slices), repeat=2):\n",
    "        vova_count: int = total_slices - anya_count - borya_count\n",
    "        if vova_count >= 1:\n",
    "            print(f\"{anya_count} {borya_count} {vova_count}\")\n",
    "\n",
    "\n",
    "task_10()"
   ]
  },
  {
   "cell_type": "code",
   "execution_count": null,
   "id": "c4de65e1",
   "metadata": {},
   "outputs": [
    {
     "name": "stdout",
     "output_type": "stream",
     "text": [
      "1 2 3\n",
      "4 5 6\n"
     ]
    }
   ],
   "source": [
    "def task_11() -> None:\n",
    "    \"\"\"Build numeric rectangle with equal-width columns.\"\"\"\n",
    "    height: int = int(input())\n",
    "    width: int = int(input())\n",
    "    max_value: int = height * width\n",
    "    column_width: int = len(str(max_value))\n",
    "    numbers: list[int] = list(range(1, max_value + 1))\n",
    "    # create `width` references to the same iterator for chunking\n",
    "    iterators: list[Iterator[int]] = [iter(numbers)] * width\n",
    "    for chunk in zip_longest(*iterators, fillvalue=0):\n",
    "        # each chunk is one row of `width` numbers\n",
    "        row_cells: list[str] = [str(value).rjust(column_width) for value in chunk]\n",
    "        print(\" \".join(row_cells))\n",
    "\n",
    "\n",
    "task_11()"
   ]
  },
  {
   "cell_type": "code",
   "execution_count": 25,
   "id": "918acfb3",
   "metadata": {},
   "outputs": [
    {
     "name": "stdout",
     "output_type": "stream",
     "text": [
      "1. картина\n",
      "2. картонка\n",
      "3. корзина\n",
      "4. манка\n",
      "5. молоко\n",
      "6. мыло\n",
      "7. сыр\n",
      "8. хлеб\n"
     ]
    }
   ],
   "source": [
    "def task_12() -> None:\n",
    "    \"\"\"Merge family shopping lists and print sorted numbered list.\"\"\"\n",
    "    member_count: int = int(input())\n",
    "    raw_lists: list[list[str]] = [input().split(\", \") for _ in range(member_count)]\n",
    "    sorted_items: list[str] = sorted(chain(*raw_lists))\n",
    "    for index, item in enumerate(sorted_items, start=1):\n",
    "        print(f\"{index}. {item}\")\n",
    "\n",
    "\n",
    "task_12()"
   ]
  },
  {
   "cell_type": "code",
   "execution_count": null,
   "id": "833d98f8",
   "metadata": {},
   "outputs": [
    {
     "name": "stdout",
     "output_type": "stream",
     "text": [
      "Аня, Боря, Вова\n",
      "Аня, Вова, Боря\n",
      "Боря, Аня, Вова\n",
      "Боря, Вова, Аня\n",
      "Вова, Аня, Боря\n",
      "Вова, Боря, Аня\n"
     ]
    }
   ],
   "source": [
    "def task_13() -> None:\n",
    "    \"\"\"Print all starting arrangements of athletes alphabetically.\"\"\"\n",
    "    count2: int = int(input())\n",
    "    names: list[str] = sorted(input() for _ in range(count2))\n",
    "    for arrangement in permutations(names):\n",
    "        print(\", \".join(arrangement))\n",
    "\n",
    "\n",
    "task_13()"
   ]
  },
  {
   "cell_type": "code",
   "execution_count": 27,
   "id": "09a1a839",
   "metadata": {},
   "outputs": [
    {
     "name": "stdout",
     "output_type": "stream",
     "text": [
      "Аня, Боря, Вова\n",
      "Аня, Вова, Боря\n",
      "Боря, Аня, Вова\n",
      "Боря, Вова, Аня\n",
      "Вова, Аня, Боря\n",
      "Вова, Боря, Аня\n"
     ]
    }
   ],
   "source": [
    "def task_14() -> None:\n",
    "    \"\"\"Generate all possible podium finishers (top 3) in alphabetical order.\"\"\"\n",
    "    total_athletes: int = int(input())\n",
    "    athletes: list[str] = sorted(input() for _ in range(total_athletes))\n",
    "    for podium in permutations(athletes, 3):\n",
    "        print(\", \".join(podium))\n",
    "\n",
    "\n",
    "task_14()"
   ]
  },
  {
   "cell_type": "code",
   "execution_count": 28,
   "id": "1bd8ecd6",
   "metadata": {},
   "outputs": [
    {
     "name": "stdout",
     "output_type": "stream",
     "text": [
      "кофе печенье сушки\n",
      "кофе печенье чай\n",
      "кофе сушки печенье\n",
      "кофе сушки чай\n",
      "кофе чай печенье\n",
      "кофе чай сушки\n",
      "печенье кофе сушки\n",
      "печенье кофе чай\n",
      "печенье сушки кофе\n",
      "печенье сушки чай\n",
      "печенье чай кофе\n",
      "печенье чай сушки\n",
      "сушки кофе печенье\n",
      "сушки кофе чай\n",
      "сушки печенье кофе\n",
      "сушки печенье чай\n",
      "сушки чай кофе\n",
      "сушки чай печенье\n",
      "чай кофе печенье\n",
      "чай кофе сушки\n",
      "чай печенье кофе\n",
      "чай печенье сушки\n",
      "чай сушки кофе\n",
      "чай сушки печенье\n"
     ]
    }
   ],
   "source": [
    "def task_15() -> None:\n",
    "    \"\"\"Generate all 3-item shopping list variants alphabetically.\"\"\"\n",
    "    member_count: int = int(input())\n",
    "    raw_lists: list[list[str]] = [input().split(\", \") for _ in range(member_count)]\n",
    "    items: list[str] = sorted(chain(*raw_lists))\n",
    "    for combo in permutations(items, 3):\n",
    "        print(\" \".join(combo))\n",
    "\n",
    "\n",
    "task_15()"
   ]
  },
  {
   "cell_type": "code",
   "execution_count": 30,
   "id": "9d54c235",
   "metadata": {},
   "outputs": [
    {
     "name": "stdout",
     "output_type": "stream",
     "text": [
      "2 бубен, 2 пик, 2 треф\n",
      "2 бубен, 2 пик, 2 червей\n",
      "2 бубен, 2 пик, 3 бубен\n",
      "2 бубен, 2 пик, 3 пик\n",
      "2 бубен, 2 пик, 3 треф\n",
      "2 бубен, 2 пик, 3 червей\n",
      "2 бубен, 2 пик, 4 бубен\n",
      "2 бубен, 2 пик, 4 пик\n",
      "2 бубен, 2 пик, 4 треф\n",
      "2 бубен, 2 пик, 4 червей\n"
     ]
    }
   ],
   "source": [
    "def task_16() -> None:\n",
    "    \"\"\"List first 10 triples with required suit and without forbidden rank.\"\"\"\n",
    "    # map nominative input to genitive suit name\n",
    "    nom_to_gen: dict[str, str] = {\n",
    "        \"буби\": \"бубен\",\n",
    "        \"пики\": \"пик\",\n",
    "        \"трефы\": \"треф\",\n",
    "        \"черви\": \"червей\",\n",
    "    }\n",
    "    required_nom: str = input().strip()\n",
    "    required_suit: str = nom_to_gen[required_nom]\n",
    "    forbidden_rank: str = input().strip()\n",
    "\n",
    "    ranks: list[str] = [str(i) for i in range(2, 11)] + [\n",
    "        \"валет\",\n",
    "        \"дама\",\n",
    "        \"король\",\n",
    "        \"туз\",\n",
    "    ]\n",
    "    suits: list[str] = list(nom_to_gen.values())\n",
    "    deck: list[str] = sorted(f\"{rank} {suit}\" for rank in ranks for suit in suits)\n",
    "\n",
    "    printed: int = 0\n",
    "    for triple in combinations(deck, 3):\n",
    "        # must include at least one card of the required suit\n",
    "        if not any(card.split()[1] == required_suit for card in triple):\n",
    "            continue\n",
    "        # must not include any card of the forbidden rank\n",
    "        if any(card.split()[0] == forbidden_rank for card in triple):\n",
    "            continue\n",
    "        print(\", \".join(triple))\n",
    "        printed += 1\n",
    "        if printed == 10:\n",
    "            break\n",
    "\n",
    "\n",
    "task_16()"
   ]
  },
  {
   "cell_type": "code",
   "execution_count": 31,
   "id": "c2a19d97",
   "metadata": {},
   "outputs": [
    {
     "name": "stdout",
     "output_type": "stream",
     "text": [
      "9 пик, король червей, туз бубен\n"
     ]
    }
   ],
   "source": [
    "def task_17() -> None:\n",
    "    \"\"\"Find the next valid triple of cards after the given previous variant.\"\"\"\n",
    "    # Map from nominative to genitive suit names\n",
    "    nom_to_gen: dict[str, str] = {\n",
    "        \"буби\": \"бубен\",\n",
    "        \"пики\": \"пик\",\n",
    "        \"трефы\": \"треф\",\n",
    "        \"черви\": \"червей\",\n",
    "    }\n",
    "    required_nom: str = input().strip()\n",
    "    required_suit: str = nom_to_gen[required_nom]\n",
    "    forbidden_rank: str = input().strip()\n",
    "    previous_variant: str = input().strip()\n",
    "\n",
    "    ranks: list[str] = [str(i) for i in range(2, 11)] + [\n",
    "        \"валет\",\n",
    "        \"дама\",\n",
    "        \"король\",\n",
    "        \"туз\",\n",
    "    ]\n",
    "    suits: list[str] = list(nom_to_gen.values())\n",
    "    deck: list[str] = sorted(f\"{rank} {suit}\" for rank in ranks for suit in suits)\n",
    "\n",
    "    seen_previous: bool = False\n",
    "    for triple in combinations(deck, 3):\n",
    "        # must include at least one card of the required suit\n",
    "        if not any(card.split()[1] == required_suit for card in triple):\n",
    "            continue\n",
    "        # must not include any card of the forbidden rank\n",
    "        if any(card.split()[0] == forbidden_rank for card in triple):\n",
    "            continue\n",
    "        triple_str: str = \", \".join(triple)\n",
    "        if seen_previous:\n",
    "            print(triple_str)\n",
    "            break\n",
    "        if triple_str == previous_variant:\n",
    "            seen_previous = True\n",
    "\n",
    "\n",
    "task_17()"
   ]
  },
  {
   "cell_type": "code",
   "execution_count": null,
   "id": "93de4120",
   "metadata": {},
   "outputs": [
    {
     "name": "stdout",
     "output_type": "stream",
     "text": [
      "a b c f\n",
      "0 0 0 1\n",
      "0 0 1 1\n",
      "0 1 0 1\n",
      "0 1 1 1\n",
      "1 0 0 0\n",
      "1 0 1 0\n",
      "1 1 0 0\n",
      "1 1 1 1\n"
     ]
    }
   ],
   "source": [
    "# def task_18() -> None:\n",
    "#     \"\"\"Build truth table for expression in a, b, c without eval.\"\"\"\n",
    "#     expression_text: str = input().strip()\n",
    "#     tokens: list[str] = expression_text.split()\n",
    "\n",
    "#     # Operator precedence and associativity\n",
    "#     precedence: dict[str, int] = {\"not\": 3, \"and\": 2, \"or\": 1}\n",
    "#     associativity: dict[str, str] = {\n",
    "#         \"not\": \"right\",\n",
    "#         \"and\": \"left\",\n",
    "#         \"or\": \"left\",\n",
    "#     }\n",
    "\n",
    "#     # Shunting-yard to convert to RPN\n",
    "#     output_queue: list[str] = []\n",
    "#     operator_stack: list[str] = []\n",
    "#     for token in tokens:\n",
    "#         if token in (\"a\", \"b\", \"c\"):\n",
    "#             output_queue.append(token)\n",
    "#         elif token == \"(\":\n",
    "#             operator_stack.append(token)\n",
    "#         elif token == \")\":\n",
    "#             while operator_stack and operator_stack[-1] != \"(\":\n",
    "#                 output_queue.append(operator_stack.pop())\n",
    "#             operator_stack.pop()\n",
    "#         else:\n",
    "#             # token is an operator: not, and, or\n",
    "#             while (\n",
    "#                 operator_stack\n",
    "#                 and operator_stack[-1] != \"(\"\n",
    "#                 and (\n",
    "#                     associativity[token] == \"left\"\n",
    "#                     and precedence[token] <= precedence[operator_stack[-1]]\n",
    "#                     or associativity[token] == \"right\"\n",
    "#                     and precedence[token] < precedence[operator_stack[-1]]\n",
    "#                 )\n",
    "#             ):\n",
    "#                 output_queue.append(operator_stack.pop())\n",
    "#             operator_stack.append(token)\n",
    "#     while operator_stack:\n",
    "#         output_queue.append(operator_stack.pop())\n",
    "\n",
    "#     # Evaluate RPN without eval\n",
    "#     def apply_unary(op: str, stack: list[bool]) -> None:\n",
    "#         operand: bool = stack.pop()\n",
    "#         stack.append(not operand)\n",
    "\n",
    "#     def apply_binary(op: str, stack: list[bool]) -> None:\n",
    "#         right: bool = stack.pop()\n",
    "#         left: bool = stack.pop()\n",
    "#         if op == \"and\":\n",
    "#             stack.append(left and right)\n",
    "#         elif op == \"or\":\n",
    "#             stack.append(left or right)\n",
    "\n",
    "#     # Print header\n",
    "#     print(\"a b c f\")\n",
    "#     # Iterate all 0/1 assignments\n",
    "#     for a_val, b_val, c_val in product((0, 1), repeat=3):\n",
    "#         env: dict[str, bool] = {\n",
    "#             \"a\": bool(a_val),\n",
    "#             \"b\": bool(b_val),\n",
    "#             \"c\": bool(c_val),\n",
    "#         }\n",
    "#         stack_eval: list[bool] = []\n",
    "#         for token in output_queue:\n",
    "#             if token in env:\n",
    "#                 stack_eval.append(env[token])\n",
    "#             elif token == \"not\":\n",
    "#                 apply_unary(token, stack_eval)\n",
    "#             else:  # 'and' or 'or'\n",
    "#                 apply_binary(token, stack_eval)\n",
    "\n",
    "#         result_flag: bool = stack_eval[0]\n",
    "#         print(a_val, b_val, c_val, int(result_flag))\n",
    "\n",
    "\n",
    "# task_18()"
   ]
  },
  {
   "cell_type": "code",
   "execution_count": null,
   "id": "6b1fe27e",
   "metadata": {},
   "outputs": [
    {
     "name": "stdout",
     "output_type": "stream",
     "text": [
      "A B C F\n",
      "0 0 0 1\n",
      "0 0 1 1\n",
      "0 1 0 1\n",
      "0 1 1 1\n",
      "1 0 0 0\n",
      "1 0 1 0\n",
      "1 1 0 0\n",
      "1 1 1 1\n"
     ]
    }
   ],
   "source": [
    "# def task_19() -> None:\n",
    "#     \"\"\"Build truth table for expression with uppercase variables.\"\"\"\n",
    "#     raw_expression: str = input().strip()\n",
    "\n",
    "#     # Tokenize into variables, operators, and parentheses\n",
    "#     token_pattern: str = r\"and|or|not|\\(|\\)|[A-Z]\"\n",
    "#     tokens: list[str] = re.findall(token_pattern, raw_expression)\n",
    "\n",
    "#     # Operator precedence and associativity\n",
    "#     precedence: dict[str, int] = {\"not\": 3, \"and\": 2, \"or\": 1}\n",
    "#     associativity: dict[str, str] = {\n",
    "#         \"not\": \"right\",\n",
    "#         \"and\": \"left\",\n",
    "#         \"or\": \"left\",\n",
    "#     }\n",
    "\n",
    "#     # Shunting-yard: convert to Reverse Polish Notation\n",
    "#     rpn_queue: list[str] = []\n",
    "#     operator_stack: list[str] = []\n",
    "#     for symbol in tokens:\n",
    "#         if re.fullmatch(r\"[A-Z]\", symbol):\n",
    "#             rpn_queue.append(symbol)\n",
    "#         elif symbol == \"(\":\n",
    "#             operator_stack.append(symbol)\n",
    "#         elif symbol == \")\":\n",
    "#             while operator_stack and operator_stack[-1] != \"(\":\n",
    "#                 rpn_queue.append(operator_stack.pop())\n",
    "#             operator_stack.pop()\n",
    "#         else:\n",
    "#             # symbol is an operator\n",
    "#             while (\n",
    "#                 operator_stack\n",
    "#                 and operator_stack[-1] != \"(\"\n",
    "#                 and (\n",
    "#                     associativity[symbol] == \"left\"\n",
    "#                     and precedence[symbol] <= precedence[operator_stack[-1]]\n",
    "#                     or associativity[symbol] == \"right\"\n",
    "#                     and precedence[symbol] < precedence[operator_stack[-1]]\n",
    "#                 )\n",
    "#             ):\n",
    "#                 rpn_queue.append(operator_stack.pop())\n",
    "#             operator_stack.append(symbol)\n",
    "#     while operator_stack:\n",
    "#         rpn_queue.append(operator_stack.pop())\n",
    "\n",
    "#     # Gather and sort variable names\n",
    "#     variable_names: list[str] = sorted(\n",
    "#         {sym for sym in tokens if re.fullmatch(r\"[A-Z]\", sym)}\n",
    "#     )\n",
    "#     print(*variable_names, \"F\")\n",
    "\n",
    "#     # Evaluate RPN for each assignment of 0/1\n",
    "#     for assignment in product((0, 1), repeat=len(variable_names)):\n",
    "#         environment: dict[str, bool] = {\n",
    "#             var_name: bool(bit) for var_name, bit in zip(variable_names, assignment)\n",
    "#         }\n",
    "#         evaluation_stack: list[bool] = []\n",
    "#         for symbol in rpn_queue:\n",
    "#             if symbol in environment:\n",
    "#                 evaluation_stack.append(environment[symbol])\n",
    "#             elif symbol == \"not\":\n",
    "#                 operand_value: bool = evaluation_stack.pop()\n",
    "#                 evaluation_stack.append(not operand_value)\n",
    "#             else:\n",
    "#                 right_value: bool = evaluation_stack.pop()\n",
    "#                 left_value: bool = evaluation_stack.pop()\n",
    "#                 if symbol == \"and\":\n",
    "#                     evaluation_stack.append(left_value and right_value)\n",
    "#                 else:  # symbol == 'or'\n",
    "#                     evaluation_stack.append(left_value or right_value)\n",
    "#         truth_value: bool = evaluation_stack[0]\n",
    "#         print(*assignment, int(truth_value))\n",
    "\n",
    "\n",
    "# task_19()"
   ]
  },
  {
   "cell_type": "code",
   "execution_count": null,
   "id": "44ef4d50",
   "metadata": {},
   "outputs": [
    {
     "name": "stdout",
     "output_type": "stream",
     "text": [
      "A B C F\n",
      "0 0 0 1\n",
      "0 0 1 1\n",
      "0 1 0 1\n",
      "0 1 1 1\n",
      "1 0 0 1\n",
      "1 0 1 1\n",
      "1 1 0 0\n",
      "1 1 1 1\n"
     ]
    }
   ],
   "source": [
    "# import re\n",
    "# from itertools import product\n",
    "\n",
    "\n",
    "# def task_20() -> None:\n",
    "#     \"\"\"Build truth table for expression with ->, ^, and ~ operators.\"\"\"\n",
    "#     raw_expression: str = input().strip()\n",
    "\n",
    "#     # Tokenize into variables, operators, and parentheses\n",
    "#     token_pattern = r'->|not|and|or|\\^|~|\\(|\\)|[A-Z]'\n",
    "#     tokens: list[str] = re.findall(token_pattern, raw_expression)\n",
    "\n",
    "#     # Operator precedence and associativity\n",
    "#     precedence: dict[str, int] = {\n",
    "#         'not': 5,\n",
    "#         'and': 4,\n",
    "#         'or': 3,\n",
    "#         '^': 2,\n",
    "#         '->': 1,\n",
    "#         '~': 0,\n",
    "#     }\n",
    "#     associativity: dict[str, str] = {\n",
    "#         'not': 'right',\n",
    "#         'and': 'left',\n",
    "#         'or': 'left',\n",
    "#         '^': 'left',\n",
    "#         '->': 'right',\n",
    "#         '~': 'left',\n",
    "#     }\n",
    "\n",
    "#     # Shunting-yard algorithm to get Reverse Polish Notation (RPN)\n",
    "#     output_queue: list[str] = []\n",
    "#     operator_stack: list[str] = []\n",
    "#     for token in tokens:\n",
    "#         if re.fullmatch(r'[A-Z]', token):\n",
    "#             output_queue.append(token)\n",
    "#         elif token == '(':\n",
    "#             operator_stack.append(token)\n",
    "#         elif token == ')':\n",
    "#             while operator_stack and operator_stack[-1] != '(':\n",
    "#                 output_queue.append(operator_stack.pop())\n",
    "#             operator_stack.pop()\n",
    "#         else:\n",
    "#             # operator\n",
    "#             while (\n",
    "#                 operator_stack and operator_stack[-1] != '(' and\n",
    "#                 ((associativity[token] == 'left' and\n",
    "#                   precedence[token] <= precedence[operator_stack[-1]]) or\n",
    "#                  (associativity[token] == 'right' and\n",
    "#                   precedence[token] < precedence[operator_stack[-1]]))\n",
    "#             ):\n",
    "#                 output_queue.append(operator_stack.pop())\n",
    "#             operator_stack.append(token)\n",
    "#     while operator_stack:\n",
    "#         output_queue.append(operator_stack.pop())\n",
    "\n",
    "#     # Boolean operation implementations\n",
    "#     def is_negation(value: bool) -> bool:\n",
    "#         return not value\n",
    "\n",
    "#     def is_conjunction(left: bool, right: bool) -> bool:\n",
    "#         return left and right\n",
    "\n",
    "#     def is_disjunction(left: bool, right: bool) -> bool:\n",
    "#         return left or right\n",
    "\n",
    "#     def is_strict_disjunction(left: bool, right: bool) -> bool:\n",
    "#         return left != right\n",
    "\n",
    "#     def is_implication(left: bool, right: bool) -> bool:\n",
    "#         return (not left) or right\n",
    "\n",
    "#     def is_equivalence(left: bool, right: bool) -> bool:\n",
    "#         return left == right\n",
    "\n",
    "#     # Gather and sort variable names\n",
    "#     variable_names: list[str] = sorted({\n",
    "#         tok for tok in tokens if re.fullmatch(r'[A-Z]', tok)\n",
    "#     })\n",
    "#     print(*variable_names, \"F\")\n",
    "\n",
    "#     # Evaluate for each combination of variable assignments\n",
    "#     for combo in product((0, 1), repeat=len(variable_names)):\n",
    "#         environment: dict[str, bool] = {\n",
    "#             var: bool(bit) for var, bit in zip(variable_names, combo)\n",
    "#         }\n",
    "#         evaluation_stack: list[bool] = []\n",
    "#         for token in output_queue:\n",
    "#             if token == 'not':\n",
    "#                 operand = evaluation_stack.pop()\n",
    "#                 evaluation_stack.append(is_negation(operand))\n",
    "#             elif token in ('and', 'or', '^', '->', '~'):\n",
    "#                 right_operand = evaluation_stack.pop()\n",
    "#                 left_operand = evaluation_stack.pop()\n",
    "#                 if token == 'and':\n",
    "#                     evaluation_stack.append(is_conjunction(left_operand, right_operand))\n",
    "#                 elif token == 'or':\n",
    "#                     evaluation_stack.append(is_disjunction(left_operand, right_operand))\n",
    "#                 elif token == '^':\n",
    "#                     evaluation_stack.append(is_strict_disjunction\n",
    "# (left_operand, right_operand)) !!\n",
    "#                 elif token == '->':\n",
    "#                     evaluation_stack.append(is_implication(left_operand, right_operand))\n",
    "#                 else:\n",
    "#                     evaluation_stack.append(is_equivalence(left_operand, right_operand))\n",
    "#             else:\n",
    "#                 evaluation_stack.append(environment[token])\n",
    "#         final_value = evaluation_stack[0]\n",
    "#         print(*combo, int(final_value))\n",
    "\n",
    "\n",
    "# task_20()"
   ]
  }
 ],
 "metadata": {
  "kernelspec": {
   "display_name": "dsfb",
   "language": "python",
   "name": "python3"
  },
  "language_info": {
   "codemirror_mode": {
    "name": "ipython",
    "version": 3
   },
   "file_extension": ".py",
   "mimetype": "text/x-python",
   "name": "python",
   "nbconvert_exporter": "python",
   "pygments_lexer": "ipython3",
   "version": "3.12.9"
  }
 },
 "nbformat": 4,
 "nbformat_minor": 5
}
