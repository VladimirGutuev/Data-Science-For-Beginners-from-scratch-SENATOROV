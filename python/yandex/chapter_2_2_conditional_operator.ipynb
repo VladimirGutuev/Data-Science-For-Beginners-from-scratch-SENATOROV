{
 "cells": [
  {
   "cell_type": "code",
   "execution_count": 1,
   "id": "bc698660",
   "metadata": {},
   "outputs": [
    {
     "data": {
      "text/plain": [
       "'yandex contest of chapter 2.2 of Python course.'"
      ]
     },
     "execution_count": 1,
     "metadata": {},
     "output_type": "execute_result"
    }
   ],
   "source": [
    "\"\"\"yandex contest of chapter 2.2 of Python course.\"\"\""
   ]
  },
  {
   "cell_type": "code",
   "execution_count": 2,
   "id": "1da6ba04",
   "metadata": {},
   "outputs": [
    {
     "name": "stdout",
     "output_type": "stream",
     "text": [
      "Здравствуйте, Виталий!\n",
      "Я за Вас рада!\n"
     ]
    }
   ],
   "source": [
    "# 1\n",
    "name_of_user: str = input(\"Как Вас зовут?\\n\")\n",
    "print(\"Здравствуйте, \", name_of_user, \"!\", sep=\"\")\n",
    "user_happiness: str = input(\"Как дела?\\n\")\n",
    "if user_happiness == \"хорошо\":\n",
    "    print(\"Я за Вас рада!\")\n",
    "else:\n",
    "    print(\"Всё наладится!\")"
   ]
  },
  {
   "cell_type": "code",
   "execution_count": null,
   "id": "5c520e44",
   "metadata": {},
   "outputs": [
    {
     "name": "stdout",
     "output_type": "stream",
     "text": [
      "Вася\n"
     ]
    }
   ],
   "source": [
    "# 2\n",
    "first_cyclist_speed_for_race: float = float(input()) * 1000\n",
    "second_cyclist_speed_for_race: float = float(input()) * 1000\n",
    "\n",
    "if 43872 / first_cyclist_speed_for_race < 43872 / second_cyclist_speed_for_race:\n",
    "    print(\"Петя\")\n",
    "else:\n",
    "    print(\"Вася\")"
   ]
  },
  {
   "cell_type": "code",
   "execution_count": null,
   "id": "beb8344d",
   "metadata": {},
   "outputs": [
    {
     "name": "stdout",
     "output_type": "stream",
     "text": [
      "Толя\n"
     ]
    }
   ],
   "source": [
    "# 3\n",
    "DISTANCE_M: float = 43_872.0  # фиксированная дистанция, м\n",
    "\n",
    "first_cyclist_speed: float = float(input()) * 1_000  # м/ч\n",
    "second_cyclist_speed: float = float(input()) * 1_000\n",
    "third_cyclist_speed: float = float(input()) * 1_000\n",
    "\n",
    "first_time: float = DISTANCE_M / first_cyclist_speed\n",
    "second_time: float = DISTANCE_M / second_cyclist_speed\n",
    "third_time: float = DISTANCE_M / third_cyclist_speed\n",
    "\n",
    "if first_time < second_time and first_time < third_time:\n",
    "    print(\"Петя\")\n",
    "elif second_time < third_time:\n",
    "    print(\"Вася\")\n",
    "else:\n",
    "    print(\"Толя\")"
   ]
  },
  {
   "cell_type": "code",
   "execution_count": 11,
   "id": "08ef3203",
   "metadata": {},
   "outputs": [
    {
     "name": "stdout",
     "output_type": "stream",
     "text": [
      "1. Петя\n",
      "2. Толя\n",
      "3. Вася\n"
     ]
    }
   ],
   "source": [
    "# 4\n",
    "distance: int = 43872\n",
    "\n",
    "speed_petya: float = float(input())\n",
    "speed_vasya: float = float(input())\n",
    "speed_tolya: float = float(input())\n",
    "\n",
    "time_petya: float = distance / speed_petya\n",
    "time_vasya: float = distance / speed_vasya\n",
    "time_tolya: float = distance / speed_tolya\n",
    "\n",
    "# Определяем первое место\n",
    "if time_petya <= time_vasya and time_petya <= time_tolya:\n",
    "    first: str = \"Петя\"\n",
    "    # между Васей и Толей — второе/третье\n",
    "    if time_vasya <= time_tolya:\n",
    "        second: str = \"Вася\"\n",
    "        third: str = \"Толя\"\n",
    "    else:\n",
    "        second = \"Толя\"\n",
    "        third = \"Вася\"\n",
    "\n",
    "elif time_vasya <= time_petya and time_vasya <= time_tolya:\n",
    "    first = \"Вася\"\n",
    "    if time_petya <= time_tolya:\n",
    "        second = \"Петя\"\n",
    "        third = \"Толя\"\n",
    "    else:\n",
    "        second = \"Толя\"\n",
    "        third = \"Петя\"\n",
    "\n",
    "else:\n",
    "    first = \"Толя\"\n",
    "    if time_petya <= time_vasya:\n",
    "        second = \"Петя\"\n",
    "        third = \"Вася\"\n",
    "    else:\n",
    "        second = \"Вася\"\n",
    "        third = \"Петя\"\n",
    "\n",
    "print(f\"1. {first}\")\n",
    "print(f\"2. {second}\")\n",
    "print(f\"3. {third}\")"
   ]
  },
  {
   "cell_type": "code",
   "execution_count": 6,
   "id": "297d6d0f",
   "metadata": {},
   "outputs": [
    {
     "name": "stdout",
     "output_type": "stream",
     "text": [
      "Вася\n"
     ]
    }
   ],
   "source": [
    "# 5\n",
    "petya_apples: int = 6\n",
    "vasya_apples: int = 9\n",
    "\n",
    "apples_to_petya: int = int(input())\n",
    "apples_to_vasya: int = int(input())\n",
    "\n",
    "petya_apples += apples_to_petya\n",
    "vasya_apples += apples_to_vasya\n",
    "\n",
    "if petya_apples > vasya_apples:\n",
    "    print(\"Петя\")\n",
    "else:\n",
    "    print(\"Вася\")"
   ]
  },
  {
   "cell_type": "code",
   "execution_count": null,
   "id": "7dec6747",
   "metadata": {},
   "outputs": [
    {
     "name": "stdout",
     "output_type": "stream",
     "text": [
      "YES\n"
     ]
    }
   ],
   "source": [
    "# 6\n",
    "year: int = int(input())\n",
    "\n",
    "if year % 4 == 0 and year % 100 != 0 or year % 400 == 0:\n",
    "    print(\"YES\")\n",
    "else:\n",
    "    print(\"NO\")"
   ]
  },
  {
   "cell_type": "code",
   "execution_count": null,
   "id": "8a54c208",
   "metadata": {},
   "outputs": [
    {
     "name": "stdout",
     "output_type": "stream",
     "text": [
      "NO\n"
     ]
    }
   ],
   "source": [
    "# 7\n",
    "DIGITS_IN_NUMBER: int = 4  # константа длины, чтобы не использовать «магию»\n",
    "\n",
    "input_number: int = int(input())  # исходное число\n",
    "number_text: str = f\"{input_number:0{DIGITS_IN_NUMBER}d}\"  # строка из 4 цифр\n",
    "\n",
    "if number_text == number_text[::-1]:  # сравниваем с обратной\n",
    "    print(\"YES\")\n",
    "else:\n",
    "    print(\"NO\")"
   ]
  },
  {
   "cell_type": "code",
   "execution_count": 22,
   "id": "4dc116bb",
   "metadata": {},
   "outputs": [
    {
     "name": "stdout",
     "output_type": "stream",
     "text": [
      "YES\n"
     ]
    }
   ],
   "source": [
    "# 8\n",
    "phrase: str = input()\n",
    "if \"зайка\" in phrase:\n",
    "    print(\"YES\")\n",
    "else:\n",
    "    print(\"NO\")"
   ]
  },
  {
   "cell_type": "code",
   "execution_count": null,
   "id": "e9790c4f",
   "metadata": {},
   "outputs": [
    {
     "name": "stdout",
     "output_type": "stream",
     "text": [
      "аня\n"
     ]
    }
   ],
   "source": [
    "# 9\n",
    "name1: str = input()\n",
    "name2: str = input()\n",
    "name3: str = input()\n",
    "\n",
    "# Предположим, что первый кандидат — name1\n",
    "first_candidate: str = name1\n",
    "\n",
    "if name2 < first:\n",
    "    first_candidate = name2\n",
    "\n",
    "if name3 < first:\n",
    "    first_candidate = name3\n",
    "\n",
    "# Выводим, кто \"меньший\" по алфавиту\n",
    "print(first_candidate)"
   ]
  },
  {
   "cell_type": "code",
   "execution_count": 27,
   "id": "c7174fcc",
   "metadata": {},
   "outputs": [
    {
     "name": "stdout",
     "output_type": "stream",
     "text": [
      "115\n"
     ]
    }
   ],
   "source": [
    "# 10\n",
    "all_numb: str = input()\n",
    "\n",
    "number_first: int = int(all_numb) // 100\n",
    "number_second: int = int(all_numb) // 10 % 10\n",
    "number_third: int = int(all_numb) % 10\n",
    "\n",
    "sec_and_third_sum = int(f\"{number_second + number_third}\")\n",
    "first_and_sec_sum = int(f\"{number_first + number_second}\")\n",
    "\n",
    "if first_and_sec_sum < sec_and_third_sum:\n",
    "    print(f\"{sec_and_third_sum}\" + f\"{first_and_sec_sum}\")\n",
    "else:\n",
    "    print(f\"{first_and_sec_sum}\" + f\"{sec_and_third_sum}\")"
   ]
  },
  {
   "cell_type": "code",
   "execution_count": null,
   "id": "346168d9",
   "metadata": {},
   "outputs": [],
   "source": [
    "# 11\n",
    "# Считываем трёхзначное число\n",
    "n_num: int = int(input())\n",
    "\n",
    "d1: int = n_num // 100\n",
    "d2: int = (n_num // 10) % 10\n",
    "d3: int = n_num % 10\n",
    "\n",
    "# Находим минимум и максимум через условные выражения\n",
    "min_d: int = d1 if d1 <= d2 and d1 <= d3 else (d2 if d2 <= d3 else d3)\n",
    "max_d: int = d1 if d1 >= d2 and d1 >= d3 else (d2 if d2 >= d3 else d3)\n",
    "\n",
    "mid_d: int = d1 + d2 + d3 - min_d - max_d\n",
    "\n",
    "if min_d + max_d == mid_d * 2:\n",
    "    print(\"YES\")\n",
    "else:\n",
    "    print(\"NO\")"
   ]
  },
  {
   "cell_type": "code",
   "execution_count": null,
   "id": "ed6be85e",
   "metadata": {},
   "outputs": [
    {
     "name": "stdout",
     "output_type": "stream",
     "text": [
      "YES\n"
     ]
    }
   ],
   "source": [
    "# 12\n",
    "first_side: int = int(input())\n",
    "second_side: int = int(input())\n",
    "third_side: int = int(input())\n",
    "\n",
    "# сортируем, чтобы самый длинный отрезок был последним\n",
    "sides: list[int] = sorted((first_side, second_side, third_side))\n",
    "\n",
    "if sides[0] + sides[1] < sides[2]:\n",
    "    print(\"YES\")  # неравенство треугольника нарушено\n",
    "else:\n",
    "    print(\"NO\")  # треугольник возможен"
   ]
  },
  {
   "cell_type": "code",
   "execution_count": null,
   "id": "82bb799a",
   "metadata": {},
   "outputs": [],
   "source": [
    "# 13\n",
    "first_num: str = input().zfill(2)  # страхуемся, если ввели «5» вместо «05»\n",
    "second_num: str = input().zfill(2)\n",
    "third_num: str = input().zfill(2)\n",
    "\n",
    "if first_num[0] == second_num[0] == third_num[0]:  # разряд десятков\n",
    "    print(first_num[0])\n",
    "else:  # значит, совпали единицы\n",
    "    print(first_num[1])"
   ]
  },
  {
   "cell_type": "code",
   "execution_count": null,
   "id": "6e036441",
   "metadata": {},
   "outputs": [
    {
     "name": "stdout",
     "output_type": "stream",
     "text": [
      "23 43\n"
     ]
    }
   ],
   "source": [
    "three_digit_number: int = int(input())\n",
    "\n",
    "# ── извлекаем цифры ────────────────────────────────────────────────────────────\n",
    "hundreds_digit: int = three_digit_number // 100\n",
    "tens_digit: int = (three_digit_number // 10) % 10\n",
    "units_digit: int = three_digit_number % 10\n",
    "\n",
    "# ── все шесть возможных комбинаций (ab, ac, ba, bc, ca, cb) ───────────────────\n",
    "candidate_numbers: list[int] = [\n",
    "    hundreds_digit * 10 + tens_digit,\n",
    "    hundreds_digit * 10 + units_digit,\n",
    "    tens_digit * 10 + hundreds_digit,\n",
    "    tens_digit * 10 + units_digit,\n",
    "    units_digit * 10 + hundreds_digit,\n",
    "    units_digit * 10 + tens_digit,\n",
    "]\n",
    "\n",
    "# ── отсекаем «однозначные» варианты (старший разряд = 0) ──────────────────────\n",
    "two_digit_numbers: list[int] = [num for num in candidate_numbers if num >= 10]\n",
    "\n",
    "# ── ищем минимальное и максимальное без лишних if-блоков ──────────────────────\n",
    "minimal_number: int = min(two_digit_numbers)\n",
    "maximal_number: int = max(two_digit_numbers)\n",
    "\n",
    "print(minimal_number, maximal_number)"
   ]
  },
  {
   "cell_type": "code",
   "execution_count": null,
   "id": "dc5116ee",
   "metadata": {},
   "outputs": [],
   "source": [
    "first_number: int = int(input())\n",
    "second_number: int = int(input())\n",
    "\n",
    "# Разбираем оба числа на отдельные цифры\n",
    "digits: list[int] = [\n",
    "    first_number // 10,\n",
    "    first_number % 10,\n",
    "    second_number // 10,\n",
    "    second_number % 10,\n",
    "]\n",
    "\n",
    "max_digit: int = max(digits)\n",
    "min_digit: int = min(digits)\n",
    "\n",
    "# «Средняя» — единицы суммы двух оставшихся цифр\n",
    "middle_digit: int = (sum(digits) - max_digit - min_digit) % 10\n",
    "\n",
    "# Выводим трёхзначное магическое число слитно\n",
    "print(f\"{max_digit}{middle_digit}{min_digit}\")"
   ]
  },
  {
   "cell_type": "code",
   "execution_count": null,
   "id": "a0a91f67",
   "metadata": {},
   "outputs": [],
   "source": [
    "# 16\n",
    "# Считываем скорости претендентов\n",
    "petya_speed: int = int(input())\n",
    "vasya_speed: int = int(input())\n",
    "tolya_speed: int = int(input())\n",
    "\n",
    "# Определяем максимальную и минимальную скорость\n",
    "winner_speed: int = max(petya_speed, vasya_speed, tolya_speed)\n",
    "loser_speed: int = min(petya_speed, vasya_speed, tolya_speed)\n",
    "\n",
    "# Объявляем переменные для имён\n",
    "winner: str\n",
    "second_cyclist: str\n",
    "loser: str\n",
    "\n",
    "# Логика определения первого, второго и третьего места\n",
    "if winner_speed == petya_speed:\n",
    "    winner = \"Петя\"\n",
    "    if loser_speed == tolya_speed:\n",
    "        loser, second_cyclist = \"Толя\", \"Вася\"\n",
    "    else:\n",
    "        loser, second_cyclist = \"Вася\", \"Толя\"\n",
    "elif winner_speed == tolya_speed:\n",
    "    winner = \"Толя\"\n",
    "    if loser_speed == petya_speed:\n",
    "        loser, second_cyclist = \"Петя\", \"Вася\"\n",
    "    else:\n",
    "        loser, second_cyclist = \"Вася\", \"Петя\"\n",
    "else:\n",
    "    winner = \"Вася\"\n",
    "    if loser_speed == tolya_speed:\n",
    "        loser, second_cyclist = \"Толя\", \"Петя\"\n",
    "    else:\n",
    "        loser, second_cyclist = \"Петя\", \"Толя\"\n",
    "\n",
    "# Ширина ступени пьедестала\n",
    "step_width: int = 8\n",
    "\n",
    "# Печатаем \"красивый пьедестал\"\n",
    "print(f'{\"\": ^{step_width}}{winner: ^{step_width}}{\"\": ^{step_width}}')\n",
    "print(f'{second_cyclist: ^{step_width}}{\"\": ^{step_width}}{\"\": ^{step_width}}')\n",
    "print(f'{\"\": ^{step_width}}{\"\": ^{step_width}}{loser: ^{step_width}}')\n",
    "print(f'{\"II\": ^{step_width}}{\"I\": ^{step_width}}{\"III\": ^{step_width}}')"
   ]
  },
  {
   "cell_type": "code",
   "execution_count": null,
   "id": "620eee11",
   "metadata": {},
   "outputs": [],
   "source": [
    "# 17\n",
    "eps: float = 1e-12\n",
    "\n",
    "a_num: float = float(input())\n",
    "b_num: float = float(input())\n",
    "c_num: float = float(input())\n",
    "\n",
    "# Квадратное уравнение\n",
    "if abs(a_num) > eps:\n",
    "    discriminant: float = b_num * b_num - 4 * a_num * c_num\n",
    "\n",
    "    if discriminant > eps:\n",
    "        sqrt_disc: float = discriminant**0.5\n",
    "        x1: float = (-b_num - sqrt_disc) / (2 * a_num)\n",
    "        x2: float = (-b_num + sqrt_disc) / (2 * a_num)\n",
    "        # Два корня в порядке возрастания\n",
    "        if x1 <= x2:\n",
    "            print(f\"{x1:.2f} {x2:.2f}\")\n",
    "        else:\n",
    "            print(f\"{x2:.2f} {x1:.2f}\")\n",
    "\n",
    "    elif abs(discriminant) <= eps:\n",
    "        x_num: float = -b_num / (2 * a_num)\n",
    "        print(f\"{x_num:.2f}\")\n",
    "\n",
    "    else:\n",
    "        print(\"No solution\")\n",
    "\n",
    "# Линейное уравнение bx + c = 0\n",
    "elif abs(b_num) > eps:\n",
    "    x_num = -c_num / b_num\n",
    "    print(f\"{x_num:.2f}\")\n",
    "\n",
    "# 0·x + c = 0\n",
    "elif abs(c_num) <= eps:\n",
    "    print(\"Infinite solutions\")\n",
    "\n",
    "else:\n",
    "    print(\"No solution\")"
   ]
  },
  {
   "cell_type": "code",
   "execution_count": null,
   "id": "a9d49016",
   "metadata": {},
   "outputs": [],
   "source": [
    "# 18\n",
    "tolerance: float = 1e-12\n",
    "\n",
    "# Считываем длины сторон треугольника\n",
    "first_side_length: float = float(input())\n",
    "second_side_length: float = float(input())\n",
    "third_side_length: float = float(input())\n",
    "\n",
    "# Определяем самую длинную сторону и две остальные\n",
    "if first_side_length >= second_side_length and first_side_length >= third_side_length:\n",
    "    longest_side_length: float = first_side_length\n",
    "    other_side_length1: float = second_side_length\n",
    "    other_side_length2: float = third_side_length\n",
    "elif (\n",
    "    second_side_length >= first_side_length and second_side_length >= third_side_length\n",
    "):\n",
    "    longest_side_length = second_side_length\n",
    "    other_side_length1 = first_side_length\n",
    "    other_side_length2 = third_side_length\n",
    "else:\n",
    "    longest_side_length = third_side_length\n",
    "    other_side_length1 = first_side_length\n",
    "    other_side_length2 = second_side_length\n",
    "\n",
    "# Вычисляем квадраты длин\n",
    "sum_of_smaller_squares: float = (\n",
    "    other_side_length1 * other_side_length1 + other_side_length2 * other_side_length2\n",
    ")\n",
    "square_of_longest: float = longest_side_length * longest_side_length\n",
    "\n",
    "# Классификация треугольника по форме\n",
    "if abs(sum_of_smaller_squares - square_of_longest) <= tolerance:\n",
    "    # Если прямой\n",
    "    print(\"100%\")\n",
    "elif sum_of_smaller_squares > square_of_longest:\n",
    "    # Если остроугольный\n",
    "    print(\"крайне мала\")\n",
    "else:\n",
    "    # Если тупоугольный\n",
    "    print(\"велика\")"
   ]
  },
  {
   "cell_type": "code",
   "execution_count": null,
   "id": "7914ce3d",
   "metadata": {},
   "outputs": [],
   "source": [
    "# 19\n",
    "# координаты исследователя ------------------------------------------------------\n",
    "x_coord: float = float(input())\n",
    "y_coord: float = float(input())\n",
    "\n",
    "# константы ---------------------------------------------------------------------\n",
    "ISLAND_RADIUS_SQ: float = 100.0  # 10² — проверяем без извлечения корня\n",
    "\n",
    "\n",
    "def is_inside_island(x_value: float, y_value: float) -> bool:\n",
    "    \"\"\"Точка лежит в круге радиуса 10 (остров).\"\"\"\n",
    "    return x_value * x_value + y_value * y_value <= ISLAND_RADIUS_SQ\n",
    "\n",
    "\n",
    "def lower_parabola_y(x_value: float) -> float:\n",
    "    \"\"\"\n",
    "    y-координата нижней границы зыбучих песков.\n",
    "\n",
    "    парабола: y = (9/35)·x² + (18/35)·x − 9.\n",
    "    \"\"\"\n",
    "    return (9.0 / 35.0) * x_value * x_value + (18.0 / 35.0) * x_value - 9.0\n",
    "\n",
    "\n",
    "def is_inside_quicksand(x_value: float, y_value: float) -> bool:\n",
    "    \"\"\"Точка лежит в зоне зыбучих песков.\"\"\"\n",
    "    # Ниже параболы уже безопасно\n",
    "    if y_value < lower_parabola_y(x_value):\n",
    "        return False\n",
    "\n",
    "    # Левый сегмент (x ≤ –4)\n",
    "    if x_value <= -4.0:\n",
    "        return 2.0 * x_value + 14.0 <= y_value <= 6.0\n",
    "\n",
    "    # Верхний горизонтальный сегмент (–4 < x < 1)\n",
    "    if -4.0 < x_value < 1.0:\n",
    "        return y_value <= 6.0\n",
    "\n",
    "    # Правый сегмент (1 ≤ x ≤ 5)\n",
    "    if x_value <= 5.0:\n",
    "        return y_value <= -1.5 * x_value + 7.5\n",
    "\n",
    "    # Правее 5 — вне зыбучих песков\n",
    "    return False\n",
    "\n",
    "\n",
    "# вывод результата --------------------------------------------------------------\n",
    "if not is_inside_island(x_coord, y_coord):\n",
    "    print(\"Вы вышли в море и рискуете быть съеденным акулой!\")\n",
    "elif is_inside_quicksand(x_coord, y_coord):\n",
    "    print(\"Опасность! Покиньте зону как можно скорее!\")\n",
    "else:\n",
    "    print(\"Зона безопасна. Продолжайте работу.\")"
   ]
  },
  {
   "cell_type": "code",
   "execution_count": 34,
   "id": "ecbae74b",
   "metadata": {},
   "outputs": [
    {
     "name": "stdout",
     "output_type": "stream",
     "text": [
      "зайка 5\n"
     ]
    }
   ],
   "source": [
    "# 20\n",
    "# чтение исходных описаний ------------------------------------------------------\n",
    "first_description: str = input()\n",
    "second_description: str = input()\n",
    "third_description: str = input()\n",
    "\n",
    "# ищем строки, в которых встречается слово «зайка» -----------------------------\n",
    "matching_descriptions: list[str] = []\n",
    "\n",
    "for current_description in (\n",
    "    first_description,\n",
    "    second_description,\n",
    "    third_description,\n",
    "):\n",
    "    if \"зайка\" in current_description:\n",
    "        matching_descriptions.append(current_description)\n",
    "\n",
    "# среди подходящих выбираем лексикографически минимальную ----------------------\n",
    "chosen_description: str = min(matching_descriptions)\n",
    "\n",
    "# длина выбранной строки -------------------------------------------------------\n",
    "description_length: int = len(chosen_description)\n",
    "\n",
    "# вывод результата -------------------------------------------------------------\n",
    "print(chosen_description, end=\" \")\n",
    "print(description_length)"
   ]
  }
 ],
 "metadata": {
  "kernelspec": {
   "display_name": "dsfb",
   "language": "python",
   "name": "python3"
  },
  "language_info": {
   "codemirror_mode": {
    "name": "ipython",
    "version": 3
   },
   "file_extension": ".py",
   "mimetype": "text/x-python",
   "name": "python",
   "nbconvert_exporter": "python",
   "pygments_lexer": "ipython3",
   "version": "3.12.9"
  }
 },
 "nbformat": 4,
 "nbformat_minor": 5
}
