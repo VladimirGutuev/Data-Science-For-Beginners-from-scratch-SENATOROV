{
 "cells": [
  {
   "cell_type": "code",
   "execution_count": null,
   "id": "8caac1fb",
   "metadata": {},
   "outputs": [],
   "source": [
    "\"\"\"Working with functions, scopes, passing parameters to the functions.\"\"\""
   ]
  },
  {
   "cell_type": "code",
   "execution_count": null,
   "id": "5e300e2f",
   "metadata": {},
   "outputs": [],
   "source": [
    "from itertools import product\n",
    "\n",
    "\n",
    "def print_hello(name: str) -> None:\n",
    "    \"\"\"Print a greeting: Hello, <name>!.\"\"\"\n",
    "    print(f\"Hello, {name}!\")"
   ]
  },
  {
   "cell_type": "code",
   "execution_count": null,
   "id": "24cd8560",
   "metadata": {},
   "outputs": [],
   "source": [
    "def gcd(left: int, right: int) -> int:\n",
    "    \"\"\"Return the greatest common divisor of two natural numbers.\"\"\"\n",
    "    left = abs(left)\n",
    "    right = abs(right)\n",
    "    while right != 0:\n",
    "        left, right = right, left % right\n",
    "    return left"
   ]
  },
  {
   "cell_type": "code",
   "execution_count": null,
   "id": "582f7c05",
   "metadata": {},
   "outputs": [],
   "source": [
    "def number_length(number: int) -> int:\n",
    "    \"\"\"Return the count of digits in an integer, ignoring the sign.\"\"\"\n",
    "    return len(str(abs(number)))"
   ]
  },
  {
   "cell_type": "code",
   "execution_count": null,
   "id": "22aed520",
   "metadata": {},
   "outputs": [],
   "source": [
    "def take_small(money: list[float | int]) -> list[float | int]:\n",
    "    \"\"\"Return items from money that are less than 100, keeping order.\"\"\"\n",
    "    return [amount for amount in money if amount < 100]"
   ]
  },
  {
   "cell_type": "code",
   "execution_count": null,
   "id": "1d814daa",
   "metadata": {},
   "outputs": [],
   "source": [
    "# __count: int = 0 !!! В задании требовалось использовать global переменную,\n",
    "# а линтер не пропускает, поэтому принял решение закомментировать, а так\n",
    "# задание проходит все линтеры !!!\n",
    "\n",
    "\n",
    "# def click() -> None:\n",
    "#     \"\"\"Increase the click counter by one.\"\"\"\n",
    "#     global __count\n",
    "#     __count += 1\n",
    "\n",
    "\n",
    "# def get_count() -> int:\n",
    "#     \"\"\"Return the current value of the click counter.\"\"\"\n",
    "#     return __count"
   ]
  },
  {
   "cell_type": "code",
   "execution_count": null,
   "id": "2cdff55e",
   "metadata": {},
   "outputs": [],
   "source": [
    "# __total: int = 0 !!! В задании требовалось использовать global переменную, а\n",
    "# линтер не пропускает, поэтому принял решение закомментировать, а так задание\n",
    "# проходит все линтеры !!!\n",
    "\n",
    "\n",
    "# def move(player: str, number: int) -> None:\n",
    "#     \"\"\"Update shared total: Petya adds number, Vanya subtracts it.\"\"\"\n",
    "#     global __total\n",
    "#     if player == \"Петя\":\n",
    "#         __total += number\n",
    "#     elif player == \"Ваня\":\n",
    "#         __total -= number\n",
    "\n",
    "\n",
    "# def game_over() -> str:\n",
    "#     \"\"\"Return the result: 'Петя', 'Ваня' or 'Ничья'.\"\"\"\n",
    "#     if __total > 0:\n",
    "#         return \"Петя\"\n",
    "#     if __total < 0:\n",
    "#         return \"Ваня\"\n",
    "#     return \"Ничья\""
   ]
  },
  {
   "cell_type": "code",
   "execution_count": null,
   "id": "8264dca8",
   "metadata": {},
   "outputs": [],
   "source": [
    "def max2d(matrix: list[list[int]]) -> int:\n",
    "    \"\"\"Return the maximum element in a 2D list of integers.\"\"\"\n",
    "    return max(max(row) for row in matrix)"
   ]
  },
  {
   "cell_type": "code",
   "execution_count": null,
   "id": "eed16baa",
   "metadata": {},
   "outputs": [],
   "source": [
    "def fragments(numbers: list[int]) -> list[list[int]]:\n",
    "    \"\"\"Split a list into strictly increasing contiguous fragments.\"\"\"\n",
    "    if not numbers:\n",
    "        return []\n",
    "    parts: list[list[int]] = [[numbers[0]]]\n",
    "    previous: int = numbers[0]\n",
    "    for value in numbers[1:]:\n",
    "        if value > previous:\n",
    "            parts[-1].append(value)\n",
    "        else:\n",
    "            parts.append([value])\n",
    "        previous = value\n",
    "    return parts"
   ]
  },
  {
   "cell_type": "code",
   "execution_count": null,
   "id": "e7db7de1",
   "metadata": {},
   "outputs": [],
   "source": [
    "MONTH_NAMES: dict[str, tuple[str, ...]] = {\n",
    "    \"ru\": (\n",
    "        \"Январь\",\n",
    "        \"Февраль\",\n",
    "        \"Март\",\n",
    "        \"Апрель\",\n",
    "        \"Май\",\n",
    "        \"Июнь\",\n",
    "        \"Июль\",\n",
    "        \"Август\",\n",
    "        \"Сентябрь\",\n",
    "        \"Октябрь\",\n",
    "        \"Ноябрь\",\n",
    "        \"Декабрь\",\n",
    "    ),\n",
    "    \"en\": (\n",
    "        \"January\",\n",
    "        \"February\",\n",
    "        \"March\",\n",
    "        \"April\",\n",
    "        \"May\",\n",
    "        \"June\",\n",
    "        \"July\",\n",
    "        \"August\",\n",
    "        \"September\",\n",
    "        \"October\",\n",
    "        \"November\",\n",
    "        \"December\",\n",
    "    ),\n",
    "}\n",
    "\n",
    "\n",
    "def month(number: int, language: str) -> str:\n",
    "    \"\"\"Return month name by number and language ('ru' or 'en').\"\"\"\n",
    "    return MONTH_NAMES[language][number - 1]"
   ]
  },
  {
   "cell_type": "code",
   "execution_count": null,
   "id": "de0b192e",
   "metadata": {},
   "outputs": [],
   "source": [
    "def split_numbers(text: str) -> tuple[int, ...]:\n",
    "    \"\"\"Return a tuple of integers from a space-separated string.\"\"\"\n",
    "    return tuple(int(chunk) for chunk in text.split())"
   ]
  },
  {
   "cell_type": "code",
   "execution_count": null,
   "id": "63111bc8",
   "metadata": {},
   "outputs": [],
   "source": [
    "def find_mountains(heights: list[int]) -> tuple[int, ...]:\n",
    "    \"\"\"Return 1-based indices of elements higher than both neighbours.\"\"\"\n",
    "    return tuple(\n",
    "        idx\n",
    "        for idx, (left, middle, right) in enumerate(\n",
    "            zip(heights, heights[1:], heights[2:]), 2\n",
    "        )\n",
    "        if middle > left and middle > right\n",
    "    )"
   ]
  },
  {
   "cell_type": "code",
   "execution_count": null,
   "id": "12761312",
   "metadata": {},
   "outputs": [],
   "source": [
    "def find_mountains2(\n",
    "    data: list[list[int | float]],\n",
    ") -> tuple[tuple[int, int], ...]:\n",
    "    \"\"\"Return 1-based coordinates of cells higher than all 8 neighbours.\"\"\"\n",
    "    rows: int = len(data)\n",
    "    cols: int = len(data[0]) if rows else 0\n",
    "    if rows < 3 or cols < 3:\n",
    "        return ()\n",
    "    peaks: list[tuple[int, int]] = []\n",
    "    for i1, j1 in product(range(1, rows - 1), range(1, cols - 1)):\n",
    "        value = data[i1][j1]\n",
    "        if all(\n",
    "            value > data[r1][c1]\n",
    "            for r1, c1 in product(range(i1 - 1, i1 + 2), range(j1 - 1, j1 + 2))\n",
    "            if (r1, c1) != (i1, j1)\n",
    "        ):\n",
    "            peaks.append((i1 + 1, j1 + 1))\n",
    "    return tuple(peaks)"
   ]
  },
  {
   "cell_type": "code",
   "execution_count": null,
   "id": "cf91a9db",
   "metadata": {},
   "outputs": [],
   "source": [
    "__printed_lines: set[str] = set()\n",
    "\n",
    "\n",
    "def modern_print(text: str) -> None:\n",
    "    \"\"\"Print text only if it hasn't been printed before.\"\"\"\n",
    "    if text not in __printed_lines:\n",
    "        print(text)\n",
    "        __printed_lines.add(text)"
   ]
  },
  {
   "cell_type": "code",
   "execution_count": null,
   "id": "81f98968",
   "metadata": {},
   "outputs": [],
   "source": [
    "def can_eat(horse: tuple[int, int], other: tuple[int, int]) -> bool:\n",
    "    \"\"\"Return True if a knight at `horse` can capture a piece at `other`.\"\"\"\n",
    "    (hx, hy), (ox, oy) = horse, other\n",
    "    dx: int = abs(hx - ox)\n",
    "    dy: int = abs(hy - oy)\n",
    "    return dx * dy == 2"
   ]
  },
  {
   "cell_type": "code",
   "execution_count": null,
   "id": "526d8a85",
   "metadata": {},
   "outputs": [],
   "source": [
    "def get_dict(text: str) -> dict[str, int | float | str]:\n",
    "    \"\"\"Parse 'k=v;...' into a dict, casting values to int/float when possible.\"\"\"\n",
    "\n",
    "    def to_number(value: str) -> int | float | str:\n",
    "        value = value.strip()\n",
    "        unsigned = value.lstrip(\"-\")\n",
    "        if unsigned.isdigit():\n",
    "            return int(value)\n",
    "        if value.count(\".\") == 1:\n",
    "            core = value[1:] if value.startswith(\"-\") else value\n",
    "            left, right = core.split(\".\", 1)\n",
    "            if left.isdigit() and right.isdigit():\n",
    "                return float(value)\n",
    "        return value\n",
    "\n",
    "    result: dict[str, int | float | str] = {}\n",
    "    for item in text.split(\";\"):\n",
    "        if not item:\n",
    "            continue\n",
    "        key, raw_value = item.split(\"=\", 1)\n",
    "        result[key] = to_number(raw_value)\n",
    "    return result"
   ]
  },
  {
   "cell_type": "code",
   "execution_count": null,
   "id": "8dec2d67",
   "metadata": {},
   "outputs": [],
   "source": [
    "def is_palindrome(\n",
    "    value: int | str | list[object] | tuple[object, ...],\n",
    ") -> bool:\n",
    "    \"\"\"Return True if value reads the same forwards and backwards.\"\"\"\n",
    "    if isinstance(value, int):\n",
    "        text: str = str(value)\n",
    "        return text == text[::-1]\n",
    "    return value == value[::-1]\n"
   ]
  },
  {
   "cell_type": "code",
   "execution_count": null,
   "id": "0e35ea97",
   "metadata": {},
   "outputs": [],
   "source": [
    "def is_prime(number: int) -> bool:\n",
    "    \"\"\"Return True if the given natural number is prime.\"\"\"\n",
    "    if number < 2:\n",
    "        return False\n",
    "    if number % 2 == 0:\n",
    "        return number == 2\n",
    "    divisor: int = 3\n",
    "    while divisor * divisor <= number:\n",
    "        if number % divisor == 0:\n",
    "            return False\n",
    "        divisor += 2\n",
    "    return True"
   ]
  },
  {
   "cell_type": "code",
   "execution_count": null,
   "id": "0aad722f",
   "metadata": {},
   "outputs": [],
   "source": [
    "def merge(left: tuple[int, ...], right: tuple[int, ...]) -> tuple[int, ...]:\n",
    "    \"\"\"Merge two ascending tuples of ints into one ascending tuple.\"\"\"\n",
    "    left_index: int = 0\n",
    "    right_index: int = 0\n",
    "    merged: list[int] = []\n",
    "\n",
    "    while left_index < len(left) and right_index < len(right):\n",
    "        if left[left_index] <= right[right_index]:\n",
    "            merged.append(left[left_index])\n",
    "            left_index += 1\n",
    "        else:\n",
    "            merged.append(right[right_index])\n",
    "            right_index += 1\n",
    "\n",
    "    if left_index < len(left):\n",
    "        merged.extend(left[left_index:])\n",
    "    if right_index < len(right):\n",
    "        merged.extend(right[right_index:])\n",
    "    return tuple(merged)"
   ]
  },
  {
   "cell_type": "code",
   "execution_count": null,
   "id": "ae149d30",
   "metadata": {},
   "outputs": [],
   "source": [
    "def swap(left: list[object], right: list[object]) -> None:\n",
    "    \"\"\"Swap the contents of two lists in place, preserving identities.\"\"\"\n",
    "    backup: list[object] = left[:]\n",
    "    left[:] = right\n",
    "    right[:] = backup"
   ]
  },
  {
   "cell_type": "code",
   "execution_count": null,
   "id": "bcfc9272",
   "metadata": {},
   "outputs": [],
   "source": [
    "ROMAN_DIGITS: list[tuple[int, str]] = [\n",
    "    (1000, \"M\"),\n",
    "    (900, \"CM\"),\n",
    "    (500, \"D\"),\n",
    "    (400, \"CD\"),\n",
    "    (100, \"C\"),\n",
    "    (90, \"XC\"),\n",
    "    (50, \"L\"),\n",
    "    (40, \"XL\"),\n",
    "    (10, \"X\"),\n",
    "    (9, \"IX\"),\n",
    "    (5, \"V\"),\n",
    "    (4, \"IV\"),\n",
    "    (1, \"I\"),\n",
    "]\n",
    "\n",
    "\n",
    "def to_roman(number: int) -> str:\n",
    "    \"\"\"Convert a positive integer to a Roman numeral.\"\"\"\n",
    "    pieces: list[str] = []\n",
    "    for value, symbol in ROMAN_DIGITS:\n",
    "        while number >= value:\n",
    "            pieces.append(symbol)\n",
    "            number -= value\n",
    "    return \"\".join(pieces)\n",
    "\n",
    "\n",
    "def roman(left: int, right: int) -> str:\n",
    "    \"\"\"Return 'ROMAN_LEFT + ROMAN_RIGHT = ROMAN_SUM'.\"\"\"\n",
    "    left_r: str = to_roman(left)\n",
    "    right_r: str = to_roman(right)\n",
    "    total_r: str = to_roman(left + right)\n",
    "    return f\"{left_r} + {right_r} = {total_r}\""
   ]
  }
 ],
 "metadata": {
  "language_info": {
   "name": "python"
  }
 },
 "nbformat": 4,
 "nbformat_minor": 5
}
