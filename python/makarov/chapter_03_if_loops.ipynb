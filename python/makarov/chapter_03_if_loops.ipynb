{
 "cells": [
  {
   "cell_type": "code",
   "execution_count": null,
   "id": "d3e5d08e",
   "metadata": {},
   "outputs": [],
   "source": [
    "\"\"\"Conditions and loops in python.\"\"\""
   ]
  },
  {
   "cell_type": "markdown",
   "id": "e1772b02",
   "metadata": {},
   "source": [
    "## Условия и циклы. Продолжение"
   ]
  },
  {
   "cell_type": "markdown",
   "id": "a2fa97dc",
   "metadata": {},
   "source": [
    "### Еще раз про условия с if"
   ]
  },
  {
   "cell_type": "markdown",
   "id": "1ff30040",
   "metadata": {},
   "source": [
    "Множественные условия (multi-way decisions)"
   ]
  },
  {
   "cell_type": "code",
   "execution_count": 1,
   "id": "f9bf0d4c",
   "metadata": {},
   "outputs": [
    {
     "name": "stdout",
     "output_type": "stream",
     "text": [
      "Medium\n"
     ]
    }
   ],
   "source": [
    "# импортируем типы Iterable и Union из typing\n",
    "from typing import Iterable, Union\n",
    "\n",
    "# импортируем библиотеку numpy\n",
    "import numpy as np\n",
    "\n",
    "# напишем программу, которая разобьет все числа на малые, средние и большие\n",
    "\n",
    "v_var: int = 42  # зададим число\n",
    "\n",
    "# и пропишем условия (не забывайте про двоеточие и отступ)\n",
    "if v_var < 10:\n",
    "    print(\"Small\")\n",
    "elif v_var < 100:\n",
    "    print(\"Medium\")\n",
    "else:\n",
    "    print(\"Large\")"
   ]
  },
  {
   "cell_type": "code",
   "execution_count": 2,
   "id": "5a5e989d",
   "metadata": {},
   "outputs": [
    {
     "name": "stdout",
     "output_type": "stream",
     "text": [
      "Small\n"
     ]
    }
   ],
   "source": [
    "# запросим число у пользователя\n",
    "user_input_1: str = input(\"Введите число: \")\n",
    "\n",
    "# преобразуем в тип int\n",
    "w_var: int = int(user_input_1)\n",
    "\n",
    "# и наконец классифицируем\n",
    "if w_var < 10:\n",
    "    print(\"Small\")\n",
    "elif w_var < 100:\n",
    "    print(\"Medium\")\n",
    "else:\n",
    "    print(\"Large\")"
   ]
  },
  {
   "cell_type": "markdown",
   "id": "80720a85",
   "metadata": {},
   "source": [
    "Вложенные условия (nested decisions)"
   ]
  },
  {
   "cell_type": "code",
   "execution_count": 3,
   "id": "ea31768e",
   "metadata": {},
   "outputs": [
    {
     "name": "stdout",
     "output_type": "stream",
     "text": [
      "Small\n"
     ]
    }
   ],
   "source": [
    "# запрашиваем число\n",
    "user_input_2: str = input(\"Введите число: \")\n",
    "\n",
    "# проверяем первое условие (не пустая ли строка), если оно выполняется\n",
    "if len(user_input_2) != 0:\n",
    "\n",
    "    # преобразуем в тип int\n",
    "    x_var: int = int(user_input_2)\n",
    "\n",
    "    # и классифицируем\n",
    "    if x_var < 10:\n",
    "        print(\"Small\")\n",
    "    elif x_var < 100:\n",
    "        print(\"Medium\")\n",
    "    else:\n",
    "        print(\"Large\")\n",
    "\n",
    "# в противном, говорим, что ввод пустой\n",
    "else:\n",
    "    print(\"Ввод пустой\")"
   ]
  },
  {
   "cell_type": "markdown",
   "id": "a17f1d35",
   "metadata": {},
   "source": [
    "Несколько условий в одном выражении с операторами and или or"
   ]
  },
  {
   "cell_type": "code",
   "execution_count": 4,
   "id": "0aa929ad",
   "metadata": {},
   "outputs": [
    {
     "name": "stdout",
     "output_type": "stream",
     "text": [
      "Medium\n"
     ]
    }
   ],
   "source": [
    "# пример с and (логическим И)\n",
    "y_var: int = 42\n",
    "\n",
    "# если z больше 10 и одновременно меньше 100\n",
    "if 10 < y_var < 100:\n",
    "\n",
    "    # у нас среднее число\n",
    "    print(\"Medium\")\n",
    "\n",
    "# в противном случае оно либо маленькое либо большое\n",
    "else:\n",
    "    print(\"Small or Large\")"
   ]
  },
  {
   "cell_type": "code",
   "execution_count": 5,
   "id": "fc39e415",
   "metadata": {},
   "outputs": [
    {
     "name": "stdout",
     "output_type": "stream",
     "text": [
      "Small or Large\n"
     ]
    }
   ],
   "source": [
    "# пример с or (логическим ИЛИ)\n",
    "z_var: int = 2\n",
    "\n",
    "# если z меньше 10 или больше 100\n",
    "if z_var < 10 or z_var > 100:\n",
    "\n",
    "    # оно либо маленькое либо большое\n",
    "    print(\"Small or Large\")\n",
    "\n",
    "# в противном случае оно среднее\n",
    "else:\n",
    "    print(\"Medium\")"
   ]
  },
  {
   "cell_type": "markdown",
   "id": "704d87cc",
   "metadata": {},
   "source": [
    "Проверка вхождения элемента в объект с in / not in"
   ]
  },
  {
   "cell_type": "code",
   "execution_count": 6,
   "id": "11a3d39f",
   "metadata": {},
   "outputs": [
    {
     "name": "stdout",
     "output_type": "stream",
     "text": [
      "Слово найдено\n"
     ]
    }
   ],
   "source": [
    "# можно проверить вхождение слова в строку\n",
    "sentence: str = \"To be, or not to be, that is the question\"\n",
    "word: str = \"question\"\n",
    "\n",
    "if word in sentence:\n",
    "    print(\"Слово найдено\")"
   ]
  },
  {
   "cell_type": "code",
   "execution_count": 7,
   "id": "e5edc4e6",
   "metadata": {},
   "outputs": [
    {
     "name": "stdout",
     "output_type": "stream",
     "text": [
      "Такого числа в списке нет\n"
     ]
    }
   ],
   "source": [
    "# или отсутствие элемента в списке\n",
    "number_list_1: list[int] = [2, 3, 4, 6, 7]\n",
    "number: int = 5\n",
    "\n",
    "if number not in number_list_1:\n",
    "    print(\"Такого числа в списке нет\")"
   ]
  },
  {
   "cell_type": "code",
   "execution_count": 8,
   "id": "46b5d0dd",
   "metadata": {},
   "outputs": [],
   "source": [
    "# кроме того, можно проверить вхождение ключа и значения в словарь\n",
    "\n",
    "# возьмем очень простой словарь\n",
    "grocery_items_1: dict[str, int] = {\"apple\": 3, \"tomato\": 6, \"carrot\": 2}"
   ]
  },
  {
   "cell_type": "code",
   "execution_count": 9,
   "id": "a71e953d",
   "metadata": {},
   "outputs": [
    {
     "name": "stdout",
     "output_type": "stream",
     "text": [
      "Нашлись\n"
     ]
    }
   ],
   "source": [
    "# вначале поищем яблоки среди ключей словаря\n",
    "if \"apple\" in grocery_items_1:\n",
    "    print(\"Нашлись\")"
   ]
  },
  {
   "cell_type": "code",
   "execution_count": 10,
   "id": "f924ae3d",
   "metadata": {},
   "outputs": [
    {
     "name": "stdout",
     "output_type": "stream",
     "text": [
      "Есть\n"
     ]
    }
   ],
   "source": [
    "# а затем посмотрим, нет ли числа 6 среди его значений\n",
    "# с помощью метода .values()\n",
    "if 6 in grocery_items_1.values():\n",
    "    print(\"Есть\")"
   ]
  },
  {
   "cell_type": "markdown",
   "id": "6c9f2adf",
   "metadata": {},
   "source": [
    "### Циклы в Питоне"
   ]
  },
  {
   "cell_type": "markdown",
   "id": "81f44eba",
   "metadata": {},
   "source": [
    "#### Цикл for"
   ]
  },
  {
   "cell_type": "markdown",
   "id": "db004de4",
   "metadata": {},
   "source": [
    "##### Основные операции"
   ]
  },
  {
   "cell_type": "code",
   "execution_count": 11,
   "id": "cca0e01a",
   "metadata": {},
   "outputs": [
    {
     "name": "stdout",
     "output_type": "stream",
     "text": [
      "1\n",
      "2\n",
      "3\n"
     ]
    }
   ],
   "source": [
    "# поочередно выведем элементы списка\n",
    "number_list_2: list[int] = [1, 2, 3]\n",
    "\n",
    "# не забывая про двоеточие и отступ\n",
    "for number in number_list_2:\n",
    "    print(number)"
   ]
  },
  {
   "cell_type": "code",
   "execution_count": 12,
   "id": "91004936",
   "metadata": {},
   "outputs": [],
   "source": [
    "# создадим словарь, значениями которого будут списки из двух элементов\n",
    "grocery_items_2: dict[str, list[Union[int, str]]] = {\n",
    "    \"apple\": [3, \"kg\"],\n",
    "    \"tomato\": [6, \"pcs\"],\n",
    "    \"carrot\": [2, \"kg\"],\n",
    "}"
   ]
  },
  {
   "cell_type": "code",
   "execution_count": 13,
   "id": "8a87467d",
   "metadata": {},
   "outputs": [
    {
     "name": "stdout",
     "output_type": "stream",
     "text": [
      "apple [3, 'kg']\n",
      "tomato [6, 'pcs']\n",
      "carrot [2, 'kg']\n"
     ]
    }
   ],
   "source": [
    "# затем создадим две переменные-контейнера и применим метод .items()\n",
    "for key, value in grocery_items_2.items():\n",
    "    print(key, value)"
   ]
  },
  {
   "cell_type": "code",
   "execution_count": 14,
   "id": "a68d7891",
   "metadata": {},
   "outputs": [
    {
     "name": "stdout",
     "output_type": "stream",
     "text": [
      "1\n",
      "2\n",
      "3\n"
     ]
    }
   ],
   "source": [
    "# создадим массив и поместим в переменную number_array\n",
    "number_array: Iterable[int] = np.array([1, 2, 3])\n",
    "\n",
    "# пройдемся по нему с помощью цикла for\n",
    "for number in number_array:\n",
    "    print(number)"
   ]
  },
  {
   "cell_type": "code",
   "execution_count": 15,
   "id": "8d1ce1da",
   "metadata": {},
   "outputs": [],
   "source": [
    "# предположим, что у нас есть следующая база данных клиентов\n",
    "clients_1: dict[int, dict[str, Union[str, int]]] = {\n",
    "    1: {\"name\": \"Анна\", \"age\": 24, \"sex\": \"male\", \"revenue\": 12000},\n",
    "    2: {\"name\": \"Илья\", \"age\": 18, \"sex\": \"female\", \"revenue\": 8000},\n",
    "}"
   ]
  },
  {
   "cell_type": "code",
   "execution_count": 16,
   "id": "04c1e4e1",
   "metadata": {},
   "outputs": [
    {
     "name": "stdout",
     "output_type": "stream",
     "text": [
      "client ID: 1\n",
      "name: Анна\n",
      "age: 24\n",
      "sex: male\n",
      "revenue: 12000\n",
      "\n",
      "client ID: 2\n",
      "name: Илья\n",
      "age: 18\n",
      "sex: female\n",
      "revenue: 8000\n",
      "\n"
     ]
    }
   ],
   "source": [
    "# в первом цикле for поместим id и информацию о клиентах в переменные id и info\n",
    "for client_id, info in clients_1.items():\n",
    "\n",
    "    # выведем id клиента\n",
    "    print(\"client ID: \" + str(client_id))\n",
    "\n",
    "    # во втором цикле возьмем информацию об этом клиенте (это тоже словарь)\n",
    "    for key_s, value_s in info.items():\n",
    "\n",
    "        # и выведем каждый ключ (название поля) и значение (саму информацию)\n",
    "        print(key_s + \": \" + str(value_s))\n",
    "\n",
    "    # добавим пустую строку после того, как выведем информацию об одном клиенте\n",
    "    print()"
   ]
  },
  {
   "cell_type": "markdown",
   "id": "dec69a6e",
   "metadata": {},
   "source": [
    "##### Функция range()"
   ]
  },
  {
   "cell_type": "code",
   "execution_count": 17,
   "id": "dd64f506",
   "metadata": {},
   "outputs": [
    {
     "name": "stdout",
     "output_type": "stream",
     "text": [
      "0\n",
      "1\n",
      "2\n",
      "3\n",
      "4\n"
     ]
    }
   ],
   "source": [
    "# создадим последовательность от 0 до 4\n",
    "for i in range(5):\n",
    "    print(i)"
   ]
  },
  {
   "cell_type": "code",
   "execution_count": 19,
   "id": "7ac58028",
   "metadata": {},
   "outputs": [
    {
     "name": "stdout",
     "output_type": "stream",
     "text": [
      "1\n",
      "2\n",
      "3\n",
      "4\n",
      "5\n"
     ]
    }
   ],
   "source": [
    "# от 1 до 5\n",
    "for i in range(1, 6):\n",
    "    print(i)"
   ]
  },
  {
   "cell_type": "code",
   "execution_count": 20,
   "id": "c49c17f9",
   "metadata": {},
   "outputs": [
    {
     "name": "stdout",
     "output_type": "stream",
     "text": [
      "0\n",
      "2\n",
      "4\n"
     ]
    }
   ],
   "source": [
    "# и от 0 до 5 с шагом 2 (то есть будем выводить числа через одно)\n",
    "for i in range(0, 6, 2):\n",
    "    print(i)"
   ]
  },
  {
   "cell_type": "code",
   "execution_count": null,
   "id": "ecc6de24",
   "metadata": {},
   "outputs": [
    {
     "name": "stdout",
     "output_type": "stream",
     "text": [
      "Январь 47\n",
      "Февраль 75\n",
      "Март 79\n",
      "Апрель 94\n",
      "Май 123\n",
      "Июнь 209\n",
      "Июль 233\n",
      "Август 214\n",
      "Сентябрь 197\n",
      "Октябрь 130\n",
      "Ноябрь 87\n",
      "Декабрь 55\n"
     ]
    }
   ],
   "source": [
    "# возьмем месяцы года\n",
    "months: list[str] = [\n",
    "    \"Январь\",\n",
    "    \"Февраль\",\n",
    "    \"Март\",\n",
    "    \"Апрель\",\n",
    "    \"Май\",\n",
    "    \"Июнь\",\n",
    "    \"Июль\",\n",
    "    \"Август\",\n",
    "    \"Сентябрь\",\n",
    "    \"Октябрь\",\n",
    "    \"Ноябрь\",\n",
    "    \"Декабрь\",\n",
    "]\n",
    "\n",
    "# и продажи мороженого в тыс. рублей в каждый из месяцев\n",
    "sales: list[int] = [47, 75, 79, 94, 123, 209, 233, 214, 197, 130, 87, 55]\n",
    "\n",
    "# задав последовательность через range(len()),\n",
    "# for i in range(len(months)):\n",
    "\n",
    "# мы можем вывести каждый из элементов обоих списков в одном цикле\n",
    "# print(months[i], sales[i])\n",
    "\n",
    "# Примечание 1: по рекомендации линтера nbqa-pylint вместо range и len\n",
    "# использована функция enumerate:\n",
    "for i, month in enumerate(months):\n",
    "    print(month, sales[i])"
   ]
  },
  {
   "cell_type": "markdown",
   "id": "c8a4c741",
   "metadata": {},
   "source": [
    "Последовательность в обратном порядке"
   ]
  },
  {
   "cell_type": "markdown",
   "id": "3bde22e1",
   "metadata": {},
   "source": [
    "**Способ 1**. Функция reversed()"
   ]
  },
  {
   "cell_type": "code",
   "execution_count": 24,
   "id": "7cea29e2",
   "metadata": {},
   "outputs": [
    {
     "name": "stdout",
     "output_type": "stream",
     "text": [
      "4\n",
      "3\n",
      "2\n",
      "1\n",
      "0\n"
     ]
    }
   ],
   "source": [
    "# создадим список\n",
    "my_list: list[int] = [0, 1, 2, 3, 4]\n",
    "\n",
    "# передадим его функции reversed() и\n",
    "# выведем каждый из элементов списка с помощью цикла for\n",
    "for i in reversed(my_list):\n",
    "    print(i)"
   ]
  },
  {
   "cell_type": "code",
   "execution_count": 25,
   "id": "79ebbe37",
   "metadata": {},
   "outputs": [
    {
     "name": "stdout",
     "output_type": "stream",
     "text": [
      "4\n",
      "3\n",
      "2\n",
      "1\n",
      "0\n"
     ]
    }
   ],
   "source": [
    "for i in reversed(range(5)):\n",
    "    print(i)"
   ]
  },
  {
   "cell_type": "markdown",
   "id": "9b822f9d",
   "metadata": {},
   "source": [
    "**Способ 2**. Указать $-1$ в качестве параметра шага"
   ]
  },
  {
   "cell_type": "code",
   "execution_count": 26,
   "id": "002d9530",
   "metadata": {},
   "outputs": [
    {
     "name": "stdout",
     "output_type": "stream",
     "text": [
      "4\n",
      "3\n",
      "2\n",
      "1\n"
     ]
    }
   ],
   "source": [
    "# первым параметром укажем\n",
    "# конечный элемент списка,\n",
    "# а вторым - начальный\n",
    "for i in range(4, 0, -1):\n",
    "    print(i)"
   ]
  },
  {
   "cell_type": "markdown",
   "id": "2d627f8d",
   "metadata": {},
   "source": [
    "**Способ 3**. Функция sorted()"
   ]
  },
  {
   "cell_type": "code",
   "execution_count": 27,
   "id": "79ca8970",
   "metadata": {},
   "outputs": [
    {
     "name": "stdout",
     "output_type": "stream",
     "text": [
      "4\n",
      "3\n",
      "2\n",
      "1\n",
      "0\n"
     ]
    }
   ],
   "source": [
    "# создадим последовательность от 0 до 4\n",
    "r_var: range = range(5)\n",
    "\n",
    "# отсортируем ее по убыванию\n",
    "sorted_values: list[int] = sorted(r_var, reverse=True)\n",
    "\n",
    "# выведем элементы отсортированной последовательности\n",
    "for i in sorted_values:\n",
    "    print(i)"
   ]
  },
  {
   "cell_type": "markdown",
   "id": "1963d73b",
   "metadata": {},
   "source": [
    "##### Функция enumerate()"
   ]
  },
  {
   "cell_type": "code",
   "execution_count": 28,
   "id": "af0c5849",
   "metadata": {},
   "outputs": [
    {
     "name": "stdout",
     "output_type": "stream",
     "text": [
      "0 Понедельник\n",
      "1 Вторник\n",
      "2 Среда\n",
      "3 Четверг\n",
      "4 Пятница\n",
      "5 Суббота\n",
      "6 Воскресенье\n"
     ]
    }
   ],
   "source": [
    "# пусть дан список с днями недели\n",
    "days_1: list[str] = [\n",
    "    \"Понедельник\",\n",
    "    \"Вторник\",\n",
    "    \"Среда\",\n",
    "    \"Четверг\",\n",
    "    \"Пятница\",\n",
    "    \"Суббота\",\n",
    "    \"Воскресенье\",\n",
    "]\n",
    "\n",
    "# выведем индекс (i) и сами элементы списка (day)\n",
    "for i, day in enumerate(days_1):\n",
    "    print(i, day)"
   ]
  },
  {
   "cell_type": "code",
   "execution_count": 29,
   "id": "e80a4e59",
   "metadata": {},
   "outputs": [
    {
     "name": "stdout",
     "output_type": "stream",
     "text": [
      "1 Понедельник\n",
      "2 Вторник\n",
      "3 Среда\n",
      "4 Четверг\n",
      "5 Пятница\n",
      "6 Суббота\n",
      "7 Воскресенье\n"
     ]
    }
   ],
   "source": [
    "# так же выведем индекс и элементы списка, но начнем с 1\n",
    "for i, day in enumerate(days_1, 1):\n",
    "    print(i, day)"
   ]
  },
  {
   "cell_type": "markdown",
   "id": "e5afb49d",
   "metadata": {},
   "source": [
    "#### Цикл while"
   ]
  },
  {
   "cell_type": "code",
   "execution_count": 30,
   "id": "34d24958",
   "metadata": {},
   "outputs": [
    {
     "name": "stdout",
     "output_type": "stream",
     "text": [
      "Текущее значение счетчика:  0\n",
      "Новое значение счетчика:    1\n",
      "\n",
      "Текущее значение счетчика:  1\n",
      "Новое значение счетчика:    2\n",
      "\n",
      "Текущее значение счетчика:  2\n",
      "Новое значение счетчика:    3\n",
      "\n"
     ]
    }
   ],
   "source": [
    "# зададим начальное значение счетчика\n",
    "tally_1: int = 0\n",
    "\n",
    "# пока счетчик меньше трех\n",
    "while tally_1 < 3:\n",
    "\n",
    "    # в каждом цикле будем выводить его текущее значение\n",
    "    print(\"Текущее значение счетчика:  \" + str(tally_1))\n",
    "\n",
    "    # внутри цикла не забудем \"нарастить\" счетчик\n",
    "    tally_1 = tally_1 + 1\n",
    "\n",
    "    # и выведем новое значение\n",
    "    print(\"Новое значение счетчика:    \" + str(tally_1))\n",
    "\n",
    "    # добавим пустую строку\n",
    "    print()"
   ]
  },
  {
   "cell_type": "code",
   "execution_count": 31,
   "id": "96dcaa3f",
   "metadata": {},
   "outputs": [
    {
     "name": "stdout",
     "output_type": "stream",
     "text": [
      "0\n",
      "1\n",
      "2\n"
     ]
    }
   ],
   "source": [
    "# тот же код можно упростить\n",
    "tally_2: int = 0\n",
    "\n",
    "while tally_2 < 3:\n",
    "    print(tally_2)\n",
    "    # в частности, оператор += сразу увеличивает и присваивает новое значение\n",
    "    tally_2 += 1"
   ]
  },
  {
   "cell_type": "markdown",
   "id": "f125cbbf",
   "metadata": {},
   "source": [
    "#### Break, continue"
   ]
  },
  {
   "cell_type": "markdown",
   "id": "52344ec1",
   "metadata": {},
   "source": [
    "Оператор break"
   ]
  },
  {
   "cell_type": "code",
   "execution_count": null,
   "id": "d8a7f722",
   "metadata": {},
   "outputs": [
    {
     "name": "stdout",
     "output_type": "stream",
     "text": [
      "1 {'name': 'Анна', 'age': 24, 'sex': 'male', 'revenue': 12000}\n"
     ]
    }
   ],
   "source": [
    "# вновь возьмем словарь clients\n",
    "clients_2: dict[int, dict[str, Union[str, int]]] = {\n",
    "    1: {\"name\": \"Анна\", \"age\": 24, \"sex\": \"male\", \"revenue\": 12000},\n",
    "    2: {\"name\": \"Илья\", \"age\": 18, \"sex\": \"female\", \"revenue\": 8000},\n",
    "}\n",
    "\n",
    "# в цикле пройдемся по ключам и значениям словаря\n",
    "for client_id, info in clients_2.items():\n",
    "\n",
    "    # и выведем их\n",
    "    print(client_id, info)\n",
    "\n",
    "    # однако уже после первого исполнения цикла, прервем его\n",
    "    break"
   ]
  },
  {
   "cell_type": "code",
   "execution_count": 33,
   "id": "5e4d1c21",
   "metadata": {},
   "outputs": [
    {
     "name": "stdout",
     "output_type": "stream",
     "text": [
      "6\n",
      "5\n",
      "4\n"
     ]
    }
   ],
   "source": [
    "# начальное значение счетчика\n",
    "tally_3: int = 6\n",
    "\n",
    "# будем исполнять цикл пока x не равен нулю\n",
    "while tally_3 != 0:\n",
    "\n",
    "    # выведем текущее значение счетчика\n",
    "    print(tally_3)\n",
    "\n",
    "    # и уменьшим (!) его на 1\n",
    "    tally_3 -= 1\n",
    "\n",
    "    # если значение счетчика станет равным 3, прервем цикл\n",
    "    if tally_3 == 3:\n",
    "        break"
   ]
  },
  {
   "cell_type": "markdown",
   "id": "e8de4911",
   "metadata": {},
   "source": [
    "Оператор continue"
   ]
  },
  {
   "cell_type": "code",
   "execution_count": 38,
   "id": "27645324",
   "metadata": {},
   "outputs": [
    {
     "name": "stdout",
     "output_type": "stream",
     "text": [
      "2\n",
      "4\n",
      "6\n",
      "8\n",
      "10\n"
     ]
    }
   ],
   "source": [
    "# выведем все четные числа в диапазоне от 1 до 10 включительно.\n",
    "\n",
    "# с помощью функции range() создадим последовательность от 1 до 10\n",
    "for i in range(1, 11):\n",
    "\n",
    "    # если остаток от деления на два не равен нулю (то есть число нечетное)\n",
    "    if i % 2 != 0:\n",
    "\n",
    "        # идем к следующему числу последовательности\n",
    "        continue\n",
    "\n",
    "    # в противном случае выводим число\n",
    "    print(i)"
   ]
  },
  {
   "cell_type": "markdown",
   "id": "9419179d",
   "metadata": {},
   "source": [
    "#### Форматирование строк через f-строки и метод .format()"
   ]
  },
  {
   "cell_type": "code",
   "execution_count": 35,
   "id": "1500f764",
   "metadata": {},
   "outputs": [
    {
     "data": {
      "text/plain": [
       "'Понедельник'"
      ]
     },
     "execution_count": 35,
     "metadata": {},
     "output_type": "execute_result"
    }
   ],
   "source": [
    "# снова возьмем список с днями недели\n",
    "days_2: list[str] = [\n",
    "    \"Понедельник\",\n",
    "    \"Вторник\",\n",
    "    \"Среда\",\n",
    "    \"Четверг\",\n",
    "    \"Пятница\",\n",
    "    \"Суббота\",\n",
    "    \"Воскресенье\",\n",
    "]\n",
    "\n",
    "# и для простоты поместим слово \"Понедельник\" в переменную Monday\n",
    "Monday: str = days_2[0]\n",
    "Monday"
   ]
  },
  {
   "cell_type": "code",
   "execution_count": 36,
   "id": "92750ae0",
   "metadata": {},
   "outputs": [
    {
     "name": "stdout",
     "output_type": "stream",
     "text": [
      "Понедельник - день тяжелый\n"
     ]
    }
   ],
   "source": [
    "# теперь напишем фразу \"Понедельник - день тяжелый\"\n",
    "# следующим образом\n",
    "print(f\"{Monday} - день тяжелый\")"
   ]
  },
  {
   "cell_type": "code",
   "execution_count": null,
   "id": "9ed6e3b4",
   "metadata": {},
   "outputs": [
    {
     "name": "stdout",
     "output_type": "stream",
     "text": [
      "Понедельник - день тяжелый\n"
     ]
    }
   ],
   "source": [
    "# то же самое можно вывести с помощью метода .format()\n",
    "# print(\"{} - день тяжелый\".format(Monday))\n",
    "\n",
    "# Примечание 2: линтер nbqa-pylint f-строку вместо .format()."
   ]
  },
  {
   "cell_type": "markdown",
   "id": "4bcf7d67",
   "metadata": {},
   "source": [
    "### Ответы на вопросы к занятию"
   ]
  },
  {
   "cell_type": "markdown",
   "id": "1f072258",
   "metadata": {},
   "source": [
    "**Вопрос**. Можно ли использовать цикл while с функцией range()?"
   ]
  },
  {
   "cell_type": "code",
   "execution_count": null,
   "id": "cb241329",
   "metadata": {},
   "outputs": [
    {
     "name": "stdout",
     "output_type": "stream",
     "text": [
      "Значение счетчика  1\n",
      "Значение счетчика  2\n",
      "Значение счетчика  3\n",
      "Значение счетчика  4\n",
      "Значение счетчика  5\n",
      "Значение счетчика  6\n",
      "Значение счетчика  7\n",
      "Значение счетчика  8\n",
      "Значение счетчика  9\n",
      "Значение счетчика  10\n"
     ]
    }
   ],
   "source": [
    "# с функцией range() можно использовать цикл while,\n",
    "# но такое решение не оптимально\n",
    "# приведем пример с while\n",
    "\n",
    "tally_4: int = 1  # создадим счетчик\n",
    "\n",
    "# пока счетчик в диапазоне от 1 до 10\n",
    "while tally_4 in range(1, 11):\n",
    "    # выведем его значение и\n",
    "    print(\"Значение счетчика \", tally_4)\n",
    "    tally_4 += 1  # увеличим счетчик на 1"
   ]
  },
  {
   "cell_type": "code",
   "execution_count": 41,
   "id": "f441fa23",
   "metadata": {},
   "outputs": [
    {
     "name": "stdout",
     "output_type": "stream",
     "text": [
      "Значение счетчика  1\n",
      "Значение счетчика  2\n",
      "Значение счетчика  3\n",
      "Значение счетчика  4\n",
      "Значение счетчика  5\n",
      "Значение счетчика  6\n",
      "Значение счетчика  7\n",
      "Значение счетчика  8\n",
      "Значение счетчика  9\n",
      "Значение счетчика  10\n"
     ]
    }
   ],
   "source": [
    "# оптимизированный вариант кода\n",
    "for i in range(1, 11):\n",
    "    print(\"Значение счетчика \", i)"
   ]
  },
  {
   "cell_type": "markdown",
   "id": "cbde0fb4",
   "metadata": {},
   "source": [
    "**Вопрос**. Можно ли обойтись без оператора continue в приведенном на занятии примере?"
   ]
  },
  {
   "cell_type": "code",
   "execution_count": 40,
   "id": "91d633da",
   "metadata": {},
   "outputs": [
    {
     "name": "stdout",
     "output_type": "stream",
     "text": [
      "2\n",
      "4\n",
      "6\n",
      "8\n",
      "10\n"
     ]
    }
   ],
   "source": [
    "for i in range(1, 11):\n",
    "    # если число четное, выведем его\n",
    "    if i % 2 == 0:\n",
    "        print(i)"
   ]
  }
 ],
 "metadata": {
  "kernelspec": {
   "display_name": "base",
   "language": "python",
   "name": "python3"
  },
  "language_info": {
   "codemirror_mode": {
    "name": "ipython",
    "version": 3
   },
   "file_extension": ".py",
   "mimetype": "text/x-python",
   "name": "python",
   "nbconvert_exporter": "python",
   "pygments_lexer": "ipython3",
   "version": "3.12.7"
  }
 },
 "nbformat": 4,
 "nbformat_minor": 5
}
