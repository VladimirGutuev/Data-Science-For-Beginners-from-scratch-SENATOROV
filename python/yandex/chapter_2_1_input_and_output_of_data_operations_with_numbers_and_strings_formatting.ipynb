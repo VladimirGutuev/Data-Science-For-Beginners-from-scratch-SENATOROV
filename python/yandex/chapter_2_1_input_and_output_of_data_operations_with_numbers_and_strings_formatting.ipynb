{
 "cells": [
  {
   "cell_type": "code",
   "execution_count": 1,
   "id": "23cbdb13",
   "metadata": {},
   "outputs": [
    {
     "data": {
      "text/plain": [
       "'yandex contest of chapter 2.1 of Python course.'"
      ]
     },
     "execution_count": 1,
     "metadata": {},
     "output_type": "execute_result"
    }
   ],
   "source": [
    "\"\"\"yandex contest of chapter 2.1 of Python course.\"\"\""
   ]
  },
  {
   "cell_type": "code",
   "execution_count": 2,
   "id": "1a80c842",
   "metadata": {},
   "outputs": [
    {
     "name": "stdout",
     "output_type": "stream",
     "text": [
      "Привет, Яндекс!\n"
     ]
    }
   ],
   "source": [
    "# 1\n",
    "def task_1() -> None:\n",
    "    \"\"\"Task 1.\"\"\"\n",
    "    print(\"Привет, Яндекс!\")\n",
    "\n",
    "\n",
    "task_1()"
   ]
  },
  {
   "cell_type": "code",
   "execution_count": null,
   "id": "c7fba223",
   "metadata": {},
   "outputs": [
    {
     "data": {
      "text/plain": [
       "<function __main__.task_2() -> None>"
      ]
     },
     "execution_count": 3,
     "metadata": {},
     "output_type": "execute_result"
    }
   ],
   "source": [
    "# 2\n",
    "def task_2() -> None:\n",
    "    \"\"\"Task 2.\"\"\"\n",
    "    username: str = input(\"Как Вас зовут?\\n\")\n",
    "    print(\"Привет,\", username)\n",
    "\n",
    "\n",
    "task_2()"
   ]
  },
  {
   "cell_type": "code",
   "execution_count": null,
   "id": "f46dd80a",
   "metadata": {},
   "outputs": [
    {
     "data": {
      "text/plain": [
       "<function __main__.task_3() -> None>"
      ]
     },
     "execution_count": 4,
     "metadata": {},
     "output_type": "execute_result"
    }
   ],
   "source": [
    "# 3\n",
    "def task_3() -> None:\n",
    "    \"\"\"Task 3.\"\"\"\n",
    "    string: str = input()\n",
    "    print(f\"{string}\\n\" * 3)\n",
    "\n",
    "\n",
    "task_3()"
   ]
  },
  {
   "cell_type": "code",
   "execution_count": null,
   "id": "78d6be6c",
   "metadata": {},
   "outputs": [
    {
     "data": {
      "text/plain": [
       "<function __main__.task_4() -> None>"
      ]
     },
     "execution_count": 5,
     "metadata": {},
     "output_type": "execute_result"
    }
   ],
   "source": [
    "# 4\n",
    "def task_4() -> None:\n",
    "    \"\"\"Task 4.\"\"\"\n",
    "    price: int = int(input())\n",
    "    print(f\"{price - 2.5 * 38:.0f}\")\n",
    "\n",
    "\n",
    "task_4()"
   ]
  },
  {
   "cell_type": "code",
   "execution_count": null,
   "id": "2074f2b8",
   "metadata": {},
   "outputs": [
    {
     "data": {
      "text/plain": [
       "<function __main__.task_5() -> None>"
      ]
     },
     "execution_count": 6,
     "metadata": {},
     "output_type": "execute_result"
    }
   ],
   "source": [
    "# 5\n",
    "def task_5() -> None:\n",
    "    \"\"\"Task 5.\"\"\"\n",
    "    price: float = float(input())\n",
    "    weight: float = float(input())\n",
    "    amount_of_money: float = float(input())\n",
    "    print(int(amount_of_money - price * weight))\n",
    "\n",
    "\n",
    "task_5()"
   ]
  },
  {
   "cell_type": "code",
   "execution_count": null,
   "id": "6475f52f",
   "metadata": {},
   "outputs": [
    {
     "data": {
      "text/plain": [
       "<function __main__.task_6() -> None>"
      ]
     },
     "execution_count": 7,
     "metadata": {},
     "output_type": "execute_result"
    }
   ],
   "source": [
    "# 6\n",
    "def task_6() -> None:\n",
    "    \"\"\"Task 6.\"\"\"\n",
    "    name_of_product: str = input()\n",
    "    price_per_kg: int = int(input())\n",
    "    weight: int = int(input())\n",
    "    customer_balance: int = int(input())\n",
    "    summary_cost: int = weight * price_per_kg\n",
    "    change: int = customer_balance - summary_cost\n",
    "\n",
    "    print(\n",
    "        \"Чек\",\n",
    "        f\"{name_of_product} - {weight}кг - {price_per_kg}руб/кг\",\n",
    "        f\"Итого: {summary_cost}руб\",\n",
    "        f\"Внесено: {customer_balance}руб\",\n",
    "        f\"Сдача: {change}руб\",\n",
    "        sep=\"\\n\",\n",
    "    )\n",
    "\n",
    "\n",
    "task_6()"
   ]
  },
  {
   "cell_type": "code",
   "execution_count": null,
   "id": "866093b5",
   "metadata": {},
   "outputs": [
    {
     "data": {
      "text/plain": [
       "<function __main__.task_7() -> None>"
      ]
     },
     "execution_count": 8,
     "metadata": {},
     "output_type": "execute_result"
    }
   ],
   "source": [
    "# 7\n",
    "def task_7() -> None:\n",
    "    \"\"\"Task 7.\"\"\"\n",
    "    print(int(input()) * \"Купи слона!\\n\")\n",
    "\n",
    "\n",
    "task_7()"
   ]
  },
  {
   "cell_type": "code",
   "execution_count": null,
   "id": "0e77f138",
   "metadata": {},
   "outputs": [
    {
     "data": {
      "text/plain": [
       "<function __main__.task_8() -> None>"
      ]
     },
     "execution_count": 9,
     "metadata": {},
     "output_type": "execute_result"
    }
   ],
   "source": [
    "# 8\n",
    "def task_8() -> None:\n",
    "    \"\"\"Task 8.\"\"\"\n",
    "    count_of_strings: int = int(input())\n",
    "    phrase: str = input()\n",
    "    print(f'Я больше никогда не буду писать \"{phrase}\"!\\n' * count_of_strings)\n",
    "\n",
    "\n",
    "task_8()"
   ]
  },
  {
   "cell_type": "code",
   "execution_count": null,
   "id": "5a5e4bf3",
   "metadata": {},
   "outputs": [
    {
     "data": {
      "text/plain": [
       "<function __main__.task_9() -> None>"
      ]
     },
     "execution_count": 10,
     "metadata": {},
     "output_type": "execute_result"
    }
   ],
   "source": [
    "# 9\n",
    "def task_9() -> None:\n",
    "    \"\"\"Task 9.\"\"\"\n",
    "    children_count: int = int(input())\n",
    "    time: int = int(input())\n",
    "\n",
    "    print(children_count * time // 2)\n",
    "\n",
    "\n",
    "task_9()"
   ]
  },
  {
   "cell_type": "code",
   "execution_count": null,
   "id": "1e6ac0b4",
   "metadata": {},
   "outputs": [
    {
     "data": {
      "text/plain": [
       "<function __main__.task_10() -> None>"
      ]
     },
     "execution_count": 11,
     "metadata": {},
     "output_type": "execute_result"
    }
   ],
   "source": [
    "# 10\n",
    "def task_10() -> None:\n",
    "    \"\"\"Task 10.\"\"\"\n",
    "    name: str = input()\n",
    "    locker_number: int = int(input())\n",
    "\n",
    "    print(\n",
    "        f\"Группа №{locker_number // 100}.\\n\"\n",
    "        f\"{locker_number % 10}. {name}.\\n\"\n",
    "        f\"Шкафчик: {locker_number}.\\n\"\n",
    "        f\"Кроватка: {locker_number % 100 // 10}.\"\n",
    "    )\n",
    "\n",
    "\n",
    "task_10()"
   ]
  },
  {
   "cell_type": "code",
   "execution_count": null,
   "id": "e1450131",
   "metadata": {},
   "outputs": [
    {
     "data": {
      "text/plain": [
       "<function __main__.task_11() -> None>"
      ]
     },
     "execution_count": 12,
     "metadata": {},
     "output_type": "execute_result"
    }
   ],
   "source": [
    "# 11\n",
    "def task_11() -> None:\n",
    "    \"\"\"Task 11.\"\"\"\n",
    "    number: int = int(input())\n",
    "\n",
    "    number1: int = number // 1000\n",
    "    number2: int = number // 100 % 10\n",
    "    number3: int = number // 10 % 10\n",
    "    number4: int = number % 10\n",
    "\n",
    "    print(number2, number1, number4, number3, sep=\"\")\n",
    "\n",
    "\n",
    "task_11()"
   ]
  },
  {
   "cell_type": "code",
   "execution_count": null,
   "id": "afd0b3da",
   "metadata": {},
   "outputs": [
    {
     "data": {
      "text/plain": [
       "<function __main__.task_12() -> None>"
      ]
     },
     "execution_count": 13,
     "metadata": {},
     "output_type": "execute_result"
    }
   ],
   "source": [
    "# 12\n",
    "def task_12() -> None:\n",
    "    \"\"\"Task 12.\"\"\"\n",
    "    num_a: int = int(input())\n",
    "    num_b: int = int(input())\n",
    "\n",
    "    res: int = 0\n",
    "    mult: int = 1\n",
    "\n",
    "    while num_a > 0 or num_b > 0:\n",
    "        da: int = num_a % 10  # младшая цифра a\n",
    "        db: int = num_b % 10  # младшая цифра b\n",
    "        num_d: int = (da + db) % 10  # сложение без переноса\n",
    "\n",
    "        res = res + num_d * mult  # приписали цифру d в правильный разряд\n",
    "        mult = mult * 10  # переходим к следующему разряду\n",
    "        num_a = num_a // 10  # «срезали» младший разряд\n",
    "        num_b = num_b // 10\n",
    "\n",
    "    print(res)\n",
    "\n",
    "\n",
    "task_12()"
   ]
  },
  {
   "cell_type": "code",
   "execution_count": null,
   "id": "85e871cf",
   "metadata": {},
   "outputs": [
    {
     "data": {
      "text/plain": [
       "<function __main__.task_13() -> None>"
      ]
     },
     "execution_count": 14,
     "metadata": {},
     "output_type": "execute_result"
    }
   ],
   "source": [
    "# 13\n",
    "def task_13() -> None:\n",
    "    \"\"\"Task 13.\"\"\"\n",
    "    count_of_children: int = int(input())\n",
    "    count_of_sweets: int = int(input())\n",
    "\n",
    "    sweets_per_child: int = count_of_sweets // count_of_children\n",
    "    sweets_remainder: int = count_of_sweets % count_of_children\n",
    "\n",
    "    print(sweets_per_child, sweets_remainder, sep=\"\\n\")\n",
    "\n",
    "\n",
    "task_13()"
   ]
  },
  {
   "cell_type": "code",
   "execution_count": null,
   "id": "ab81db9c",
   "metadata": {},
   "outputs": [
    {
     "data": {
      "text/plain": [
       "<function __main__.task_14() -> None>"
      ]
     },
     "execution_count": 15,
     "metadata": {},
     "output_type": "execute_result"
    }
   ],
   "source": [
    "# 14\n",
    "def task_14() -> None:\n",
    "    \"\"\"Task 14.\"\"\"\n",
    "    red_balls: int = int(input())\n",
    "    #    green_balls: int = int(input())\n",
    "    blue_balls: int = int(input())\n",
    "\n",
    "    print(red_balls + blue_balls + 1)\n",
    "\n",
    "\n",
    "task_14()"
   ]
  },
  {
   "cell_type": "code",
   "execution_count": null,
   "id": "98c42539",
   "metadata": {},
   "outputs": [
    {
     "data": {
      "text/plain": [
       "<function __main__.task_15() -> None>"
      ]
     },
     "execution_count": 16,
     "metadata": {},
     "output_type": "execute_result"
    }
   ],
   "source": [
    "# 15\n",
    "def task_15() -> None:\n",
    "    \"\"\"Task 15.\"\"\"\n",
    "    hours: int = int(input())\n",
    "    minutes: int = int(input())\n",
    "    time_to_delivery: int = int(input())\n",
    "\n",
    "    print(\n",
    "        f\"{((time_to_delivery + minutes) // 60 + hours) % 24:02d}:\"\n",
    "        f\"{(time_to_delivery + minutes) % 60:02d}\"\n",
    "    )\n",
    "\n",
    "\n",
    "task_15()"
   ]
  },
  {
   "cell_type": "code",
   "execution_count": null,
   "id": "8832fb46",
   "metadata": {},
   "outputs": [
    {
     "data": {
      "text/plain": [
       "<function __main__.task_16() -> None>"
      ]
     },
     "execution_count": 17,
     "metadata": {},
     "output_type": "execute_result"
    }
   ],
   "source": [
    "# 16\n",
    "def task_16() -> None:\n",
    "    \"\"\"Task 16.\"\"\"\n",
    "    warehouse_km: int = int(input())\n",
    "    shop_km: int = int(input())\n",
    "    speed_of_car_km_per_hour = int(input())\n",
    "\n",
    "    print(f\"{(shop_km - warehouse_km) / speed_of_car_km_per_hour:.2f}\")\n",
    "\n",
    "\n",
    "task_16()"
   ]
  },
  {
   "cell_type": "code",
   "execution_count": null,
   "id": "2cdb29f7",
   "metadata": {},
   "outputs": [
    {
     "data": {
      "text/plain": [
       "<function __main__.task_17() -> None>"
      ]
     },
     "execution_count": 18,
     "metadata": {},
     "output_type": "execute_result"
    }
   ],
   "source": [
    "# 17\n",
    "def task_17() -> None:\n",
    "    \"\"\"Task 17.\"\"\"\n",
    "    summary: int = int(input())\n",
    "    last_purchase: int = int(input(), 2)\n",
    "    print(summary + last_purchase)\n",
    "\n",
    "\n",
    "task_17()"
   ]
  },
  {
   "cell_type": "code",
   "execution_count": null,
   "id": "19dbeb11",
   "metadata": {},
   "outputs": [
    {
     "data": {
      "text/plain": [
       "<function __main__.task_18() -> None>"
      ]
     },
     "execution_count": 19,
     "metadata": {},
     "output_type": "execute_result"
    }
   ],
   "source": [
    "# 18\n",
    "def task_18() -> None:\n",
    "    \"\"\"Task 18.\"\"\"\n",
    "    purchase = int(input(), 2)\n",
    "    customer_wallet = int(input())\n",
    "\n",
    "    print(customer_wallet - purchase)\n",
    "\n",
    "\n",
    "task_18()"
   ]
  },
  {
   "cell_type": "code",
   "execution_count": null,
   "id": "aca38197",
   "metadata": {},
   "outputs": [
    {
     "name": "stdout",
     "output_type": "stream",
     "text": [
      "================Чек================\n",
      "Товар:                          214\n",
      "Цена:             435кг * 324руб/кг\n",
      "Итого:                    140940руб\n",
      "Внесено:                     421руб\n",
      "Сдача:                   -140519руб\n",
      "===================================\n"
     ]
    }
   ],
   "source": [
    "# 19\n",
    "def task_19() -> None:\n",
    "    \"\"\"Task 19.\"\"\"\n",
    "    item: str = input()\n",
    "    price: int = int(input())\n",
    "    weight: int = int(input())\n",
    "    money: int = int(input())\n",
    "\n",
    "    headings: list[str] = [\"Товар:\", \"Цена:\", \"Итого:\", \"Внесено:\", \"Сдача:\"]\n",
    "    values: list[str] = [\n",
    "        item,\n",
    "        f\"{weight}кг * {price}руб/кг\",\n",
    "        f\"{weight * price}руб\",\n",
    "        f\"{money}руб\",\n",
    "        f\"{money - weight * price}руб\",\n",
    "    ]\n",
    "\n",
    "    print(\"Чек\".center(35, \"=\"))\n",
    "    for idx, heading in enumerate(headings):\n",
    "        # выравниваем заголовок влево (10), а значение — вправо (25)\n",
    "        print(f\"{heading:<10}{values[idx]:>25}\")\n",
    "    print(\"=\" * 35)\n",
    "\n",
    "\n",
    "task_19()"
   ]
  },
  {
   "cell_type": "code",
   "execution_count": null,
   "id": "8f3298f9",
   "metadata": {},
   "outputs": [
    {
     "data": {
      "text/plain": [
       "<function __main__.task_20() -> None>"
      ]
     },
     "execution_count": 21,
     "metadata": {},
     "output_type": "execute_result"
    }
   ],
   "source": [
    "# 20\n",
    "def task_20() -> None:\n",
    "    \"\"\"Task 20.\"\"\"\n",
    "    n_num: int = int(input())  # общий вес (кг)\n",
    "    m_num: int = int(input())  # цена смешанного товара (руб/кг)\n",
    "    k_1: int = int(input())  # цена первого вида котлет (руб/кг)\n",
    "    k_2: int = int(input())  # цена второго вида котлет (руб/кг), k_2 < k_1\n",
    "\n",
    "    # x_num - вес первой партии, y_num - вес второй\n",
    "    x_num = n_num * (m_num - k_2) // (k_1 - k_2)\n",
    "    y_num = n_num - x_num\n",
    "\n",
    "    print(x_num, y_num)\n",
    "\n",
    "\n",
    "task_20()"
   ]
  }
 ],
 "metadata": {
  "kernelspec": {
   "display_name": "dsfb",
   "language": "python",
   "name": "python3"
  },
  "language_info": {
   "codemirror_mode": {
    "name": "ipython",
    "version": 3
   },
   "file_extension": ".py",
   "mimetype": "text/x-python",
   "name": "python",
   "nbconvert_exporter": "python",
   "pygments_lexer": "ipython3",
   "version": "3.12.9"
  }
 },
 "nbformat": 4,
 "nbformat_minor": 5
}
