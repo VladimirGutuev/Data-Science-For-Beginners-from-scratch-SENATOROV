{
 "cells": [
  {
   "cell_type": "code",
   "execution_count": null,
   "id": "cea1100c",
   "metadata": {},
   "outputs": [],
   "source": [
    "\"\"\"Working with modules math and numpy.\"\"\""
   ]
  },
  {
   "cell_type": "code",
   "execution_count": null,
   "id": "a23e710d",
   "metadata": {},
   "outputs": [],
   "source": [
    "import sys\n",
    "from math import comb, cos, dist, e, gcd, log, pi, prod, sin\n",
    "\n",
    "import numpy as np\n",
    "\n",
    "\n",
    "def task_1() -> None:\n",
    "    \"\"\"Compute f(x) from input per given formula and print the result.\"\"\"\n",
    "    input_value: float = float(input())\n",
    "\n",
    "    log_term: float = log(input_value ** (3.0 / 16.0), 32.0)\n",
    "\n",
    "    cos_argument: float = (pi * input_value) / (2.0 * e)\n",
    "    power_term: float = input_value ** cos(cos_argument)\n",
    "\n",
    "    sine_square: float = sin(input_value / pi) ** 2\n",
    "\n",
    "    result_value: float = log_term + power_term - sine_square\n",
    "    print(result_value)\n",
    "\n",
    "\n",
    "task_1()"
   ]
  },
  {
   "cell_type": "code",
   "execution_count": null,
   "id": "0ad6bf59",
   "metadata": {},
   "outputs": [],
   "source": [
    "def task_2() -> None:\n",
    "    \"\"\"Print GCD for each whitespace-separated integer line from stdin.\"\"\"\n",
    "    for input_row in sys.stdin:\n",
    "        stripped: str = input_row.strip()\n",
    "        if not stripped:\n",
    "            continue\n",
    "        values: list[int] = [int(piece) for piece in stripped.split()]\n",
    "        result_value: int = gcd(*values)\n",
    "        print(result_value)\n",
    "\n",
    "\n",
    "task_2()"
   ]
  },
  {
   "cell_type": "code",
   "execution_count": null,
   "id": "1adba858",
   "metadata": {},
   "outputs": [],
   "source": [
    "def task_3() -> None:\n",
    "    \"\"\"Print combos with Vasya included and total combos.\"\"\"\n",
    "    total_people, seats_count = map(int, input().split())\n",
    "    favorable: int = comb(total_people - 1, seats_count - 1)\n",
    "    total: int = comb(total_people, seats_count)\n",
    "    print(f\"{favorable} {total}\")\n",
    "\n",
    "\n",
    "task_3()"
   ]
  },
  {
   "cell_type": "code",
   "execution_count": null,
   "id": "cfdb3abe",
   "metadata": {},
   "outputs": [],
   "source": [
    "def task_4() -> None:\n",
    "    \"\"\"Print geometric mean of whitespace-separated positive numbers.\"\"\"\n",
    "    input_row: str = input().strip()\n",
    "    numbers: list[float] = [float(piece) for piece in input_row.split()]\n",
    "    values_count: int = len(numbers)\n",
    "    product_value: float = float(prod(numbers))\n",
    "    mean_value: float = product_value ** (1.0 / values_count)\n",
    "    print(mean_value)\n",
    "\n",
    "\n",
    "task_4()"
   ]
  },
  {
   "cell_type": "code",
   "execution_count": null,
   "id": "a7b35516",
   "metadata": {},
   "outputs": [],
   "source": [
    "def task_5() -> None:\n",
    "    \"\"\"Print distance between (x, y) and (rho, phi) after polar->cartesian.\"\"\"\n",
    "    cartesian_x, cartesian_y = map(float, input().split())\n",
    "    polar_rho, polar_phi = map(float, input().split())\n",
    "\n",
    "    polar_x: float = polar_rho * cos(polar_phi)\n",
    "    polar_y: float = polar_rho * sin(polar_phi)\n",
    "\n",
    "    distance_value: float = dist([cartesian_x, cartesian_y], [polar_x, polar_y])\n",
    "    print(distance_value)\n",
    "\n",
    "\n",
    "task_5()"
   ]
  },
  {
   "cell_type": "code",
   "execution_count": null,
   "id": "c59439ba",
   "metadata": {},
   "outputs": [],
   "source": [
    "def multiplication_matrix(size: int) -> np.ndarray:\n",
    "    \"\"\"Return an NxN multiplication table as a NumPy integer array.\"\"\"\n",
    "    numbers: np.ndarray = np.arange(1, size + 1, dtype=int)\n",
    "    result: np.ndarray = np.multiply.outer(numbers, numbers)\n",
    "    return result"
   ]
  },
  {
   "cell_type": "code",
   "execution_count": null,
   "id": "8fa3cec0",
   "metadata": {},
   "outputs": [],
   "source": [
    "def make_board(board_size: int) -> np.ndarray:\n",
    "    \"\"\"Return an NxN chessboard matrix (1=white, 0=black) with dtype int8.\"\"\"\n",
    "    board: np.ndarray = np.zeros((board_size, board_size), dtype=np.int8)\n",
    "    board[::2, ::2] = 1\n",
    "    board[1::2, 1::2] = 1\n",
    "    return board"
   ]
  },
  {
   "cell_type": "code",
   "execution_count": null,
   "id": "46ea0266",
   "metadata": {},
   "outputs": [],
   "source": [
    "def snake(width: int, height: int, direction: str = \"H\") -> np.ndarray:\n",
    "    \"\"\"Return MxN snake matrix (H=horizontal, V=vertical) with dtype int16.\"\"\"\n",
    "    total_values: int = width * height\n",
    "    base: np.ndarray = np.arange(1, total_values + 1, dtype=np.int16)\n",
    "    dir_upper: str = direction.upper()\n",
    "\n",
    "    matrix: np.ndarray\n",
    "\n",
    "    if dir_upper == \"H\":\n",
    "        matrix = base.reshape(height, width)\n",
    "        matrix[1::2, :] = matrix[1::2, ::-1]\n",
    "    elif dir_upper == \"V\":\n",
    "        matrix = base.reshape(height, width, order=\"F\")\n",
    "        matrix[:, 1::2] = matrix[::-1, 1::2]\n",
    "    else:\n",
    "        raise ValueError(\"direction must be 'H' or 'V'\")\n",
    "\n",
    "    return matrix"
   ]
  },
  {
   "cell_type": "code",
   "execution_count": null,
   "id": "ae1d11fc",
   "metadata": {},
   "outputs": [],
   "source": [
    "def rotate(matrix: np.ndarray, angle: int) -> np.ndarray:\n",
    "    \"\"\"Return a new matrix rotated clockwise by 90/180/270/360 degrees.\"\"\"\n",
    "    if matrix.ndim != 2:\n",
    "        raise ValueError(\"matrix must be 2D\")\n",
    "\n",
    "    normalized: int = angle % 360\n",
    "    if normalized == 0:\n",
    "        return matrix.copy()\n",
    "\n",
    "    result: np.ndarray\n",
    "    if normalized == 90:\n",
    "        result = matrix.transpose()[:, ::-1].copy()\n",
    "    elif normalized == 180:\n",
    "        result = matrix[::-1, ::-1].copy()\n",
    "    elif normalized == 270:\n",
    "        result = matrix.transpose()[::-1, :].copy()\n",
    "    else:\n",
    "        raise ValueError(\"angle must be one of 90, 180, 270, 360\")\n",
    "\n",
    "    return result"
   ]
  },
  {
   "cell_type": "code",
   "execution_count": null,
   "id": "bbdf5591",
   "metadata": {},
   "outputs": [],
   "source": [
    "def stairs(vector: np.ndarray) -> np.ndarray:\n",
    "    \"\"\"Return a matrix where row i is the input vector rolled right by i.\"\"\"\n",
    "    if vector.ndim != 1:\n",
    "        raise ValueError(\"vector must be 1D\")\n",
    "\n",
    "    length: int = vector.shape[0]\n",
    "    cols: np.ndarray = np.arange(length)[None, :]\n",
    "    rows: np.ndarray = np.arange(length)[:, None]\n",
    "    positions: np.ndarray = (cols - rows) % length\n",
    "    result: np.ndarray = vector[positions]\n",
    "    return result"
   ]
  }
 ],
 "metadata": {
  "language_info": {
   "name": "python"
  }
 },
 "nbformat": 4,
 "nbformat_minor": 5
}
