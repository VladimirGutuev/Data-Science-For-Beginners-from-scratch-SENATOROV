{
 "cells": [
  {
   "cell_type": "code",
   "execution_count": null,
   "id": "b2fe8c8f",
   "metadata": {},
   "outputs": [],
   "source": [
    "\"\"\"Strings, tuples and lists in python.\"\"\""
   ]
  },
  {
   "cell_type": "code",
   "execution_count": null,
   "id": "82759e24",
   "metadata": {},
   "outputs": [
    {
     "name": "stdout",
     "output_type": "stream",
     "text": [
      "NO\n"
     ]
    }
   ],
   "source": [
    "from math import factorial\n",
    "\n",
    "\n",
    "def task_1() -> None:\n",
    "    \"\"\"If our word starts with one of these letters.\"\"\"\n",
    "    word: str\n",
    "    num_of_words: int = int(input())\n",
    "    for i in range(num_of_words):\n",
    "        word = input()\n",
    "        if word[0] == \"а\" or word[0] == \"б\" or word[0] == \"в\":\n",
    "            if i == num_of_words - 1:\n",
    "                print(\"YES\")\n",
    "            continue\n",
    "        print(\"NO\")\n",
    "        break\n",
    "\n",
    "\n",
    "task_1()"
   ]
  },
  {
   "cell_type": "code",
   "execution_count": null,
   "id": "f42da376",
   "metadata": {},
   "outputs": [
    {
     "name": "stdout",
     "output_type": "stream",
     "text": [
      "п\n",
      "р\n",
      "и\n",
      "в\n",
      "е\n",
      "т\n"
     ]
    }
   ],
   "source": [
    "def task_2() -> None:\n",
    "    \"\"\"Format horizontal string to vertical.\"\"\"\n",
    "    horizontal_string: str = input()\n",
    "    for letter in horizontal_string:\n",
    "        print(letter)\n",
    "\n",
    "\n",
    "task_2()"
   ]
  },
  {
   "cell_type": "code",
   "execution_count": null,
   "id": "76f548d3",
   "metadata": {},
   "outputs": [
    {
     "name": "stdout",
     "output_type": "stream",
     "text": [
      "ку\n",
      "Здравст...\n",
      "ургп\n"
     ]
    }
   ],
   "source": [
    "def task_3() -> None:\n",
    "    \"\"\"Format titles using slices.\"\"\"\n",
    "    requirement_length: int = int(input())\n",
    "    count_of_titles: int = int(input())\n",
    "    title: str\n",
    "\n",
    "    for _ in range(count_of_titles):\n",
    "        title = input()\n",
    "        if len(title) <= requirement_length:\n",
    "            print(title)\n",
    "        else:\n",
    "            print(title[: requirement_length - 3], end=\"...\\n\")\n",
    "\n",
    "\n",
    "task_3()"
   ]
  },
  {
   "cell_type": "code",
   "execution_count": null,
   "id": "99ef6491",
   "metadata": {},
   "outputs": [
    {
     "name": "stdout",
     "output_type": "stream",
     "text": [
      "Hello, world\n",
      "Goodbye\n"
     ]
    }
   ],
   "source": [
    "def task_4() -> None:\n",
    "    \"\"\"Clear logs.\"\"\"\n",
    "    incorrect_string: str\n",
    "\n",
    "    while (incorrect_string := input()) != \"\":\n",
    "        if incorrect_string.startswith(\"##\"):\n",
    "            incorrect_string = incorrect_string[2:]\n",
    "        if incorrect_string.endswith(\"@@@\"):\n",
    "            incorrect_string = \"\"\n",
    "        if incorrect_string != \"\":\n",
    "            print(incorrect_string)\n",
    "\n",
    "\n",
    "task_4()"
   ]
  },
  {
   "cell_type": "code",
   "execution_count": null,
   "id": "43f2e5dc",
   "metadata": {},
   "outputs": [
    {
     "name": "stdout",
     "output_type": "stream",
     "text": [
      "YES\n"
     ]
    }
   ],
   "source": [
    "def task_5() -> None:\n",
    "    \"\"\"Is it palindrom or not.\"\"\"\n",
    "    palindrom_word: str = input()\n",
    "\n",
    "    if palindrom_word == palindrom_word[::-1]:\n",
    "        print(\"YES\")\n",
    "    else:\n",
    "        print(\"NO\")\n",
    "\n",
    "\n",
    "task_5()"
   ]
  },
  {
   "cell_type": "code",
   "execution_count": null,
   "id": "385f35fb",
   "metadata": {},
   "outputs": [
    {
     "name": "stdout",
     "output_type": "stream",
     "text": [
      "3\n"
     ]
    }
   ],
   "source": [
    "def task_6() -> None:\n",
    "    \"\"\"Count of hares in places.\"\"\"\n",
    "    num_of_places: int = int(input())\n",
    "    count_of_hare: int = 0\n",
    "\n",
    "    for _ in range(num_of_places):\n",
    "        place = input()\n",
    "        count_of_hare += place.count(\"зайка\")\n",
    "    print(count_of_hare)\n",
    "\n",
    "\n",
    "task_6()"
   ]
  },
  {
   "cell_type": "code",
   "execution_count": null,
   "id": "869fb78f",
   "metadata": {},
   "outputs": [
    {
     "name": "stdout",
     "output_type": "stream",
     "text": [
      "7\n"
     ]
    }
   ],
   "source": [
    "def task_7() -> None:\n",
    "    \"\"\"Split string by spaces and summarize it.\"\"\"\n",
    "    string_of_numbers: str = input()\n",
    "    first, second = string_of_numbers.split()\n",
    "    print(int(first) + int(second))\n",
    "\n",
    "\n",
    "task_7()"
   ]
  },
  {
   "cell_type": "code",
   "execution_count": null,
   "id": "49e60739",
   "metadata": {},
   "outputs": [
    {
     "name": "stdout",
     "output_type": "stream",
     "text": [
      "16\n",
      "7\n",
      "Заек нет =(\n"
     ]
    }
   ],
   "source": [
    "def task_8() -> None:\n",
    "    \"\"\"Get index of word 'зайка' in string place.\"\"\"\n",
    "    num_of_places: int = int(input())\n",
    "    place: str\n",
    "    for _ in range(num_of_places):\n",
    "        place = input()\n",
    "        index_of_hare = place.find(\"зайка\")\n",
    "        if index_of_hare == -1:\n",
    "            print(\"Заек нет =(\")\n",
    "        else:\n",
    "            print(index_of_hare + 1)\n",
    "\n",
    "\n",
    "task_8()"
   ]
  },
  {
   "cell_type": "code",
   "execution_count": null,
   "id": "517c45ef",
   "metadata": {},
   "outputs": [
    {
     "name": "stdout",
     "output_type": "stream",
     "text": [
      "print('Hello, world!')\n",
      "prwe\n"
     ]
    }
   ],
   "source": [
    "def task_9() -> None:\n",
    "    \"\"\"Delete '#' symbols from code.\"\"\"\n",
    "    string_of_code: str\n",
    "    index: int\n",
    "\n",
    "    while (string_of_code := input()) != \"\":\n",
    "        if string_of_code.startswith(\"#\"):\n",
    "            continue\n",
    "        if (index := string_of_code.find(\"#\")) != -1:\n",
    "            print(string_of_code[:index].rstrip())\n",
    "        else:\n",
    "            print(string_of_code)\n",
    "\n",
    "\n",
    "task_9()"
   ]
  },
  {
   "cell_type": "code",
   "execution_count": null,
   "id": "ee75f780",
   "metadata": {},
   "outputs": [
    {
     "name": "stdout",
     "output_type": "stream",
     "text": [
      "а\n"
     ]
    }
   ],
   "source": [
    "def task_10() -> None:\n",
    "    \"\"\"Print the most frequent letter in lowercase.\"\"\"\n",
    "    letters: list[str] = []\n",
    "    counts: list[int] = []\n",
    "    line: str\n",
    "\n",
    "    # Считываем строки до 'ФИНИШ'\n",
    "    while (line := input()) != \"ФИНИШ\":\n",
    "        for ch in line:\n",
    "            # Пропускаем все, кроме букв\n",
    "            if not ch.isalpha():\n",
    "                continue\n",
    "            lower_ch = ch.lower()\n",
    "            if lower_ch in letters:\n",
    "                idx = letters.index(lower_ch)\n",
    "                counts[idx] += 1\n",
    "            else:\n",
    "                letters.append(lower_ch)\n",
    "                counts.append(1)\n",
    "\n",
    "    if not letters:\n",
    "        return\n",
    "\n",
    "    # Определяем самую частую букву (при равенстве — первая по алфавиту)\n",
    "    winner = letters[0]\n",
    "    max_count = counts[0]\n",
    "    for letter, count in zip(letters, counts):\n",
    "        if count > max_count or (count == max_count and letter < winner):\n",
    "            winner = letter\n",
    "            max_count = count\n",
    "\n",
    "    print(winner)\n",
    "\n",
    "\n",
    "task_10()"
   ]
  },
  {
   "cell_type": "code",
   "execution_count": null,
   "id": "755f8b63",
   "metadata": {},
   "outputs": [
    {
     "name": "stdout",
     "output_type": "stream",
     "text": [
      "Яндекс выпустил задачник по программированию\n",
      "Как заказать Яндекс.Такси?!\n"
     ]
    }
   ],
   "source": [
    "def task_11() -> None:\n",
    "    \"\"\"Print page titles containing the search query.\"\"\"\n",
    "    n1: int = int(input())\n",
    "    titles: list[str] = []\n",
    "    for _ in range(n1):\n",
    "        titles.append(input())\n",
    "\n",
    "    query: str = input().lower()\n",
    "\n",
    "    for title in titles:\n",
    "        if query in title.lower():\n",
    "            print(title)\n",
    "\n",
    "\n",
    "task_11()"
   ]
  },
  {
   "cell_type": "code",
   "execution_count": null,
   "id": "5fd0de58",
   "metadata": {},
   "outputs": [],
   "source": [
    "def task_12() -> None:\n",
    "    \"\"\"Print which porridge is served for the next N days.\"\"\"\n",
    "    n2: int = int(input())\n",
    "    dishes: list[str] = [\"Манная\", \"Гречневая\", \"Пшённая\", \"Овсяная\", \"Рисовая\"]\n",
    "\n",
    "    for day in range(n2):\n",
    "        today: str = dishes[day % len(dishes)]\n",
    "        print(today)\n",
    "\n",
    "\n",
    "task_12()"
   ]
  },
  {
   "cell_type": "code",
   "execution_count": null,
   "id": "50b153a3",
   "metadata": {},
   "outputs": [
    {
     "name": "stdout",
     "output_type": "stream",
     "text": [
      "25\n",
      "4\n",
      "4\n"
     ]
    }
   ],
   "source": [
    "def task_13() -> None:\n",
    "    \"\"\"Powers number using lists.\"\"\"\n",
    "    numbers_count: int = int(input())\n",
    "    numbers_before_powering: list[int] = []\n",
    "    for _ in range(numbers_count):\n",
    "        numbers_before_powering.append(int(input()))\n",
    "    power: int = int(input())\n",
    "    for index_of_number in range(numbers_count):\n",
    "        print(numbers_before_powering[index_of_number] ** power)\n",
    "\n",
    "\n",
    "task_13()"
   ]
  },
  {
   "cell_type": "code",
   "execution_count": null,
   "id": "7125a545",
   "metadata": {},
   "outputs": [
    {
     "name": "stdout",
     "output_type": "stream",
     "text": [
      "81\n"
     ]
    }
   ],
   "source": [
    "def task_14() -> None:\n",
    "    \"\"\"Raise each number from the input sequence to the specified power.\"\"\"\n",
    "    parts: list[str] = input().split()\n",
    "    numbers: list[int] = [int(x) for x in parts]\n",
    "    power: int = int(input())\n",
    "    results: list[int] = []\n",
    "\n",
    "    for n3 in numbers:\n",
    "        results.append(n3**power)\n",
    "\n",
    "    print(*results)\n",
    "\n",
    "\n",
    "task_14()"
   ]
  },
  {
   "cell_type": "code",
   "execution_count": null,
   "id": "2609bb22",
   "metadata": {},
   "outputs": [
    {
     "name": "stdout",
     "output_type": "stream",
     "text": [
      "11\n"
     ]
    }
   ],
   "source": [
    "def task_15() -> None:\n",
    "    \"\"\"Compute the GCD of all numbers given in one line.\"\"\"\n",
    "    parts: list[str] = input().split()\n",
    "    numbers: list[int] = [int(x) for x in parts]\n",
    "\n",
    "    def gcd(a4: int, b4: int) -> int:\n",
    "        while b4:\n",
    "            a4, b4 = b4, a4 % b4\n",
    "        return a4\n",
    "\n",
    "    # Инициализируем результат первым числом\n",
    "    result: int = numbers[0]\n",
    "    for num in numbers[1:]:\n",
    "        result = gcd(result, num)\n",
    "\n",
    "    print(result)\n",
    "\n",
    "\n",
    "task_15()"
   ]
  },
  {
   "cell_type": "code",
   "execution_count": null,
   "id": "172d081b",
   "metadata": {},
   "outputs": [],
   "source": [
    "def task_16() -> None:\n",
    "    \"\"\"Truncate a multi‑line headline.\"\"\"\n",
    "    l5: int = int(input())\n",
    "    n5: int = int(input())\n",
    "    lines: list[str] = [input() for _ in range(n5)]\n",
    "\n",
    "    # compute cumulative lengths of lines\n",
    "    prefix: list[int] = []\n",
    "    total: int = 0\n",
    "    for line in lines:\n",
    "        total += len(line)\n",
    "        prefix.append(total)\n",
    "\n",
    "    # case 1: everything fits\n",
    "    if prefix[-1] <= l5:\n",
    "        for line in lines:\n",
    "            print(line)\n",
    "        return\n",
    "\n",
    "    # find how many full lines fit\n",
    "    full: int = 0\n",
    "    while full < n5 and prefix[full] <= l5:\n",
    "        full += 1\n",
    "\n",
    "    # how many chars remaining on the next line\n",
    "    prev_total: int = prefix[full - 1] if full > 0 else 0\n",
    "    remain: int = l5 - prev_total\n",
    "\n",
    "    # keep all fully fitting lines\n",
    "    result: list[str] = lines[:full]\n",
    "\n",
    "    if remain <= 3:\n",
    "        # not enough room for any chars + '...', so\n",
    "        # append '...' to the last kept line (stripping trailing punctuation first)\n",
    "        if result:\n",
    "            result[-1] = result[-1].rstrip(\" ,.!?;:\") + \"...\"\n",
    "        else:\n",
    "            # edge case: no full lines fit\n",
    "            result = [\"...\"]\n",
    "    else:\n",
    "        # take exactly remain-3 chars from the next line, then add '...'\n",
    "        snippet: str = lines[full][: remain - 3]\n",
    "        result.append(snippet + \"...\")\n",
    "\n",
    "    # output the truncated headline\n",
    "    for line in result:\n",
    "        print(line)\n",
    "\n",
    "\n",
    "task_16()"
   ]
  },
  {
   "cell_type": "code",
   "execution_count": null,
   "id": "ae808f8b",
   "metadata": {},
   "outputs": [
    {
     "name": "stdout",
     "output_type": "stream",
     "text": [
      "YES\n"
     ]
    }
   ],
   "source": [
    "def task_17() -> None:\n",
    "    \"\"\"Check if the input string is a palindrome.\"\"\"\n",
    "    s6: str = input()\n",
    "    # Убираем пробелы и приводим к нижнему регистру\n",
    "    cleaned: str = \"\".join(ch.lower() for ch in s6 if ch != \" \")\n",
    "    # Сравниваем со строкой в обратном порядке\n",
    "    if cleaned == cleaned[::-1]:\n",
    "        print(\"YES\")\n",
    "    else:\n",
    "        print(\"NO\")\n",
    "\n",
    "\n",
    "task_17()"
   ]
  },
  {
   "cell_type": "code",
   "execution_count": null,
   "id": "33c775d4",
   "metadata": {},
   "outputs": [],
   "source": [
    "def task_18() -> None:\n",
    "    \"\"\"Print each digit and its run length.\"\"\"\n",
    "    text: str = input()\n",
    "    # Use a sentinel that won't appear in the digit string\n",
    "    text = text + \"_\"\n",
    "    reference: str = text[0]\n",
    "    count: int = 1\n",
    "\n",
    "    for digit in text[1:]:\n",
    "        if digit == reference:\n",
    "            count += 1\n",
    "        else:\n",
    "            print(reference, count)\n",
    "            reference = digit\n",
    "            count = 1\n",
    "\n",
    "\n",
    "task_18()"
   ]
  },
  {
   "cell_type": "code",
   "execution_count": null,
   "id": "d0f86d20",
   "metadata": {},
   "outputs": [],
   "source": [
    "def task_19() -> None:\n",
    "    \"\"\"Evaluate an expression in Reverse Polish Notation.\"\"\"\n",
    "    tokens: list[str] = input().split()\n",
    "    stack: list[int] = []\n",
    "\n",
    "    for token in tokens:\n",
    "        if token in {\"+\", \"-\", \"*\"}:\n",
    "            # Pop the two most recent operands\n",
    "            b7: int = stack.pop()\n",
    "            a7: int = stack.pop()\n",
    "            if token == \"+\":\n",
    "                stack.append(a7 + b7)\n",
    "            elif token == \"-\":\n",
    "                stack.append(a7 - b7)\n",
    "            else:  # token == \"*\"\n",
    "                stack.append(a7 * b7)\n",
    "        else:\n",
    "            # It's a number\n",
    "            stack.append(int(token))\n",
    "\n",
    "    # The final result is the only item left on the stack\n",
    "    print(stack[0])\n",
    "\n",
    "\n",
    "task_19()"
   ]
  },
  {
   "cell_type": "code",
   "execution_count": null,
   "id": "095e78c0",
   "metadata": {},
   "outputs": [],
   "source": [
    "def task_20() -> None:\n",
    "    \"\"\"Enhanced RPN calculator.\"\"\"\n",
    "    tokens: list[str] = input().split()\n",
    "    stack: list[int] = []\n",
    "\n",
    "    for token in tokens:\n",
    "        if token == \"+\":\n",
    "            right_operand = stack.pop()\n",
    "            left_operand = stack.pop()\n",
    "            stack.append(left_operand + right_operand)\n",
    "            continue\n",
    "\n",
    "        if token == \"-\":\n",
    "            right_operand = stack.pop()\n",
    "            left_operand = stack.pop()\n",
    "            stack.append(left_operand - right_operand)\n",
    "            continue\n",
    "\n",
    "        if token == \"*\":\n",
    "            right_operand = stack.pop()\n",
    "            left_operand = stack.pop()\n",
    "            stack.append(left_operand * right_operand)\n",
    "            continue\n",
    "\n",
    "        if token == \"/\":\n",
    "            right_operand = stack.pop()\n",
    "            left_operand = stack.pop()\n",
    "            stack.append(left_operand // right_operand)\n",
    "            continue\n",
    "\n",
    "        if token == \"~\":\n",
    "            operand = stack.pop()\n",
    "            stack.append(-operand)\n",
    "            continue\n",
    "\n",
    "        if token == \"!\":\n",
    "            operand = stack.pop()\n",
    "            stack.append(factorial(operand))\n",
    "            continue\n",
    "\n",
    "        if token == \"#\":\n",
    "            duplicate_value = stack.pop()\n",
    "            stack.append(duplicate_value)\n",
    "            stack.append(duplicate_value)\n",
    "            continue\n",
    "\n",
    "        if token == \"@\":\n",
    "            third_value = stack.pop()\n",
    "            second_value = stack.pop()\n",
    "            first_value = stack.pop()\n",
    "            stack.append(second_value)\n",
    "            stack.append(third_value)\n",
    "            stack.append(first_value)\n",
    "            continue\n",
    "\n",
    "        # Integer literal\n",
    "        stack.append(int(token))\n",
    "\n",
    "    print(stack[0])\n",
    "\n",
    "\n",
    "task_20()"
   ]
  }
 ],
 "metadata": {
  "kernelspec": {
   "display_name": "dsfb",
   "language": "python",
   "name": "python3"
  },
  "language_info": {
   "codemirror_mode": {
    "name": "ipython",
    "version": 3
   },
   "file_extension": ".py",
   "mimetype": "text/x-python",
   "name": "python",
   "nbconvert_exporter": "python",
   "pygments_lexer": "ipython3",
   "version": "3.12.9"
  }
 },
 "nbformat": 4,
 "nbformat_minor": 5
}
