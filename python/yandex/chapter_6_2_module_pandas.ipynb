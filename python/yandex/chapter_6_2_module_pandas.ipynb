{
 "cells": [
  {
   "cell_type": "code",
   "execution_count": null,
   "id": "e2141dbc",
   "metadata": {},
   "outputs": [],
   "source": [
    "\"\"\"Working with module pandas.\"\"\""
   ]
  },
  {
   "cell_type": "code",
   "execution_count": null,
   "id": "dd6e64fc",
   "metadata": {},
   "outputs": [],
   "source": [
    "import re\n",
    "from typing import Callable, Pattern, cast\n",
    "\n",
    "import numpy as np\n",
    "import pandas as pd\n",
    "from pandas import DataFrame as PdDataFrame\n",
    "from pandas import Series as PdSeries\n",
    "\n",
    "\n",
    "def _tokenize_lower(source_text: str) -> list[str]:\n",
    "    \"\"\"Return lowercased words without punctuation and digits.\"\"\"\n",
    "    clean_pattern: Pattern[str] = re.compile(r\"[^A-Za-zА-Яа-яЁё\\s]+\")\n",
    "    normalized_text: str = clean_pattern.sub(\" \", source_text.lower())\n",
    "    return [word for word in normalized_text.split() if word]\n",
    "\n",
    "\n",
    "def length_stats(text: str) -> PdSeries[int]:\n",
    "    \"\"\"Return Series with unique words as index and their lengths as values.\"\"\"\n",
    "    words_sorted: list[str] = sorted(set(_tokenize_lower(text)))\n",
    "    lengths: list[int] = [len(word) for word in words_sorted]\n",
    "    return cast(\n",
    "        PdSeries[int],\n",
    "        pd.Series(lengths, index=words_sorted, dtype=np.int64),\n",
    "    )"
   ]
  },
  {
   "cell_type": "code",
   "execution_count": null,
   "id": "5d2fa10b",
   "metadata": {},
   "outputs": [],
   "source": [
    "def _normalize_words_v2(text: str) -> list[str]:\n",
    "    \"\"\"Return sorted unique lowercase words; strip digits and punctuation.\"\"\"\n",
    "    normalized: str = \"\".join(ch if (ch.isalpha() or ch == \" \") else \" \" for ch in text)\n",
    "    return sorted(set(normalized.lower().split()))\n",
    "\n",
    "\n",
    "def length_stats_v2(text: str) -> \"tuple[PdSeries[int], PdSeries[int]]\":\n",
    "    \"\"\"Return two Series: (odd, even) word-length stats from text.\"\"\"\n",
    "    words: list[str] = _normalize_words_v2(text)\n",
    "    base = pd.Series([len(word) for word in words], index=words, dtype=\"int64\")\n",
    "    odd = cast(\"PdSeries[int]\", base[base % 2 == 1])\n",
    "    even = cast(\"PdSeries[int]\", base[base % 2 == 0])\n",
    "    return odd, even"
   ]
  },
  {
   "cell_type": "code",
   "execution_count": null,
   "id": "9103d9ef",
   "metadata": {},
   "outputs": [],
   "source": [
    "def cheque(price_list: \"PdSeries[int]\", **purchases: int) -> \"PdDataFrame\":\n",
    "    \"\"\"Return receipt DataFrame (product, price, number, cost) sorted by name.\"\"\"\n",
    "    product_names: list[str] = sorted(purchases)\n",
    "    unit_prices: list[int] = [int(price_list.at[name]) for name in product_names]\n",
    "    quantities: list[int] = [purchases[name] for name in product_names]\n",
    "    costs: list[int] = [price * qty for price, qty in zip(unit_prices, quantities)]\n",
    "    receipt = pd.DataFrame(\n",
    "        {\n",
    "            \"product\": product_names,\n",
    "            \"price\": unit_prices,\n",
    "            \"number\": quantities,\n",
    "            \"cost\": costs,\n",
    "        }\n",
    "    )\n",
    "    return receipt.sort_values(\"product\").reset_index(drop=True)"
   ]
  },
  {
   "cell_type": "code",
   "execution_count": null,
   "id": "6c57d10d",
   "metadata": {},
   "outputs": [],
   "source": [
    "def cheque_v2(price_list: \"PdSeries[int]\", **purchases: int) -> \"PdDataFrame\":\n",
    "    \"\"\"Build sorted receipt DataFrame from price list and purchases.\"\"\"\n",
    "    product_names: list[str] = sorted(purchases)\n",
    "    unit_prices: list[int] = [int(price_list.at[name]) for name in product_names]\n",
    "    quantities: list[int] = [purchases[name] for name in product_names]\n",
    "    costs: list[int] = [price * qty for price, qty in zip(unit_prices, quantities)]\n",
    "    receipt = pd.DataFrame(\n",
    "        {\n",
    "            \"product\": product_names,\n",
    "            \"price\": unit_prices,\n",
    "            \"number\": quantities,\n",
    "            \"cost\": costs,\n",
    "        }\n",
    "    )\n",
    "    return receipt.sort_values(\"product\").reset_index(drop=True)\n",
    "\n",
    "\n",
    "def discount_v2(receipt: \"PdDataFrame\") -> \"PdDataFrame\":\n",
    "    \"\"\"Apply 50% discount where quantity > 2 and return a copy.\"\"\"\n",
    "    discounted = receipt.copy()\n",
    "    mask = discounted[\"number\"] > 2\n",
    "    discounted.loc[mask, \"cost\"] = discounted.loc[mask, \"cost\"] / 2\n",
    "    return discounted"
   ]
  },
  {
   "cell_type": "code",
   "execution_count": null,
   "id": "8fe0afac",
   "metadata": {},
   "outputs": [],
   "source": [
    "def get_long(data: \"PdSeries[int]\", min_length: int = 5) -> \"PdSeries[int]\":\n",
    "    \"\"\"Return items whose values are >= min_length.\"\"\"\n",
    "    return data[data >= min_length]"
   ]
  },
  {
   "cell_type": "code",
   "execution_count": null,
   "id": "db26ea50",
   "metadata": {},
   "outputs": [],
   "source": [
    "def best(journal: \"PdDataFrame\") -> \"PdDataFrame\":\n",
    "    \"\"\"Return rows where maths, physics, and computer science > 3.\"\"\"\n",
    "    frame: \"PdDataFrame\" = journal.copy()\n",
    "    maths_ok = frame[\"maths\"] > 3\n",
    "    physics_ok = frame[\"physics\"] > 3\n",
    "    cs_ok = frame[\"computer science\"] > 3\n",
    "    passed_mask = maths_ok & physics_ok & cs_ok\n",
    "    return frame[passed_mask]"
   ]
  },
  {
   "cell_type": "code",
   "execution_count": null,
   "id": "a44e055c",
   "metadata": {},
   "outputs": [],
   "source": [
    "def need_to_work_better(journal: \"PdDataFrame\") -> \"PdDataFrame\":\n",
    "    \"\"\"Return rows where any of maths, physics, CS is < 3.\"\"\"\n",
    "    frame: \"PdDataFrame\" = journal.copy()\n",
    "    maths_bad = frame[\"maths\"] < 3\n",
    "    physics_bad = frame[\"physics\"] < 3\n",
    "    cs_bad = frame[\"computer science\"] < 3\n",
    "    need_mask = maths_bad | physics_bad | cs_bad\n",
    "    return frame[need_mask]"
   ]
  },
  {
   "cell_type": "code",
   "execution_count": null,
   "id": "2efba0d3",
   "metadata": {},
   "outputs": [],
   "source": [
    "def update(journal: \"PdDataFrame\") -> \"PdDataFrame\":\n",
    "    \"\"\"Add 'average' and sort by average desc, then name asc.\"\"\"\n",
    "    updated: \"PdDataFrame\" = journal.copy()\n",
    "    subjects: list[str] = [\"maths\", \"physics\", \"computer science\"]\n",
    "    updated[\"average\"] = updated[subjects].mean(axis=1)\n",
    "    return updated.sort_values([\"average\", \"name\"], ascending=[False, True])"
   ]
  },
  {
   "cell_type": "code",
   "execution_count": null,
   "id": "7534bfa2",
   "metadata": {},
   "outputs": [],
   "source": [
    "x_left, y_top = map(int, input().split())\n",
    "x_right, y_bottom = map(int, input().split())\n",
    "\n",
    "x_min, x_max = sorted((x_left, x_right))\n",
    "y_min, y_max = sorted((y_bottom, y_top))\n",
    "\n",
    "data2 = pd.read_csv(\"data.csv\")\n",
    "x_ok = (data2[\"x\"] >= x_min) & (data2[\"x\"] <= x_max)\n",
    "y_ok = (data2[\"y\"] >= y_min) & (data2[\"y\"] <= y_max)\n",
    "\n",
    "print(data2[x_ok & y_ok])"
   ]
  },
  {
   "cell_type": "code",
   "execution_count": null,
   "id": "018b758d",
   "metadata": {},
   "outputs": [],
   "source": [
    "def values(\n",
    "    func: \"Callable[[float], float]\",\n",
    "    start: float,\n",
    "    end: float,\n",
    "    step: float,\n",
    ") -> \"PdSeries[float]\":\n",
    "    \"\"\"Return Series of func(x) for x in [start, end] with given step.\"\"\"\n",
    "    index_array: np.ndarray = np.arange(start, end + step, step, dtype=float)\n",
    "    values_list: list[float] = [func(float(value)) for value in index_array]\n",
    "    return pd.Series(values_list, index=index_array, dtype=\"float64\")\n",
    "\n",
    "\n",
    "def min_extremum(data: \"PdSeries[float]\") -> float:\n",
    "    \"\"\"Return the smallest index where the minimum value occurs.\"\"\"\n",
    "    return float(data.idxmin())\n",
    "\n",
    "\n",
    "def max_extremum(data: \"PdSeries[float]\") -> float:\n",
    "    \"\"\"Return the largest index where the maximum value occurs.\"\"\"\n",
    "    max_value: float = float(data.max())\n",
    "    mask = data == max_value\n",
    "    return float(data.index[mask].max())"
   ]
  }
 ],
 "metadata": {
  "language_info": {
   "name": "python"
  }
 },
 "nbformat": 4,
 "nbformat_minor": 5
}
