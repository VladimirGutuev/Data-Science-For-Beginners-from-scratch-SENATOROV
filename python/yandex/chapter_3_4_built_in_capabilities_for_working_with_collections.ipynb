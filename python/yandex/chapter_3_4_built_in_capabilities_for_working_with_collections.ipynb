{
 "cells": [
  {
   "cell_type": "code",
   "execution_count": null,
   "id": "cd4f77f7",
   "metadata": {},
   "outputs": [],
   "source": [
    "\"\"\"Working with built-in functions from python and itertools.\"\"\""
   ]
  },
  {
   "cell_type": "code",
   "execution_count": null,
   "id": "ed16ed22",
   "metadata": {},
   "outputs": [
    {
     "name": "stdout",
     "output_type": "stream",
     "text": [
      "1. привет,\n",
      "2. мир!\n"
     ]
    }
   ],
   "source": [
    "import re\n",
    "from collections.abc import Iterator\n",
    "from itertools import (\n",
    "    accumulate,\n",
    "    chain,\n",
    "    combinations,\n",
    "    count,\n",
    "    cycle,\n",
    "    islice,\n",
    "    permutations,\n",
    "    product,\n",
    "    zip_longest,\n",
    ")\n",
    "from typing import Callable, ClassVar\n",
    "\n",
    "\n",
    "def task_1() -> None:\n",
    "    \"\"\"Numbers words and outputs one by one with index.\"\"\"\n",
    "    string: str = input()\n",
    "    for index, word in enumerate(string.split(), 1):\n",
    "        print(f\"{index}. {word}\")\n",
    "\n",
    "\n",
    "task_1()"
   ]
  },
  {
   "cell_type": "code",
   "execution_count": null,
   "id": "83d43b84",
   "metadata": {},
   "outputs": [
    {
     "name": "stdout",
     "output_type": "stream",
     "text": [
      "Аня - Боря\n",
      "Вова - Дима\n"
     ]
    }
   ],
   "source": [
    "def task_2() -> None:\n",
    "    \"\"\"Create pairs.\"\"\"\n",
    "    first_line: str = input()\n",
    "    second_line: str = input()\n",
    "    for first, second in zip(first_line.split(\", \"), second_line.split(\", \")):\n",
    "        print(first, second, sep=\" - \")\n",
    "\n",
    "\n",
    "task_2()"
   ]
  },
  {
   "cell_type": "code",
   "execution_count": null,
   "id": "2bef5445",
   "metadata": {},
   "outputs": [
    {
     "name": "stdout",
     "output_type": "stream",
     "text": [
      "3.2\n",
      "4.0\n",
      "4.8\n",
      "5.6\n",
      "6.4\n"
     ]
    }
   ],
   "source": [
    "def task_3() -> None:\n",
    "    \"\"\"Infinity iterator.\"\"\"\n",
    "    parameters: str = input()\n",
    "    for x1 in count(float(parameters.split()[0]), float(parameters.split()[2])):\n",
    "        if x1 >= float(parameters.split()[1]):\n",
    "            break\n",
    "        print(round(x1, 2))\n",
    "\n",
    "\n",
    "task_3()"
   ]
  },
  {
   "cell_type": "code",
   "execution_count": null,
   "id": "d7b8c2ee",
   "metadata": {},
   "outputs": [
    {
     "name": "stdout",
     "output_type": "stream",
     "text": [
      "мама\n",
      "мамамыла\n",
      "мамамылараму\n",
      " \n"
     ]
    }
   ],
   "source": [
    "def task_4() -> None:\n",
    "    \"\"\"Print lines with one more accumulated word each time.\"\"\"\n",
    "    input_text: str = input()\n",
    "    words_list: list[str] = input_text.split()\n",
    "    accumulated_lines: list[str] = list(\n",
    "        accumulate(words_list, lambda previous, current: f\"{previous} {current}\")\n",
    "    )\n",
    "    for line in accumulated_lines:\n",
    "        print(line)\n",
    "\n",
    "\n",
    "task_4()"
   ]
  },
  {
   "cell_type": "code",
   "execution_count": 36,
   "id": "84aa9194",
   "metadata": {},
   "outputs": [
    {
     "name": "stdout",
     "output_type": "stream",
     "text": [
      "1. картина\n",
      "2. картонка\n",
      "3. корзина\n",
      "4. манка\n",
      "5. молоко\n",
      "6. мыло\n",
      "7. сыр\n",
      "8. хлеб\n"
     ]
    }
   ],
   "source": [
    "def task_5() -> None:\n",
    "    \"\"\"Collect family wishes into sorted numbered list.\"\"\"\n",
    "    raw_inputs: list[str] = [input() for _ in range(3)]\n",
    "    split_lists: list[list[str]] = [line.split(\", \") for line in raw_inputs]\n",
    "    sorted_items: list[str] = sorted(chain(*split_lists))\n",
    "    for index, item in enumerate(sorted_items, start=1):\n",
    "        print(f\"{index}. {item}\")\n",
    "\n",
    "\n",
    "task_5()"
   ]
  },
  {
   "cell_type": "code",
   "execution_count": 37,
   "id": "7a704981",
   "metadata": {},
   "outputs": [
    {
     "name": "stdout",
     "output_type": "stream",
     "text": [
      "2 пик\n",
      "2 бубен\n",
      "2 червей\n",
      "3 пик\n",
      "3 бубен\n",
      "3 червей\n",
      "4 пик\n",
      "4 бубен\n",
      "4 червей\n",
      "5 пик\n",
      "5 бубен\n",
      "5 червей\n",
      "6 пик\n",
      "6 бубен\n",
      "6 червей\n",
      "7 пик\n",
      "7 бубен\n",
      "7 червей\n",
      "8 пик\n",
      "8 бубен\n",
      "8 червей\n",
      "9 пик\n",
      "9 бубен\n",
      "9 червей\n",
      "10 пик\n",
      "10 бубен\n",
      "10 червей\n",
      "валет пик\n",
      "валет бубен\n",
      "валет червей\n",
      "дама пик\n",
      "дама бубен\n",
      "дама червей\n",
      "король пик\n",
      "король бубен\n",
      "король червей\n",
      "туз пик\n",
      "туз бубен\n",
      "туз червей\n"
     ]
    }
   ],
   "source": [
    "def task_6() -> None:\n",
    "    \"\"\"Generate a deck of cards excluding a specified suit.\"\"\"\n",
    "    excluded_suit: str = input()\n",
    "    all_suits: list[str] = [\"пик\", \"треф\", \"бубен\", \"червей\"]\n",
    "    ranks: list[str] = [\n",
    "        \"2\",\n",
    "        \"3\",\n",
    "        \"4\",\n",
    "        \"5\",\n",
    "        \"6\",\n",
    "        \"7\",\n",
    "        \"8\",\n",
    "        \"9\",\n",
    "        \"10\",\n",
    "        \"валет\",\n",
    "        \"дама\",\n",
    "        \"король\",\n",
    "        \"туз\",\n",
    "    ]\n",
    "    available_suits: list[str] = [s for s in all_suits if s != excluded_suit]\n",
    "    for rank, suit in product(ranks, available_suits):\n",
    "        print(f\"{rank} {suit}\")\n",
    "\n",
    "\n",
    "task_6()"
   ]
  },
  {
   "cell_type": "code",
   "execution_count": 38,
   "id": "f6ea7411",
   "metadata": {},
   "outputs": [
    {
     "name": "stdout",
     "output_type": "stream",
     "text": [
      "Аня - Боря\n",
      "Аня - Вова\n",
      "Боря - Вова\n"
     ]
    }
   ],
   "source": [
    "def task_7() -> None:\n",
    "    \"\"\"Generate all possible games in a round-robin tournament.\"\"\"\n",
    "    total_players: int = int(input())\n",
    "    player_names: list[str] = [input() for _ in range(total_players)]\n",
    "    for first, second in combinations(player_names, 2):\n",
    "        print(f\"{first} - {second}\")\n",
    "\n",
    "\n",
    "task_7()"
   ]
  },
  {
   "cell_type": "code",
   "execution_count": 39,
   "id": "c83b4770",
   "metadata": {},
   "outputs": [
    {
     "name": "stdout",
     "output_type": "stream",
     "text": [
      "Манная\n",
      "Гречневая\n",
      "Пшённая\n",
      "Овсяная\n",
      "Рисовая\n",
      "Манная\n",
      "Гречневая\n",
      "Пшённая\n",
      "Овсяная\n",
      "Рисовая\n",
      "Манная\n",
      "Гречневая\n"
     ]
    }
   ],
   "source": [
    "def task_8() -> None:\n",
    "    \"\"\"Generate kasha schedule for the next N days.\"\"\"\n",
    "    total_kashes: int = int(input())\n",
    "    menu: list[str] = [input() for _ in range(total_kashes)]\n",
    "    days: int = int(input())\n",
    "    for porridge in islice(cycle(menu), days):\n",
    "        print(porridge)\n",
    "\n",
    "\n",
    "task_8()"
   ]
  },
  {
   "cell_type": "code",
   "execution_count": 40,
   "id": "bfa46da0",
   "metadata": {},
   "outputs": [
    {
     "name": "stdout",
     "output_type": "stream",
     "text": [
      "1 2 3\n",
      "2 4 6\n",
      "3 6 9\n"
     ]
    }
   ],
   "source": [
    "def task_9() -> None:\n",
    "    \"\"\"Generate an N×N multiplication table.\"\"\"\n",
    "    size: int = int(input())\n",
    "    for row_index in range(1, size + 1):\n",
    "        products: list[str] = [\n",
    "            str(row_index * col_index) for col_index in range(1, size + 1)\n",
    "        ]\n",
    "        print(\" \".join(products))\n",
    "\n",
    "\n",
    "task_9()"
   ]
  },
  {
   "cell_type": "code",
   "execution_count": 23,
   "id": "7b49f624",
   "metadata": {},
   "outputs": [
    {
     "name": "stdout",
     "output_type": "stream",
     "text": [
      "А Б В\n",
      "1 1 1\n"
     ]
    }
   ],
   "source": [
    "def task_10() -> None:\n",
    "    \"\"\"Print all ways to split slices among Anya, Borya, and Vova.\"\"\"\n",
    "    total_slices: int = int(input())\n",
    "    # Header with initials (Cyrillic letters)\n",
    "    print(\"А Б В\")\n",
    "    for anya_count, borya_count in product(range(1, total_slices), repeat=2):\n",
    "        vova_count: int = total_slices - anya_count - borya_count\n",
    "        if vova_count >= 1:\n",
    "            print(f\"{anya_count} {borya_count} {vova_count}\")\n",
    "\n",
    "\n",
    "task_10()"
   ]
  },
  {
   "cell_type": "code",
   "execution_count": null,
   "id": "c4de65e1",
   "metadata": {},
   "outputs": [
    {
     "name": "stdout",
     "output_type": "stream",
     "text": [
      "1 2 3\n",
      "4 5 6\n"
     ]
    }
   ],
   "source": [
    "def task_11() -> None:\n",
    "    \"\"\"Build numeric rectangle with equal-width columns.\"\"\"\n",
    "    height: int = int(input())\n",
    "    width: int = int(input())\n",
    "    max_value: int = height * width\n",
    "    column_width: int = len(str(max_value))\n",
    "    numbers: list[int] = list(range(1, max_value + 1))\n",
    "    # create `width` references to the same iterator for chunking\n",
    "    iterators: list[Iterator[int]] = [iter(numbers)] * width\n",
    "    for chunk in zip_longest(*iterators, fillvalue=0):\n",
    "        # each chunk is one row of `width` numbers\n",
    "        row_cells: list[str] = [str(value).rjust(column_width) for value in chunk]\n",
    "        print(\" \".join(row_cells))\n",
    "\n",
    "\n",
    "task_11()"
   ]
  },
  {
   "cell_type": "code",
   "execution_count": 25,
   "id": "918acfb3",
   "metadata": {},
   "outputs": [
    {
     "name": "stdout",
     "output_type": "stream",
     "text": [
      "1. картина\n",
      "2. картонка\n",
      "3. корзина\n",
      "4. манка\n",
      "5. молоко\n",
      "6. мыло\n",
      "7. сыр\n",
      "8. хлеб\n"
     ]
    }
   ],
   "source": [
    "def task_12() -> None:\n",
    "    \"\"\"Merge family shopping lists and print sorted numbered list.\"\"\"\n",
    "    member_count: int = int(input())\n",
    "    raw_lists: list[list[str]] = [input().split(\", \") for _ in range(member_count)]\n",
    "    sorted_items: list[str] = sorted(chain(*raw_lists))\n",
    "    for index, item in enumerate(sorted_items, start=1):\n",
    "        print(f\"{index}. {item}\")\n",
    "\n",
    "\n",
    "task_12()"
   ]
  },
  {
   "cell_type": "code",
   "execution_count": null,
   "id": "833d98f8",
   "metadata": {},
   "outputs": [
    {
     "name": "stdout",
     "output_type": "stream",
     "text": [
      "Аня, Боря, Вова\n",
      "Аня, Вова, Боря\n",
      "Боря, Аня, Вова\n",
      "Боря, Вова, Аня\n",
      "Вова, Аня, Боря\n",
      "Вова, Боря, Аня\n"
     ]
    }
   ],
   "source": [
    "def task_13() -> None:\n",
    "    \"\"\"Print all starting arrangements of athletes alphabetically.\"\"\"\n",
    "    count2: int = int(input())\n",
    "    names: list[str] = sorted(input() for _ in range(count2))\n",
    "    for arrangement in permutations(names):\n",
    "        print(\", \".join(arrangement))\n",
    "\n",
    "\n",
    "task_13()"
   ]
  },
  {
   "cell_type": "code",
   "execution_count": 27,
   "id": "09a1a839",
   "metadata": {},
   "outputs": [
    {
     "name": "stdout",
     "output_type": "stream",
     "text": [
      "Аня, Боря, Вова\n",
      "Аня, Вова, Боря\n",
      "Боря, Аня, Вова\n",
      "Боря, Вова, Аня\n",
      "Вова, Аня, Боря\n",
      "Вова, Боря, Аня\n"
     ]
    }
   ],
   "source": [
    "def task_14() -> None:\n",
    "    \"\"\"Generate all possible podium finishers (top 3) in alphabetical order.\"\"\"\n",
    "    total_athletes: int = int(input())\n",
    "    athletes: list[str] = sorted(input() for _ in range(total_athletes))\n",
    "    for podium in permutations(athletes, 3):\n",
    "        print(\", \".join(podium))\n",
    "\n",
    "\n",
    "task_14()"
   ]
  },
  {
   "cell_type": "code",
   "execution_count": 28,
   "id": "1bd8ecd6",
   "metadata": {},
   "outputs": [
    {
     "name": "stdout",
     "output_type": "stream",
     "text": [
      "кофе печенье сушки\n",
      "кофе печенье чай\n",
      "кофе сушки печенье\n",
      "кофе сушки чай\n",
      "кофе чай печенье\n",
      "кофе чай сушки\n",
      "печенье кофе сушки\n",
      "печенье кофе чай\n",
      "печенье сушки кофе\n",
      "печенье сушки чай\n",
      "печенье чай кофе\n",
      "печенье чай сушки\n",
      "сушки кофе печенье\n",
      "сушки кофе чай\n",
      "сушки печенье кофе\n",
      "сушки печенье чай\n",
      "сушки чай кофе\n",
      "сушки чай печенье\n",
      "чай кофе печенье\n",
      "чай кофе сушки\n",
      "чай печенье кофе\n",
      "чай печенье сушки\n",
      "чай сушки кофе\n",
      "чай сушки печенье\n"
     ]
    }
   ],
   "source": [
    "def task_15() -> None:\n",
    "    \"\"\"Generate all 3-item shopping list variants alphabetically.\"\"\"\n",
    "    member_count: int = int(input())\n",
    "    raw_lists: list[list[str]] = [input().split(\", \") for _ in range(member_count)]\n",
    "    items: list[str] = sorted(chain(*raw_lists))\n",
    "    for combo in permutations(items, 3):\n",
    "        print(\" \".join(combo))\n",
    "\n",
    "\n",
    "task_15()"
   ]
  },
  {
   "cell_type": "code",
   "execution_count": 30,
   "id": "9d54c235",
   "metadata": {},
   "outputs": [
    {
     "name": "stdout",
     "output_type": "stream",
     "text": [
      "2 бубен, 2 пик, 2 треф\n",
      "2 бубен, 2 пик, 2 червей\n",
      "2 бубен, 2 пик, 3 бубен\n",
      "2 бубен, 2 пик, 3 пик\n",
      "2 бубен, 2 пик, 3 треф\n",
      "2 бубен, 2 пик, 3 червей\n",
      "2 бубен, 2 пик, 4 бубен\n",
      "2 бубен, 2 пик, 4 пик\n",
      "2 бубен, 2 пик, 4 треф\n",
      "2 бубен, 2 пик, 4 червей\n"
     ]
    }
   ],
   "source": [
    "def task_16() -> None:\n",
    "    \"\"\"List first 10 triples with required suit and without forbidden rank.\"\"\"\n",
    "    # map nominative input to genitive suit name\n",
    "    nom_to_gen: dict[str, str] = {\n",
    "        \"буби\": \"бубен\",\n",
    "        \"пики\": \"пик\",\n",
    "        \"трефы\": \"треф\",\n",
    "        \"черви\": \"червей\",\n",
    "    }\n",
    "    required_nom: str = input().strip()\n",
    "    required_suit: str = nom_to_gen[required_nom]\n",
    "    forbidden_rank: str = input().strip()\n",
    "\n",
    "    ranks: list[str] = [str(i) for i in range(2, 11)] + [\n",
    "        \"валет\",\n",
    "        \"дама\",\n",
    "        \"король\",\n",
    "        \"туз\",\n",
    "    ]\n",
    "    suits: list[str] = list(nom_to_gen.values())\n",
    "    deck: list[str] = sorted(f\"{rank} {suit}\" for rank in ranks for suit in suits)\n",
    "\n",
    "    printed: int = 0\n",
    "    for triple in combinations(deck, 3):\n",
    "        # must include at least one card of the required suit\n",
    "        if not any(card.split()[1] == required_suit for card in triple):\n",
    "            continue\n",
    "        # must not include any card of the forbidden rank\n",
    "        if any(card.split()[0] == forbidden_rank for card in triple):\n",
    "            continue\n",
    "        print(\", \".join(triple))\n",
    "        printed += 1\n",
    "        if printed == 10:\n",
    "            break\n",
    "\n",
    "\n",
    "task_16()"
   ]
  },
  {
   "cell_type": "code",
   "execution_count": 31,
   "id": "c2a19d97",
   "metadata": {},
   "outputs": [
    {
     "name": "stdout",
     "output_type": "stream",
     "text": [
      "9 пик, король червей, туз бубен\n"
     ]
    }
   ],
   "source": [
    "def task_17() -> None:\n",
    "    \"\"\"Find the next valid triple of cards after the given previous variant.\"\"\"\n",
    "    # Map from nominative to genitive suit names\n",
    "    nom_to_gen: dict[str, str] = {\n",
    "        \"буби\": \"бубен\",\n",
    "        \"пики\": \"пик\",\n",
    "        \"трефы\": \"треф\",\n",
    "        \"черви\": \"червей\",\n",
    "    }\n",
    "    required_nom: str = input().strip()\n",
    "    required_suit: str = nom_to_gen[required_nom]\n",
    "    forbidden_rank: str = input().strip()\n",
    "    previous_variant: str = input().strip()\n",
    "\n",
    "    ranks: list[str] = [str(i) for i in range(2, 11)] + [\n",
    "        \"валет\",\n",
    "        \"дама\",\n",
    "        \"король\",\n",
    "        \"туз\",\n",
    "    ]\n",
    "    suits: list[str] = list(nom_to_gen.values())\n",
    "    deck: list[str] = sorted(f\"{rank} {suit}\" for rank in ranks for suit in suits)\n",
    "\n",
    "    seen_previous: bool = False\n",
    "    for triple in combinations(deck, 3):\n",
    "        # must include at least one card of the required suit\n",
    "        if not any(card.split()[1] == required_suit for card in triple):\n",
    "            continue\n",
    "        # must not include any card of the forbidden rank\n",
    "        if any(card.split()[0] == forbidden_rank for card in triple):\n",
    "            continue\n",
    "        triple_str: str = \", \".join(triple)\n",
    "        if seen_previous:\n",
    "            print(triple_str)\n",
    "            break\n",
    "        if triple_str == previous_variant:\n",
    "            seen_previous = True\n",
    "\n",
    "\n",
    "task_17()"
   ]
  },
  {
   "cell_type": "code",
   "execution_count": null,
   "id": "93de4120",
   "metadata": {},
   "outputs": [
    {
     "name": "stdout",
     "output_type": "stream",
     "text": [
      "a b c f\n",
      "0 0 0 1\n",
      "0 0 1 1\n",
      "0 1 0 1\n",
      "0 1 1 1\n",
      "1 0 0 0\n",
      "1 0 1 0\n",
      "1 1 0 0\n",
      "1 1 1 1\n"
     ]
    }
   ],
   "source": [
    "PRECEDENCE: dict[str, int] = {\"not\": 3, \"and\": 2, \"or\": 1}\n",
    "ASSOCIATIVITY: dict[str, str] = {\"not\": \"right\", \"and\": \"left\", \"or\": \"left\"}\n",
    "\n",
    "\n",
    "def is_operator_pop_required(current_op: str, top_op: str) -> bool:\n",
    "    \"\"\"Return True if top operator must be popped before pushing current.\"\"\"\n",
    "    is_left: bool = ASSOCIATIVITY[current_op] == \"left\"\n",
    "    is_right: bool = ASSOCIATIVITY[current_op] == \"right\"\n",
    "    le_prec: bool = PRECEDENCE[current_op] <= PRECEDENCE[top_op]\n",
    "    lt_prec: bool = PRECEDENCE[current_op] < PRECEDENCE[top_op]\n",
    "    return (is_left and le_prec) or (is_right and lt_prec)\n",
    "\n",
    "\n",
    "def to_rpn(tokens: list[str]) -> list[str]:\n",
    "    \"\"\"Convert infix tokens to Reverse Polish Notation.\"\"\"\n",
    "    output: list[str] = []\n",
    "    op_stack: list[str] = []\n",
    "    for token in tokens:\n",
    "        if token in (\"a\", \"b\", \"c\"):\n",
    "            output.append(token)\n",
    "        elif token == \"(\":\n",
    "            op_stack.append(token)\n",
    "        elif token == \")\":\n",
    "            while op_stack and op_stack[-1] != \"(\":\n",
    "                output.append(op_stack.pop())\n",
    "            op_stack.pop()\n",
    "        else:\n",
    "            while op_stack and op_stack[-1] != \"(\":\n",
    "                top_op: str = op_stack[-1]\n",
    "                if not is_operator_pop_required(token, top_op):\n",
    "                    break\n",
    "                output.append(op_stack.pop())\n",
    "            op_stack.append(token)\n",
    "    while op_stack:\n",
    "        output.append(op_stack.pop())\n",
    "    return output\n",
    "\n",
    "\n",
    "def is_rpn_true(postfix_tokens: list[str], environment: dict[str, bool]) -> bool:\n",
    "    \"\"\"Evaluate RPN boolean expression for environment.\"\"\"\n",
    "    stack: list[bool] = []\n",
    "    for token in postfix_tokens:\n",
    "        if token in environment:\n",
    "            stack.append(environment[token])\n",
    "        elif token == \"not\":\n",
    "            operand: bool = stack.pop()\n",
    "            stack.append(not operand)\n",
    "        else:\n",
    "            right: bool = stack.pop()\n",
    "            left: bool = stack.pop()\n",
    "            stack.append(left and right if token == \"and\" else left or right)\n",
    "    return stack[0]\n",
    "\n",
    "\n",
    "def task_18() -> None:\n",
    "    \"\"\"Build truth table for expression in a, b, c.\"\"\"\n",
    "    expression_text: str = input().strip()\n",
    "    tokens: list[str] = expression_text.split()\n",
    "    rpn_tokens: list[str] = to_rpn(tokens)\n",
    "\n",
    "    print(\"a b c f\")\n",
    "    for a_val, b_val, c_val in product((0, 1), repeat=3):\n",
    "        env: dict[str, bool] = {\"a\": bool(a_val), \"b\": bool(b_val), \"c\": bool(c_val)}\n",
    "        result_flag: bool = is_rpn_true(rpn_tokens, env)\n",
    "        print(a_val, b_val, c_val, int(result_flag))\n",
    "\n",
    "\n",
    "task_18()"
   ]
  },
  {
   "cell_type": "code",
   "execution_count": null,
   "id": "6b1fe27e",
   "metadata": {},
   "outputs": [
    {
     "name": "stdout",
     "output_type": "stream",
     "text": [
      "A B C F\n",
      "0 0 0 1\n",
      "0 0 1 1\n",
      "0 1 0 1\n",
      "0 1 1 1\n",
      "1 0 0 0\n",
      "1 0 1 0\n",
      "1 1 0 0\n",
      "1 1 1 1\n"
     ]
    }
   ],
   "source": [
    "class LogicTools19:\n",
    "    \"\"\"Namespace с хелперами для task_19.\"\"\"\n",
    "\n",
    "    TOKEN_PATTERN: str = r\"and|or|not|\\(|\\)|[A-Z]\"\n",
    "    PRECEDENCE: dict[str, int] = {\"not\": 3, \"and\": 2, \"or\": 1}\n",
    "    ASSOCIATIVITY: dict[str, str] = {\n",
    "        \"not\": \"right\",\n",
    "        \"and\": \"left\",\n",
    "        \"or\": \"left\",\n",
    "    }\n",
    "\n",
    "    @staticmethod\n",
    "    def is_operator_pop_required(current_op: str, top_op: str) -> bool:\n",
    "        \"\"\"Return True if top operator must be popped before pushing current.\"\"\"\n",
    "        is_left: bool = LogicTools19.ASSOCIATIVITY[current_op] == \"left\"\n",
    "        is_right: bool = LogicTools19.ASSOCIATIVITY[current_op] == \"right\"\n",
    "        le_prec: bool = (\n",
    "            LogicTools19.PRECEDENCE[current_op] <= LogicTools19.PRECEDENCE[top_op]\n",
    "        )\n",
    "        lt_prec: bool = (\n",
    "            LogicTools19.PRECEDENCE[current_op] < LogicTools19.PRECEDENCE[top_op]\n",
    "        )\n",
    "        return (is_left and le_prec) or (is_right and lt_prec)\n",
    "\n",
    "    @staticmethod\n",
    "    def to_rpn(tokens: list[str]) -> list[str]:\n",
    "        \"\"\"Convert infix tokens to Reverse Polish Notation.\"\"\"\n",
    "        output: list[str] = []\n",
    "        op_stack: list[str] = []\n",
    "        for token in tokens:\n",
    "            if re.fullmatch(r\"[A-Z]\", token):\n",
    "                output.append(token)\n",
    "            elif token == \"(\":\n",
    "                op_stack.append(token)\n",
    "            elif token == \")\":\n",
    "                while op_stack and op_stack[-1] != \"(\":\n",
    "                    output.append(op_stack.pop())\n",
    "                op_stack.pop()\n",
    "            else:\n",
    "                while op_stack and op_stack[-1] != \"(\":\n",
    "                    top_op: str = op_stack[-1]\n",
    "                    need_pop: bool = LogicTools19.is_operator_pop_required(\n",
    "                        token, top_op\n",
    "                    )\n",
    "                    if not need_pop:\n",
    "                        break\n",
    "                    output.append(op_stack.pop())\n",
    "                op_stack.append(token)\n",
    "        while op_stack:\n",
    "            output.append(op_stack.pop())\n",
    "        return output\n",
    "\n",
    "    @staticmethod\n",
    "    def is_rpn_true(postfix_tokens: list[str], environment: dict[str, bool]) -> bool:\n",
    "        \"\"\"Evaluate RPN boolean expression for environment.\"\"\"\n",
    "        stack_values: list[bool] = []\n",
    "        for symbol in postfix_tokens:\n",
    "            if symbol in environment:\n",
    "                stack_values.append(environment[symbol])\n",
    "            elif symbol == \"not\":\n",
    "                operand: bool = stack_values.pop()\n",
    "                stack_values.append(not operand)\n",
    "            else:\n",
    "                right_value: bool = stack_values.pop()\n",
    "                left_value: bool = stack_values.pop()\n",
    "                is_and: bool = symbol == \"and\"\n",
    "                stack_values.append(\n",
    "                    (left_value and right_value)\n",
    "                    if is_and\n",
    "                    else (left_value or right_value)\n",
    "                )\n",
    "        return stack_values[0]\n",
    "\n",
    "\n",
    "def task_19() -> None:\n",
    "    \"\"\"Build truth table for expression with uppercase variables.\"\"\"\n",
    "    raw_expression: str = input().strip()\n",
    "    tokens: list[str] = re.findall(LogicTools19.TOKEN_PATTERN, raw_expression)\n",
    "    rpn_tokens: list[str] = LogicTools19.to_rpn(tokens)\n",
    "\n",
    "    variable_names: list[str] = sorted(\n",
    "        {tok for tok in tokens if re.fullmatch(r\"[A-Z]\", tok)}\n",
    "    )\n",
    "    print(*variable_names, \"F\")\n",
    "\n",
    "    for bits in product((0, 1), repeat=len(variable_names)):\n",
    "        environment: dict[str, bool] = {\n",
    "            name: bool(bit) for name, bit in zip(variable_names, bits)\n",
    "        }\n",
    "        truth_value: bool = LogicTools19.is_rpn_true(rpn_tokens, environment)\n",
    "        print(*bits, int(truth_value))\n",
    "\n",
    "\n",
    "task_19()"
   ]
  },
  {
   "cell_type": "code",
   "execution_count": null,
   "id": "44ef4d50",
   "metadata": {},
   "outputs": [
    {
     "name": "stdout",
     "output_type": "stream",
     "text": [
      "A B C F\n",
      "0 0 0 1\n",
      "0 0 1 1\n",
      "0 1 0 1\n",
      "0 1 1 1\n",
      "1 0 0 1\n",
      "1 0 1 1\n",
      "1 1 0 0\n",
      "1 1 1 1\n"
     ]
    }
   ],
   "source": [
    "BoolBinOp = Callable[[bool, bool], bool]\n",
    "\n",
    "\n",
    "class LogicTools20:\n",
    "    \"\"\"Helpers for task_20 with ->, ^, ~ operators.\"\"\"\n",
    "\n",
    "    TOKEN_PATTERN: ClassVar[str] = r\"->|not|and|or|\\^|~|\\(|\\)|[A-Z]\"\n",
    "    PRECEDENCE: ClassVar[dict[str, int]] = {\n",
    "        \"not\": 5,\n",
    "        \"and\": 4,\n",
    "        \"or\": 3,\n",
    "        \"^\": 2,\n",
    "        \"->\": 1,\n",
    "        \"~\": 0,\n",
    "    }\n",
    "    ASSOCIATIVITY: ClassVar[dict[str, str]] = {\n",
    "        \"not\": \"right\",\n",
    "        \"and\": \"left\",\n",
    "        \"or\": \"left\",\n",
    "        \"^\": \"left\",\n",
    "        \"->\": \"right\",\n",
    "        \"~\": \"left\",\n",
    "    }\n",
    "    BINARY_OPS: ClassVar[dict[str, BoolBinOp]] = {\n",
    "        \"and\": (lambda left_value, right_value: left_value and right_value),\n",
    "        \"or\": (lambda left_value, right_value: left_value or right_value),\n",
    "        \"^\": (lambda left_value, right_value: left_value != right_value),\n",
    "        \"->\": (lambda left_value, right_value: (not left_value) or right_value),\n",
    "        \"~\": (lambda left_value, right_value: left_value == right_value),\n",
    "    }\n",
    "\n",
    "    @staticmethod\n",
    "    def is_operator_pop_required(current_op: str, top_op: str) -> bool:\n",
    "        \"\"\"Return True if top operator must be popped before pushing current.\"\"\"\n",
    "        is_left: bool = LogicTools20.ASSOCIATIVITY[current_op] == \"left\"\n",
    "        is_right: bool = LogicTools20.ASSOCIATIVITY[current_op] == \"right\"\n",
    "        le_prec: bool = (\n",
    "            LogicTools20.PRECEDENCE[current_op] <= LogicTools20.PRECEDENCE[top_op]\n",
    "        )\n",
    "        lt_prec: bool = (\n",
    "            LogicTools20.PRECEDENCE[current_op] < LogicTools20.PRECEDENCE[top_op]\n",
    "        )\n",
    "        return (is_left and le_prec) or (is_right and lt_prec)\n",
    "\n",
    "    @staticmethod\n",
    "    def to_rpn(tokens: list[str]) -> list[str]:\n",
    "        \"\"\"Convert infix tokens to Reverse Polish Notation.\"\"\"\n",
    "        output: list[str] = []\n",
    "        op_stack: list[str] = []\n",
    "        for token in tokens:\n",
    "            if re.fullmatch(r\"[A-Z]\", token):\n",
    "                output.append(token)\n",
    "            elif token == \"(\":\n",
    "                op_stack.append(token)\n",
    "            elif token == \")\":\n",
    "                while op_stack and op_stack[-1] != \"(\":\n",
    "                    output.append(op_stack.pop())\n",
    "                op_stack.pop()\n",
    "            else:\n",
    "                while op_stack and op_stack[-1] != \"(\":\n",
    "                    top_op: str = op_stack[-1]\n",
    "                    need_pop: bool = LogicTools20.is_operator_pop_required(\n",
    "                        token, top_op\n",
    "                    )\n",
    "                    if not need_pop:\n",
    "                        break\n",
    "                    output.append(op_stack.pop())\n",
    "                op_stack.append(token)\n",
    "        while op_stack:\n",
    "            output.append(op_stack.pop())\n",
    "        return output\n",
    "\n",
    "    @staticmethod\n",
    "    def is_rpn_true(postfix_tokens: list[str], environment: dict[str, bool]) -> bool:\n",
    "        \"\"\"Evaluate RPN boolean expression for environment.\"\"\"\n",
    "        stack_values: list[bool] = []\n",
    "        for symbol in postfix_tokens:\n",
    "            if symbol in environment:\n",
    "                stack_values.append(environment[symbol])\n",
    "            elif symbol == \"not\":\n",
    "                operand: bool = stack_values.pop()\n",
    "                stack_values.append(not operand)\n",
    "            else:\n",
    "                right_value: bool = stack_values.pop()\n",
    "                left_value: bool = stack_values.pop()\n",
    "                apply_op: BoolBinOp = LogicTools20.BINARY_OPS[symbol]\n",
    "                stack_values.append(apply_op(left_value, right_value))\n",
    "        return stack_values[0]\n",
    "\n",
    "\n",
    "def task_20() -> None:\n",
    "    \"\"\"Build truth table for expression with ->, ^, and ~ operators.\"\"\"\n",
    "    raw_expression: str = input().strip()\n",
    "    tokens: list[str] = re.findall(LogicTools20.TOKEN_PATTERN, raw_expression)\n",
    "    rpn_tokens: list[str] = LogicTools20.to_rpn(tokens)\n",
    "\n",
    "    variable_names: list[str] = sorted(\n",
    "        {tok for tok in tokens if re.fullmatch(r\"[A-Z]\", tok)}\n",
    "    )\n",
    "    print(*variable_names, \"F\")\n",
    "\n",
    "    for bits in product((0, 1), repeat=len(variable_names)):\n",
    "        environment: dict[str, bool] = {\n",
    "            name: bool(bit) for name, bit in zip(variable_names, bits)\n",
    "        }\n",
    "        truth_value: bool = LogicTools20.is_rpn_true(rpn_tokens, environment)\n",
    "        print(*bits, int(truth_value))\n",
    "\n",
    "\n",
    "task_20()"
   ]
  }
 ],
 "metadata": {
  "kernelspec": {
   "display_name": "dsfb",
   "language": "python",
   "name": "python3"
  },
  "language_info": {
   "codemirror_mode": {
    "name": "ipython",
    "version": 3
   },
   "file_extension": ".py",
   "mimetype": "text/x-python",
   "name": "python",
   "nbconvert_exporter": "python",
   "pygments_lexer": "ipython3",
   "version": "3.12.9"
  }
 },
 "nbformat": 4,
 "nbformat_minor": 5
}
