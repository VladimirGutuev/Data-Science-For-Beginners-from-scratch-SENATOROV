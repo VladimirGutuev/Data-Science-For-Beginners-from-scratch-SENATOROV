{
 "cells": [
  {
   "cell_type": "code",
   "execution_count": null,
   "id": "a4fa933e",
   "metadata": {},
   "outputs": [],
   "source": [
    "\"\"\"yandex contest of chapter 2.4 of Python course.\"\"\""
   ]
  },
  {
   "cell_type": "code",
   "execution_count": 2,
   "id": "6175f505",
   "metadata": {},
   "outputs": [
    {
     "name": "stdout",
     "output_type": "stream",
     "text": [
      "1 2 3 4 5\n",
      "2 4 6 8 10\n",
      "3 6 9 12 15\n",
      "4 8 12 16 20\n",
      "5 10 15 20 25\n"
     ]
    }
   ],
   "source": [
    "# 1\n",
    "def task_1() -> None:\n",
    "    \"\"\"Task 1: выводит таблицу умножения размера n × n.\"\"\"\n",
    "    size: int = int(input())\n",
    "\n",
    "    for row in range(1, size + 1):\n",
    "        for col in range(1, size + 1):\n",
    "            product: int = row * col\n",
    "            if col < size:\n",
    "                print(product, end=\" \")\n",
    "            else:\n",
    "                print(product, end=\"\")\n",
    "        print()\n",
    "\n",
    "\n",
    "task_1()"
   ]
  },
  {
   "cell_type": "code",
   "execution_count": 3,
   "id": "d619a837",
   "metadata": {},
   "outputs": [
    {
     "name": "stdout",
     "output_type": "stream",
     "text": [
      "1 * 1 = 1\n",
      "2 * 1 = 2\n",
      "3 * 1 = 3\n",
      "4 * 1 = 4\n",
      "1 * 2 = 2\n",
      "2 * 2 = 4\n",
      "3 * 2 = 6\n",
      "4 * 2 = 8\n",
      "1 * 3 = 3\n",
      "2 * 3 = 6\n",
      "3 * 3 = 9\n",
      "4 * 3 = 12\n",
      "1 * 4 = 4\n",
      "2 * 4 = 8\n",
      "3 * 4 = 12\n",
      "4 * 4 = 16\n"
     ]
    }
   ],
   "source": [
    "# 2\n",
    "def task_2() -> None:\n",
    "    \"\"\"Task 2: выводит список выражений таблицы умножения размера n × n.\"\"\"\n",
    "    size: int = int(input())\n",
    "    multiplier: int\n",
    "    multiplicand: int\n",
    "    product: int = 0\n",
    "\n",
    "    for multiplier in range(1, size + 1):\n",
    "        for multiplicand in range(1, size + 1):\n",
    "            product = multiplicand * multiplier\n",
    "            print(f\"{multiplicand} * {multiplier} = {product}\")\n",
    "\n",
    "\n",
    "task_2()"
   ]
  },
  {
   "cell_type": "code",
   "execution_count": null,
   "id": "6e4c9e0b",
   "metadata": {},
   "outputs": [
    {
     "name": "stdout",
     "output_type": "stream",
     "text": [
      "1 \n",
      "2 3 \n",
      "4 5 6 \n",
      "7 8 9 10 \n",
      "11 12 13 14 15 \n"
     ]
    }
   ],
   "source": [
    "# 3\n",
    "def task_3() -> None:\n",
    "    \"\"\"Task 3: строит «математическую ёлку» из n_nums чисел.\"\"\"\n",
    "    n_nums: int = int(input())\n",
    "    current_number: int = 1\n",
    "    row_length: int = 1\n",
    "    pos_in_row: int\n",
    "\n",
    "    # пока не исчерпали все числа от 1 до n_nums\n",
    "    while current_number <= n_nums:\n",
    "        pos_in_row = 1\n",
    "        # печатаем строку: row_length чисел (или столько, сколько осталось)\n",
    "        while pos_in_row <= row_length and current_number <= n_nums:\n",
    "            print(current_number, end=\" \")\n",
    "            current_number += 1\n",
    "            pos_in_row += 1\n",
    "\n",
    "        print()  # перевод строки после каждой «ветки» ёлки\n",
    "        row_length += 1\n",
    "\n",
    "\n",
    "task_3()"
   ]
  },
  {
   "cell_type": "code",
   "execution_count": 6,
   "id": "96f3300f",
   "metadata": {},
   "outputs": [
    {
     "name": "stdout",
     "output_type": "stream",
     "text": [
      "25\n"
     ]
    }
   ],
   "source": [
    "# 4\n",
    "def task_4() -> None:\n",
    "    \"\"\"Task 4: считает сумму цифр всех введённых чисел.\"\"\"\n",
    "    count: int = int(input())\n",
    "    total: int = 0\n",
    "\n",
    "    for _ in range(count):\n",
    "        digits: str = input().strip()\n",
    "        for ch in digits:\n",
    "            total += int(ch)\n",
    "\n",
    "    print(total)\n",
    "\n",
    "\n",
    "task_4()"
   ]
  },
  {
   "cell_type": "code",
   "execution_count": 11,
   "id": "dff1887b",
   "metadata": {},
   "outputs": [
    {
     "name": "stdout",
     "output_type": "stream",
     "text": [
      "1\n"
     ]
    }
   ],
   "source": [
    "# 5\n",
    "def task_5() -> None:\n",
    "    \"\"\"Task 5: считает, в скольких местностях встречается 'зайка'.\"\"\"\n",
    "    regions_count: int = int(input())\n",
    "    regions_with_rabbit: int = 0\n",
    "\n",
    "    for _ in range(regions_count):\n",
    "        found_rabbit: bool = False\n",
    "        while True:\n",
    "            word: str = input()\n",
    "            if word == \"ВСЁ\":\n",
    "                break\n",
    "            if word == \"зайка\":\n",
    "                found_rabbit = True\n",
    "        if found_rabbit:\n",
    "            regions_with_rabbit += 1\n",
    "\n",
    "    print(regions_with_rabbit)\n",
    "\n",
    "\n",
    "task_5()"
   ]
  },
  {
   "cell_type": "code",
   "execution_count": null,
   "id": "b6441696",
   "metadata": {},
   "outputs": [
    {
     "name": "stdout",
     "output_type": "stream",
     "text": [
      "3\n"
     ]
    }
   ],
   "source": [
    "# 6\n",
    "def task_6() -> None:\n",
    "    \"\"\"Task 6: находит НОД всех введённых чисел (Алгоритм Евклида).\"\"\"\n",
    "    count: int = int(input())\n",
    "    result: int = int(input())\n",
    "    next_number: int\n",
    "    a_num: int\n",
    "    b_num: int\n",
    "\n",
    "    for _ in range(count - 1):\n",
    "        next_number = int(input())\n",
    "        # вычисляем gcd(result, next_number)\n",
    "        a_num = result\n",
    "        b_num = next_number\n",
    "        while b_num != 0:\n",
    "            a_num, b_num = b_num, a_num % b_num\n",
    "        result = a_num\n",
    "\n",
    "    print(result)\n",
    "\n",
    "\n",
    "task_6()"
   ]
  },
  {
   "cell_type": "code",
   "execution_count": 9,
   "id": "3af6ae8c",
   "metadata": {},
   "outputs": [
    {
     "name": "stdout",
     "output_type": "stream",
     "text": [
      "До старта 3 секунд(ы)\n",
      "До старта 2 секунд(ы)\n",
      "До старта 1 секунд(ы)\n",
      "Старт 1!!!\n",
      "До старта 4 секунд(ы)\n",
      "До старта 3 секунд(ы)\n",
      "До старта 2 секунд(ы)\n",
      "До старта 1 секунд(ы)\n",
      "Старт 2!!!\n"
     ]
    }
   ],
   "source": [
    "# 7\n",
    "def task_7() -> None:\n",
    "    \"\"\"Task 7: симулирует отсчёт старта для каждого из участников велогонки.\"\"\"\n",
    "    participants_count: int = int(input())\n",
    "    participant_idx: int\n",
    "    current_countdown: int = 0\n",
    "    second: int\n",
    "\n",
    "    for participant_idx in range(1, participants_count + 1):\n",
    "        # первый участник: 3, второй: 4, третий: 5… то есть 2 + номер участника\n",
    "        current_countdown = participant_idx + 2\n",
    "        for second in range(current_countdown, 0, -1):\n",
    "            print(f\"До старта {second} секунд(ы)\")\n",
    "        print(f\"Старт {participant_idx}!!!\")\n",
    "\n",
    "\n",
    "task_7()"
   ]
  },
  {
   "cell_type": "code",
   "execution_count": 8,
   "id": "62f80cf0",
   "metadata": {},
   "outputs": [
    {
     "name": "stdout",
     "output_type": "stream",
     "text": [
      "vladimmir\n"
     ]
    }
   ],
   "source": [
    "# 8\n",
    "def task_8() -> None:\n",
    "    \"\"\"Task 8: определяет победителя по максимальной сумме цифр числа.\"\"\"\n",
    "    count: int = int(input())\n",
    "    winner_name: str = \"\"\n",
    "    max_sum: int = -1\n",
    "\n",
    "    for _ in range(count):\n",
    "        name: str = input().strip()\n",
    "        digits: str = input().strip()\n",
    "        sum_of_digits: int = 0\n",
    "        digit: str\n",
    "\n",
    "        for digit in digits:\n",
    "            sum_of_digits += int(digit)\n",
    "\n",
    "        # при равенстве побеждает тот, кто ходил позже\n",
    "        if sum_of_digits >= max_sum:\n",
    "            max_sum = sum_of_digits\n",
    "            winner_name = name\n",
    "\n",
    "    print(winner_name)\n",
    "\n",
    "\n",
    "task_8()"
   ]
  },
  {
   "cell_type": "code",
   "execution_count": null,
   "id": "da96f976",
   "metadata": {},
   "outputs": [
    {
     "name": "stdout",
     "output_type": "stream",
     "text": [
      "5966\n"
     ]
    }
   ],
   "source": [
    "# 9\n",
    "def task_9() -> None:\n",
    "    \"\"\"Task 9: собирает число из максимальных цифр каждого введённого числа.\"\"\"\n",
    "    count: int = int(input())\n",
    "    result: int = 0\n",
    "    number_str: str\n",
    "    max_digit: int\n",
    "\n",
    "    for _ in range(count):\n",
    "        number_str = input().strip()\n",
    "        # находим максимальную цифру через max() по символам\n",
    "        max_digit = max(int(ch) for ch in number_str)\n",
    "        # сдвигаем ранее собранное число влево и добавляем новую цифру\n",
    "        result = result * 10 + max_digit\n",
    "\n",
    "    print(result)\n",
    "\n",
    "\n",
    "task_9()"
   ]
  },
  {
   "cell_type": "code",
   "execution_count": null,
   "id": "dea087b6",
   "metadata": {},
   "outputs": [
    {
     "name": "stdout",
     "output_type": "stream",
     "text": [
      "A Б В\n",
      "1 1 3\n",
      "1 2 2\n",
      "1 3 1\n",
      "2 1 2\n",
      "2 2 1\n",
      "3 1 1\n"
     ]
    }
   ],
   "source": [
    "# 10\n",
    "def task_10() -> None:\n",
    "    \"\"\"Task 10: все способы распределения N долек апельсина.\"\"\"\n",
    "    total_slices: int = int(input())\n",
    "    anya: int\n",
    "    borya: int\n",
    "    vova: int\n",
    "\n",
    "    # Заголовок\n",
    "    print(\"А Б В\")\n",
    "\n",
    "    # Аня получает от 1 до total_slices−2 долек\n",
    "    for anya in range(1, total_slices - 1):\n",
    "        # Боря получает от 1 до так, чтобы у Вовы осталась хотя бы 1 долька\n",
    "        for borya in range(1, total_slices - anya):\n",
    "            vova = total_slices - anya - borya\n",
    "            if vova >= 1:\n",
    "                print(anya, borya, vova)\n",
    "\n",
    "\n",
    "task_10()"
   ]
  },
  {
   "cell_type": "code",
   "execution_count": null,
   "id": "a759871f",
   "metadata": {},
   "outputs": [
    {
     "name": "stdout",
     "output_type": "stream",
     "text": [
      "3\n"
     ]
    }
   ],
   "source": [
    "# 11\n",
    "def task_11() -> None:\n",
    "    \"\"\"Task 11: считает количество простых чисел среди введённых.\"\"\"\n",
    "    count: int = int(input())\n",
    "    primes_count: int = 0\n",
    "    number: int\n",
    "    divisor: int\n",
    "    divisors_found: int\n",
    "\n",
    "    # для каждого из count чисел\n",
    "    for _ in range(count):\n",
    "        number = int(input())\n",
    "        # простые числа — единственные с двумя делителями (1 и само число)\n",
    "        divisors_found = 0\n",
    "        # считаем делители от 1 до number\n",
    "        for divisor in range(1, number + 1):\n",
    "            if number % divisor == 0:\n",
    "                divisors_found += 1\n",
    "        if divisors_found == 2:\n",
    "            primes_count += 1\n",
    "\n",
    "    print(primes_count)\n",
    "\n",
    "\n",
    "task_11()"
   ]
  },
  {
   "cell_type": "code",
   "execution_count": null,
   "id": "6002d8ef",
   "metadata": {},
   "outputs": [
    {
     "name": "stdout",
     "output_type": "stream",
     "text": [
      "1 2 3\n",
      "4 5 6\n"
     ]
    }
   ],
   "source": [
    "# 12\n",
    "def task_12() -> None:\n",
    "    \"\"\"Task 12: выводит прямоугольник из чисел столбцами одинаковой ширины.\"\"\"\n",
    "    rows: int = int(input())\n",
    "    cols: int = int(input())\n",
    "    max_value: int = rows * cols\n",
    "    col_width: int = len(str(max_value))\n",
    "\n",
    "    row: int\n",
    "    col: int\n",
    "    value: int\n",
    "\n",
    "    for row in range(1, rows + 1):\n",
    "        for col in range(1, cols + 1):\n",
    "            value = (row - 1) * cols + col\n",
    "            # ровно col_width символов, выравнивание вправо\n",
    "            if col < cols:\n",
    "                print(f\"{value:>{col_width}}\", end=\" \")\n",
    "            else:\n",
    "                print(f\"{value:>{col_width}}\", end=\"\")\n",
    "        print()\n",
    "\n",
    "\n",
    "task_12()"
   ]
  },
  {
   "cell_type": "code",
   "execution_count": null,
   "id": "59bd387e",
   "metadata": {},
   "outputs": [
    {
     "name": "stdout",
     "output_type": "stream",
     "text": [
      " 1  4  7 10\n",
      " 2  5  8 11\n",
      " 3  6  9 12\n"
     ]
    }
   ],
   "source": [
    "# 13\n",
    "def task_13() -> None:\n",
    "    \"\"\"Task 13: получаем прямоугольник по столбцам и выровненными столбцами.\"\"\"\n",
    "    rows: int = int(input())\n",
    "    cols: int = int(input())\n",
    "    max_value: int = rows * cols\n",
    "    width: int = len(str(max_value))\n",
    "    r_numb: int\n",
    "    c_numb: int\n",
    "    value: int\n",
    "\n",
    "    for r_numb in range(1, rows + 1):\n",
    "        for c_numb in range(1, cols + 1):\n",
    "            value = (c_numb - 1) * rows + r_numb\n",
    "            if c_numb < cols:\n",
    "                print(f\"{value:>{width}}\", end=\" \")\n",
    "            else:\n",
    "                print(f\"{value:>{width}}\", end=\"\")\n",
    "        print()\n",
    "\n",
    "\n",
    "task_13()"
   ]
  },
  {
   "cell_type": "code",
   "execution_count": null,
   "id": "121fcb4a",
   "metadata": {},
   "outputs": [
    {
     "name": "stdout",
     "output_type": "stream",
     "text": [
      " 1  2  3  4  5\n",
      "10  9  8  7  6\n",
      "11 12 13 14 15\n",
      "20 19 18 17 16\n"
     ]
    }
   ],
   "source": [
    "# 14\n",
    "def task_14() -> None:\n",
    "    \"\"\"Task 14: числовая «змейка» размера n × m.\"\"\"\n",
    "    rows: int = int(input())\n",
    "    cols: int = int(input())\n",
    "    max_value: int = rows * cols\n",
    "    col_width: int = len(str(max_value))\n",
    "    r_num: int\n",
    "    c_num: int\n",
    "    value: int\n",
    "\n",
    "    for r_num in range(1, rows + 1):\n",
    "        if r_num % 2 != 0:\n",
    "            # нечётная строка: слева направо\n",
    "            for c_num in range(1, cols + 1):\n",
    "                value = (r_num - 1) * cols + c_num\n",
    "                if c_num < cols:\n",
    "                    print(f\"{value:>{col_width}}\", end=\" \")\n",
    "                else:\n",
    "                    print(f\"{value:>{col_width}}\", end=\"\")\n",
    "        else:\n",
    "            # чётная строка: справа налево\n",
    "            for c_num in range(cols, 0, -1):\n",
    "                value = (r_num - 1) * cols + c_num\n",
    "                if c_num > 1:\n",
    "                    print(f\"{value:>{col_width}}\", end=\" \")\n",
    "                else:\n",
    "                    print(f\"{value:>{col_width}}\", end=\"\")\n",
    "        print()\n",
    "\n",
    "\n",
    "task_14()"
   ]
  },
  {
   "cell_type": "code",
   "execution_count": null,
   "id": "26a29cf1",
   "metadata": {},
   "outputs": [
    {
     "name": "stdout",
     "output_type": "stream",
     "text": [
      " 1  6  7 12\n",
      " 2  5  8 11\n",
      " 3  4  9 10\n"
     ]
    }
   ],
   "source": [
    "# 15\n",
    "def task_15() -> None:\n",
    "    \"\"\"Task 15: вертикальная числовая змейка размера N×M.\"\"\"\n",
    "    rows: int = int(input())\n",
    "    cols: int = int(input())\n",
    "    total: int = rows * cols\n",
    "    width: int = len(str(total))\n",
    "    value: int\n",
    "\n",
    "    for r_num in range(rows):\n",
    "        for c_num in range(cols):\n",
    "            base: int = c_num * rows\n",
    "            if c_num % 2 == 0:\n",
    "                # чётный столбец (0, 2, …) — сверху вниз\n",
    "                value = base + r_num + 1\n",
    "            else:\n",
    "                # нечётный столбец (1, 3, …) — снизу вверх\n",
    "                value = base + (rows - r_num)\n",
    "            if c_num < cols - 1:\n",
    "                print(f\"{value:>{width}}\", end=\" \")\n",
    "            else:\n",
    "                print(f\"{value:>{width}}\", end=\"\")\n",
    "        print()\n",
    "\n",
    "\n",
    "task_15()"
   ]
  },
  {
   "cell_type": "code",
   "execution_count": null,
   "id": "a01a5837",
   "metadata": {},
   "outputs": [
    {
     "name": "stdout",
     "output_type": "stream",
     "text": [
      " 1 | 2 | 3 | 4 \n",
      "---------------\n",
      " 2 | 4 | 6 | 8 \n",
      "---------------\n",
      " 3 | 6 | 9 |12 \n",
      "---------------\n",
      " 4 | 8 |12 |16 \n"
     ]
    }
   ],
   "source": [
    "# 16\n",
    "def task_16() -> None:\n",
    "    \"\"\"Task 16: таблица умножения с ячейками одинаковой ширины и рамками.\"\"\"\n",
    "    size: int = int(input())\n",
    "    col_width: int = int(input())\n",
    "    # общая длина строки: size ячеек по col_width и (size−1) разделителей '|'\n",
    "    line_length: int = size * col_width + (size - 1)\n",
    "    row: int\n",
    "    col: int\n",
    "\n",
    "    for row in range(1, size + 1):\n",
    "        for col in range(1, size + 1):\n",
    "            # печатаем число, центрируем в поле ширины col_width\n",
    "            # разделитель '|' идёт только между ячейками\n",
    "            print(f\"{row * col:^{col_width}}\", end=\"\" if col == size else \"|\")\n",
    "        print()\n",
    "        # после каждой строки, кроме последней, рисуем горизонтальную линию\n",
    "        if row < size:\n",
    "            print(\"-\" * line_length)\n",
    "\n",
    "\n",
    "task_16()"
   ]
  },
  {
   "cell_type": "code",
   "execution_count": null,
   "id": "14b175ad",
   "metadata": {},
   "outputs": [
    {
     "name": "stdout",
     "output_type": "stream",
     "text": [
      "5\n"
     ]
    }
   ],
   "source": [
    "# 17\n",
    "def task_17() -> None:\n",
    "    \"\"\"Task 17: считает, сколько введённых чисел являются палиндромами.\"\"\"\n",
    "    count: int = int(input())\n",
    "    palindromes: int = 0\n",
    "    s_num: str\n",
    "\n",
    "    for _ in range(count):\n",
    "        s_num = input()\n",
    "        # число — палиндром, если строка читается одинаково в обе стороны\n",
    "        if s_num == s_num[::-1]:\n",
    "            palindromes += 1\n",
    "\n",
    "    print(palindromes)\n",
    "\n",
    "\n",
    "task_17()"
   ]
  },
  {
   "cell_type": "code",
   "execution_count": 25,
   "id": "0b20138d",
   "metadata": {},
   "outputs": [
    {
     "name": "stdout",
     "output_type": "stream",
     "text": [
      "   1    \n",
      "  2 3   \n",
      " 4 5 6  \n",
      "7 8 9 10\n"
     ]
    }
   ],
   "source": [
    "# 18\n",
    "def task_18() -> None:\n",
    "    \"\"\"Task 18: строит ёлку из чисел и центрирует каждую строку по ширине последней.\"\"\"\n",
    "    total: int = int(input())\n",
    "    lines: list[str] = []\n",
    "    current: int = 1\n",
    "    row_len: int = 1\n",
    "\n",
    "    # собираем все строки ёлки в список строк\n",
    "    while current <= total:\n",
    "        row_nums: list[str] = []\n",
    "        for _ in range(row_len):\n",
    "            if current > total:\n",
    "                break\n",
    "            row_nums.append(str(current))\n",
    "            current += 1\n",
    "        lines.append(\" \".join(row_nums))\n",
    "        row_len += 1\n",
    "\n",
    "    # ширина последней строки — самая большая\n",
    "    width: int = len(lines[-1])\n",
    "    # печатаем центрированные строки\n",
    "    for line in lines:\n",
    "        print(f\"{line:^{width}}\")\n",
    "\n",
    "\n",
    "task_18()"
   ]
  },
  {
   "cell_type": "code",
   "execution_count": null,
   "id": "28f6c1a3",
   "metadata": {},
   "outputs": [
    {
     "name": "stdout",
     "output_type": "stream",
     "text": [
      "1 1 1 1 1 1\n",
      "1 2 2 2 2 1\n",
      "1 2 3 3 2 1\n",
      "1 2 3 3 2 1\n",
      "1 2 2 2 2 1\n",
      "1 1 1 1 1 1\n"
     ]
    }
   ],
   "source": [
    "# 19\n",
    "def task_19() -> None:\n",
    "    \"\"\"Task 19: строит матрёшку из чисел.\"\"\"\n",
    "    n_num: int = int(input())\n",
    "    # максимальный слой — в центре, его число равно (n+1)//2\n",
    "    max_layer: int = (n_num + 1) // 2\n",
    "    # ширина столбца — длина представления этого числа\n",
    "    width: int = len(str(max_layer))\n",
    "    layer: int\n",
    "    i_num: int\n",
    "    j_num: int\n",
    "\n",
    "    for i_num in range(1, n_num + 1):\n",
    "        for j_num in range(1, n_num + 1):\n",
    "            # уровень — расстояние до ближайшей границы + 1\n",
    "            layer = min(i_num, j_num, n_num - i_num + 1, n_num - j_num + 1)\n",
    "            # выравниваем по правому краю в поле ширины width\n",
    "            if j_num < n_num:\n",
    "                print(f\"{layer:>{width}}\", end=\" \")\n",
    "            else:\n",
    "                print(f\"{layer:>{width}}\", end=\"\")\n",
    "        print()\n",
    "\n",
    "\n",
    "task_19()"
   ]
  },
  {
   "cell_type": "code",
   "execution_count": null,
   "id": "63fd4ad6",
   "metadata": {},
   "outputs": [
    {
     "name": "stdout",
     "output_type": "stream",
     "text": [
      "8\n"
     ]
    }
   ],
   "source": [
    "# 20\n",
    "def task_20() -> None:\n",
    "    \"\"\"Task 20: находит основание от 2 до 10, где максимальная сумма цифр.\"\"\"\n",
    "    n_num: int = int(input().strip())\n",
    "    best_base: int = 2\n",
    "    best_sum: int = -1\n",
    "\n",
    "    # проверяем каждое основание от 2 до 10\n",
    "    for base in range(2, 11):\n",
    "        temp: int = n_num\n",
    "        digit_sum: int = 0\n",
    "\n",
    "        # вычисляем сумму цифр в текущем основании\n",
    "        while temp > 0:\n",
    "            digit_sum += temp % base\n",
    "            temp //= base\n",
    "\n",
    "        # обновляем лучший результат (при равенстве оставляем меньшее основание)\n",
    "        if digit_sum > best_sum:\n",
    "            best_sum = digit_sum\n",
    "            best_base = base\n",
    "\n",
    "    print(best_base)\n",
    "\n",
    "\n",
    "task_20()"
   ]
  }
 ],
 "metadata": {
  "kernelspec": {
   "display_name": "dsfb",
   "language": "python",
   "name": "python3"
  },
  "language_info": {
   "codemirror_mode": {
    "name": "ipython",
    "version": 3
   },
   "file_extension": ".py",
   "mimetype": "text/x-python",
   "name": "python",
   "nbconvert_exporter": "python",
   "pygments_lexer": "ipython3",
   "version": "3.12.9"
  }
 },
 "nbformat": 4,
 "nbformat_minor": 5
}
