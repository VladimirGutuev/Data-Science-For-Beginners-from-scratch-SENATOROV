{
 "cells": [
  {
   "cell_type": "code",
   "execution_count": null,
   "id": "484da79e",
   "metadata": {},
   "outputs": [],
   "source": [
    "\"\"\"Working with recursion, decorators and generators.\"\"\""
   ]
  },
  {
   "cell_type": "code",
   "execution_count": null,
   "id": "292d1178",
   "metadata": {},
   "outputs": [],
   "source": [
    "from types import FunctionType\n",
    "from typing import (\n",
    "    Callable,\n",
    "    Iterator,\n",
    "    Optional,\n",
    "    ParamSpec,\n",
    "    TypeVar,\n",
    ")\n",
    "\n",
    "\n",
    "def recursive_sum(*positional_args: int) -> int:\n",
    "    \"\"\"Return the sum of all positional integer arguments recursively.\"\"\"\n",
    "    if not positional_args:\n",
    "        return 0\n",
    "    return recursive_sum(*positional_args[:-1]) + positional_args[-1]"
   ]
  },
  {
   "cell_type": "code",
   "execution_count": null,
   "id": "7348d0ca",
   "metadata": {},
   "outputs": [],
   "source": [
    "def recursive_digit_sum(number: int) -> int:\n",
    "    \"\"\"Return the sum of digits of a non-negative integer.\"\"\"\n",
    "    if not number:\n",
    "        return 0\n",
    "    return recursive_digit_sum(number // 10) + number % 10"
   ]
  },
  {
   "cell_type": "code",
   "execution_count": null,
   "id": "b3646946",
   "metadata": {},
   "outputs": [],
   "source": [
    "def make_equation(*coefficients: int) -> str:\n",
    "    \"\"\"Build Horner-form expression string from given coefficients.\"\"\"\n",
    "    if len(coefficients) == 1:\n",
    "        return f\"{coefficients[0]}\"\n",
    "    previous_expression: str = make_equation(*coefficients[:-1])\n",
    "    return f\"({previous_expression}) * x + {coefficients[-1]}\""
   ]
  },
  {
   "cell_type": "code",
   "execution_count": null,
   "id": "6b4043ce",
   "metadata": {},
   "outputs": [],
   "source": [
    "def answer(function: FunctionType) -> object:\n",
    "    \"\"\"Добавляет префикс к строковому представлению результата.\"\"\"\n",
    "\n",
    "    def new_function(*args: object, **kwargs: object) -> str:\n",
    "        \"\"\"Возвращает 'Результат функции: <значение>'.\"\"\"\n",
    "        result = function(*args, **kwargs)\n",
    "        return f\"Результат функции: {result}\"\n",
    "\n",
    "    return new_function"
   ]
  },
  {
   "cell_type": "code",
   "execution_count": null,
   "id": "8c473c0f",
   "metadata": {},
   "outputs": [],
   "source": [
    "def result_accumulator(function: FunctionType) -> object:\n",
    "    \"\"\"Копит результаты и отдаёт их списком при method='drop'.\"\"\"\n",
    "    results: list[object] = []\n",
    "\n",
    "    def new_function(*args: object, method: str = \"accumulate\") -> list[object] | None:\n",
    "        \"\"\"Добавляет результат; при 'drop' возвращает накопленное и очищает.\"\"\"\n",
    "        result: object = function(*args)\n",
    "        results.append(result)\n",
    "        if method == \"drop\":\n",
    "            accumulated: list[object] = list(results)\n",
    "            results.clear()\n",
    "            return accumulated\n",
    "        return None\n",
    "\n",
    "    return new_function"
   ]
  },
  {
   "cell_type": "code",
   "execution_count": null,
   "id": "15a8b49f",
   "metadata": {},
   "outputs": [],
   "source": [
    "def merge(left: list[int], right: list[int]) -> list[int]:\n",
    "    \"\"\"Return a merged sorted list from two sorted input lists.\"\"\"\n",
    "    result: list[int] = []\n",
    "    left_index: int = 0\n",
    "    right_index: int = 0\n",
    "\n",
    "    while left_index < len(left) and right_index < len(right):\n",
    "        if left[left_index] <= right[right_index]:\n",
    "            result.append(left[left_index])\n",
    "            left_index += 1\n",
    "        else:\n",
    "            result.append(right[right_index])\n",
    "            right_index += 1\n",
    "\n",
    "    if left_index < len(left):\n",
    "        result.extend(left[left_index:])\n",
    "    if right_index < len(right):\n",
    "        result.extend(right[right_index:])\n",
    "    return result\n",
    "\n",
    "\n",
    "def merge_sort(items: list[int]) -> list[int]:\n",
    "    \"\"\"Return the list sorted in ascending order using merge sort.\"\"\"\n",
    "    if len(items) <= 1:\n",
    "        return items.copy()\n",
    "    middle: int = len(items) // 2\n",
    "    left_sorted: list[int] = merge_sort(items[:middle])\n",
    "    right_sorted: list[int] = merge_sort(items[middle:])\n",
    "    return merge(left_sorted, right_sorted)"
   ]
  },
  {
   "cell_type": "code",
   "execution_count": null,
   "id": "b94c4bd3",
   "metadata": {},
   "outputs": [],
   "source": [
    "_P = ParamSpec(\"_P\")\n",
    "_R = TypeVar(\"_R\")\n",
    "\n",
    "\n",
    "def same_type(function: Callable[_P, _R]) -> Callable[_P, Optional[_R]]:\n",
    "    \"\"\"Ensure all positional args share the same type; otherwise print warning.\"\"\"\n",
    "\n",
    "    def new_func(*args: _P.args, **kwargs: _P.kwargs) -> Optional[_R]:\n",
    "        \"\"\"Return result or None if positional arg types differ.\"\"\"\n",
    "        if len(args) > 1 and len(set(map(type, args))) > 1:\n",
    "            print(\"Обнаружены различные типы данных\")\n",
    "            return None\n",
    "        return function(*args, **kwargs)\n",
    "\n",
    "    return new_func"
   ]
  },
  {
   "cell_type": "code",
   "execution_count": null,
   "id": "f35b56be",
   "metadata": {},
   "outputs": [],
   "source": [
    "def fibonacci(count: int) -> Iterator[int]:\n",
    "    \"\"\"Yield the first 'count' Fibonacci numbers starting from 0.\"\"\"\n",
    "    a1: int = 0\n",
    "    b1: int = 1\n",
    "    for _ in range(count):\n",
    "        yield a1\n",
    "        a1, b1 = b1, a1 + b1"
   ]
  },
  {
   "cell_type": "code",
   "execution_count": null,
   "id": "83189951",
   "metadata": {},
   "outputs": [],
   "source": [
    "_Item = TypeVar(\"_Item\")\n",
    "\n",
    "\n",
    "def cycle(items: list[_Item]) -> Iterator[_Item]:\n",
    "    \"\"\"Yield list elements in an infinite repeating sequence.\"\"\"\n",
    "    if not items:\n",
    "        return\n",
    "    while True:\n",
    "        yield from items"
   ]
  },
  {
   "cell_type": "code",
   "execution_count": null,
   "id": "1e710e26",
   "metadata": {},
   "outputs": [],
   "source": [
    "def make_linear(items: list[object]) -> list[object]:\n",
    "    \"\"\"Return a flattened list from a nested list of lists.\"\"\"\n",
    "    result: list[object] = []\n",
    "    for element in items:\n",
    "        if isinstance(element, list):\n",
    "            result.extend(make_linear(element))\n",
    "        else:\n",
    "            result.append(element)\n",
    "    return result"
   ]
  }
 ],
 "metadata": {
  "kernelspec": {
   "display_name": "dsfb",
   "language": "python",
   "name": "python3"
  },
  "language_info": {
   "codemirror_mode": {
    "name": "ipython",
    "version": 3
   },
   "file_extension": ".py",
   "mimetype": "text/x-python",
   "name": "python",
   "nbconvert_exporter": "python",
   "pygments_lexer": "ipython3",
   "version": "3.12.9"
  }
 },
 "nbformat": 4,
 "nbformat_minor": 5
}
