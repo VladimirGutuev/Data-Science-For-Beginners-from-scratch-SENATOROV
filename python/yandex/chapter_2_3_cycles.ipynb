{
 "cells": [
  {
   "cell_type": "code",
   "execution_count": null,
   "id": "9add192f",
   "metadata": {},
   "outputs": [],
   "source": [
    "\"\"\"yandex contest of chapter 2.3 of Python course.\"\"\""
   ]
  },
  {
   "cell_type": "code",
   "execution_count": null,
   "id": "23afafa6",
   "metadata": {},
   "outputs": [],
   "source": [
    "# 1\n",
    "shout: str\n",
    "\n",
    "while (shout := input()) != \"Три!\":\n",
    "    print(\"Режим ожидания...\")\n",
    "print(\"Ёлочка, гори!\")"
   ]
  },
  {
   "cell_type": "code",
   "execution_count": null,
   "id": "dd981f23",
   "metadata": {},
   "outputs": [],
   "source": [
    "# 2\n",
    "counter: int = 0\n",
    "string: str\n",
    "while (string := input()) != \"Приехали!\":\n",
    "    if \"зайка\" in string:\n",
    "        counter += 1\n",
    "print(counter)"
   ]
  },
  {
   "cell_type": "code",
   "execution_count": null,
   "id": "496a43bd",
   "metadata": {},
   "outputs": [
    {
     "name": "stdout",
     "output_type": "stream",
     "text": [
      "1 2 3 4 5 6 "
     ]
    }
   ],
   "source": [
    "# 3\n",
    "def task_3() -> None:\n",
    "    \"\"\"Task 23.\"\"\"\n",
    "    first_number: int = int(input())\n",
    "    second_number: int = int(input())\n",
    "    for i in range(first_number, second_number + 1):\n",
    "        print(i, end=\" \")\n",
    "\n",
    "\n",
    "task_3()"
   ]
  },
  {
   "cell_type": "code",
   "execution_count": null,
   "id": "d1435fc2",
   "metadata": {},
   "outputs": [
    {
     "name": "stdout",
     "output_type": "stream",
     "text": [
      "1 2 3 4 5 6 7 8 9 10 "
     ]
    }
   ],
   "source": [
    "# 4\n",
    "def task_4() -> None:\n",
    "    \"\"\"Task 4.\"\"\"\n",
    "    first_number: int = int(input())\n",
    "    second_number: int = int(input())\n",
    "    if first_number < second_number:\n",
    "        for i in range(first_number, second_number + 1):\n",
    "            print(i, end=\" \")\n",
    "    else:\n",
    "        for i in range(first_number, second_number - 1, -1):\n",
    "            print(i, end=\" \")\n",
    "\n",
    "\n",
    "task_4()"
   ]
  },
  {
   "cell_type": "code",
   "execution_count": null,
   "id": "593a3914",
   "metadata": {},
   "outputs": [
    {
     "name": "stdout",
     "output_type": "stream",
     "text": [
      "460.0\n"
     ]
    }
   ],
   "source": [
    "# 5\n",
    "def task_5() -> None:\n",
    "    \"\"\"Task 5.\"\"\"\n",
    "    price_of_product: float\n",
    "    summary: float = 0\n",
    "\n",
    "    while (price_of_product := float(input())) != 0:\n",
    "        if price_of_product >= 500:\n",
    "            summary += price_of_product * 0.9\n",
    "        else:\n",
    "            summary += price_of_product\n",
    "    print(f\"{summary:.1f}\")\n",
    "\n",
    "\n",
    "task_5()"
   ]
  },
  {
   "cell_type": "code",
   "execution_count": null,
   "id": "4ed96c8d",
   "metadata": {},
   "outputs": [
    {
     "name": "stdout",
     "output_type": "stream",
     "text": [
      "20\n"
     ]
    }
   ],
   "source": [
    "# 6\n",
    "def task_6() -> None:\n",
    "    \"\"\"Task 6.\"\"\"\n",
    "    first_number: int = int(input())\n",
    "    second_number: int = int(input())\n",
    "    remainder: int = 100  # anything number, but not zero\n",
    "    temp: int = 0  # anything number\n",
    "\n",
    "    if first_number > second_number:\n",
    "        while remainder != 0:\n",
    "            remainder = first_number % second_number\n",
    "            temp = second_number\n",
    "            first_number = second_number\n",
    "            second_number = remainder\n",
    "        print(temp)\n",
    "    else:\n",
    "        while remainder != 0:\n",
    "            remainder = second_number % first_number\n",
    "            temp = first_number\n",
    "            second_number = first_number\n",
    "            first_number = remainder\n",
    "        print(temp)\n",
    "\n",
    "\n",
    "task_6()"
   ]
  },
  {
   "cell_type": "code",
   "execution_count": null,
   "id": "8de6b25a",
   "metadata": {},
   "outputs": [],
   "source": [
    "# 7\n",
    "def task_7() -> None:\n",
    "    \"\"\"Task 7.\"\"\"\n",
    "    first_number: int = int(input())\n",
    "    second_number: int = int(input())\n",
    "    step_value: int = first_number if first_number > second_number else second_number\n",
    "    least_common_multiple: int = step_value\n",
    "\n",
    "    # ищем ЛКМ, пока оба условия не будут выполнены\n",
    "    while True:\n",
    "        if least_common_multiple % first_number != 0:\n",
    "            least_common_multiple += step_value\n",
    "            continue\n",
    "\n",
    "        if least_common_multiple % second_number != 0:\n",
    "            least_common_multiple += step_value\n",
    "            continue\n",
    "\n",
    "        break\n",
    "\n",
    "    print(least_common_multiple)\n",
    "\n",
    "\n",
    "task_7()"
   ]
  },
  {
   "cell_type": "code",
   "execution_count": null,
   "id": "8a735141",
   "metadata": {},
   "outputs": [
    {
     "name": "stdout",
     "output_type": "stream",
     "text": [
      "2edfcv\n",
      "2edfcv\n",
      "2edfcv\n"
     ]
    }
   ],
   "source": [
    "# 8\n",
    "def task_8() -> None:\n",
    "    \"\"\"Task 8.\"\"\"\n",
    "    useful_string: str = input()\n",
    "    number_of_repetitions: int = int(input())\n",
    "\n",
    "    for _ in range(number_of_repetitions):\n",
    "        print(useful_string)\n",
    "\n",
    "\n",
    "task_8()"
   ]
  },
  {
   "cell_type": "code",
   "execution_count": null,
   "id": "5f723292",
   "metadata": {},
   "outputs": [],
   "source": [
    "# 9\n",
    "def task_9() -> None:\n",
    "    \"\"\"Task 9.\"\"\"\n",
    "    number: int = int(input())\n",
    "    product: int = 1\n",
    "    for i in range(1, number + 1):\n",
    "        product *= i\n",
    "    print(product)\n",
    "\n",
    "\n",
    "task_9()"
   ]
  },
  {
   "cell_type": "code",
   "execution_count": null,
   "id": "1848c66a",
   "metadata": {},
   "outputs": [
    {
     "name": "stdout",
     "output_type": "stream",
     "text": [
      "2\n",
      "0\n"
     ]
    }
   ],
   "source": [
    "# 10\n",
    "def task_10() -> None:\n",
    "    \"\"\"Task 10.\"\"\"\n",
    "    direction: str\n",
    "    scalar: int\n",
    "    x_dir: int = 0\n",
    "    y_dir: int = 0\n",
    "\n",
    "    while (direction := input()) != \"СТОП\":\n",
    "        scalar = int(input())\n",
    "        if direction == \"СЕВЕР\":\n",
    "            y_dir += scalar\n",
    "        elif direction == \"ЮГ\":\n",
    "            y_dir -= scalar\n",
    "        elif direction == \"ВОСТОК\":\n",
    "            x_dir += scalar\n",
    "        else:\n",
    "            x_dir -= scalar\n",
    "    print(y_dir, x_dir, sep=\"\\n\")\n",
    "\n",
    "\n",
    "task_10()"
   ]
  },
  {
   "cell_type": "code",
   "execution_count": null,
   "id": "f35b52b5",
   "metadata": {},
   "outputs": [],
   "source": [
    "# 11\n",
    "def task_11() -> None:\n",
    "    \"\"\"Task 11.\"\"\"\n",
    "    initial_number: int = int(input())\n",
    "    sum_of_digits: int = 0\n",
    "    remaining_number: int = initial_number\n",
    "\n",
    "    # пока есть цифры в числе\n",
    "    while remaining_number > 0:\n",
    "        current_digit: int = remaining_number % 10\n",
    "        sum_of_digits += current_digit\n",
    "        remaining_number //= 10\n",
    "\n",
    "    print(sum_of_digits)\n",
    "\n",
    "\n",
    "task_11()"
   ]
  },
  {
   "cell_type": "code",
   "execution_count": null,
   "id": "70d6c905",
   "metadata": {},
   "outputs": [],
   "source": [
    "# 12\n",
    "def task_12() -> None:\n",
    "    \"\"\"Task 12.\"\"\"\n",
    "    initial_number: int = int(input())\n",
    "    maximum_digit: int = 0\n",
    "    remaining_number: int = initial_number\n",
    "\n",
    "    # перебираем все цифры числа\n",
    "    while remaining_number > 0:\n",
    "        current_digit: int = remaining_number % 10\n",
    "        maximum_digit = max(maximum_digit, current_digit)\n",
    "        remaining_number //= 10\n",
    "\n",
    "    print(maximum_digit)\n",
    "\n",
    "\n",
    "task_12()"
   ]
  },
  {
   "cell_type": "code",
   "execution_count": null,
   "id": "9a8eff25",
   "metadata": {},
   "outputs": [],
   "source": [
    "# 13\n",
    "def task_13() -> None:\n",
    "    \"\"\"Task 13.\"\"\"\n",
    "    player_count: int = int(input())\n",
    "    minimal_name: str = input()\n",
    "\n",
    "    for _ in range(player_count - 1):\n",
    "        current_name: str = input()\n",
    "        minimal_name = min(minimal_name, current_name)\n",
    "\n",
    "    print(minimal_name)\n",
    "\n",
    "\n",
    "task_13()"
   ]
  },
  {
   "cell_type": "code",
   "execution_count": null,
   "id": "77664ec8",
   "metadata": {},
   "outputs": [],
   "source": [
    "# 14\n",
    "def task_14() -> None:\n",
    "    \"\"\"Task 14.\"\"\"\n",
    "    initial_number: int = int(input())\n",
    "    if initial_number <= 1:\n",
    "        print(\"NO\")\n",
    "        return\n",
    "\n",
    "    for potential_divisor in range(2, initial_number):\n",
    "        if initial_number % potential_divisor == 0:\n",
    "            print(\"NO\")\n",
    "            break\n",
    "    else:\n",
    "        print(\"YES\")\n",
    "\n",
    "\n",
    "task_14()"
   ]
  },
  {
   "cell_type": "code",
   "execution_count": null,
   "id": "378db7a8",
   "metadata": {},
   "outputs": [],
   "source": [
    "# 15\n",
    "def task_15() -> None:\n",
    "    \"\"\"Task 15.\"\"\"\n",
    "    total_locations: int = int(input())\n",
    "    lines_with_rabbit: int = 0\n",
    "\n",
    "    for _ in range(total_locations):\n",
    "        current_line: str = input()\n",
    "        # разбиваем на слова и проверяем точное совпадение\n",
    "        if \"зайка\" in current_line.split():\n",
    "            lines_with_rabbit += 1\n",
    "\n",
    "    print(lines_with_rabbit)\n",
    "\n",
    "\n",
    "task_15()"
   ]
  },
  {
   "cell_type": "code",
   "execution_count": null,
   "id": "717d9a4a",
   "metadata": {},
   "outputs": [],
   "source": [
    "# 16\n",
    "def task_16() -> None:\n",
    "    \"\"\"Task 16.\"\"\"\n",
    "    original_number: int = int(input())\n",
    "    working_number: int = original_number\n",
    "    reversed_number: int = 0\n",
    "\n",
    "    # строим перевёрнутое число с помощью while\n",
    "    while working_number > 0:\n",
    "        current_digit: int = working_number % 10\n",
    "        reversed_number = reversed_number * 10 + current_digit\n",
    "        working_number //= 10\n",
    "\n",
    "    if reversed_number == original_number:\n",
    "        print(\"YES\")\n",
    "    else:\n",
    "        print(\"NO\")\n",
    "\n",
    "\n",
    "task_16()"
   ]
  },
  {
   "cell_type": "code",
   "execution_count": null,
   "id": "5533765a",
   "metadata": {},
   "outputs": [],
   "source": [
    "# 17\n",
    "def task_17() -> None:\n",
    "    \"\"\"Task 17.\"\"\"\n",
    "    initial_number: int = int(input())\n",
    "    working_number: int = initial_number\n",
    "    reversed_filtered: int = 0\n",
    "\n",
    "    # собираем все нечётные цифры в обратном порядке\n",
    "    while working_number > 0:\n",
    "        last_digit: int = working_number % 10\n",
    "        if last_digit % 2 != 0:\n",
    "            reversed_filtered = reversed_filtered * 10 + last_digit\n",
    "        working_number //= 10\n",
    "\n",
    "    filtered_number: int = 0\n",
    "\n",
    "    # переворачиваем обратно, чтобы восстановить исходный порядок\n",
    "    while reversed_filtered > 0:\n",
    "        last_digit = reversed_filtered % 10\n",
    "        filtered_number = filtered_number * 10 + last_digit\n",
    "        reversed_filtered //= 10\n",
    "\n",
    "    print(filtered_number)\n",
    "\n",
    "\n",
    "task_17()"
   ]
  },
  {
   "cell_type": "code",
   "execution_count": null,
   "id": "76cd3420",
   "metadata": {},
   "outputs": [],
   "source": [
    "# 18\n",
    "def task_18() -> None:\n",
    "    \"\"\"Task 18.\"\"\"\n",
    "    original_number: int = int(input())\n",
    "    remaining: int = original_number\n",
    "    divisor: int = 2\n",
    "    first_factor: bool = True\n",
    "\n",
    "    while remaining > 1:\n",
    "        if remaining % divisor == 0:\n",
    "            # выводим либо без звёздочки (первый множитель), либо с \" * \"\n",
    "            if first_factor:\n",
    "                print(divisor, end=\"\")\n",
    "                first_factor = False\n",
    "            else:\n",
    "                print(f\" * {divisor}\", end=\"\")\n",
    "            remaining //= divisor\n",
    "        else:\n",
    "            divisor += 1\n",
    "\n",
    "    print()  # перевод на новую строку после всех множителей\n",
    "\n",
    "\n",
    "task_18()"
   ]
  },
  {
   "cell_type": "code",
   "execution_count": null,
   "id": "a87994da",
   "metadata": {},
   "outputs": [],
   "source": [
    "# 19\n",
    "def task_19() -> None:\n",
    "    \"\"\"Task 19.\"\"\"\n",
    "    lower_bound: int = 1\n",
    "    upper_bound: int = 1000\n",
    "    attempts: int = 0\n",
    "\n",
    "    # пока не исчерпали 10 попыток\n",
    "    while attempts < 10:\n",
    "        # делаем пробную догадку — середина текущего интервала\n",
    "        guess: int = (lower_bound + upper_bound) // 2\n",
    "        # выводим её и сразу сбрасываем буфер, чтобы интерактивно получить ответ\n",
    "        print(guess, flush=True)\n",
    "        # читаем ответ: «Больше», «Меньше» или «Угадал!»\n",
    "        response: str = input()\n",
    "        if response == \"Угадал!\":\n",
    "            print(\"Число отгадано\")\n",
    "            return\n",
    "        if response == \"Больше\":\n",
    "            # если загаданное число больше нашей догадки —\n",
    "            # сужаем интервал слева\n",
    "            lower_bound = guess + 1\n",
    "        elif response == \"Меньше\":\n",
    "            # если загаданное число меньше нашей догадки —\n",
    "            # сужаем интервал справа\n",
    "            upper_bound = guess - 1\n",
    "        attempts += 1\n",
    "\n",
    "    # на всякий случай можно добавить завершающий вывод\n",
    "    print(\"Не удалось угадать за 10 попыток\")\n",
    "\n",
    "\n",
    "task_19()"
   ]
  },
  {
   "cell_type": "code",
   "execution_count": null,
   "id": "6f281fe3",
   "metadata": {},
   "outputs": [],
   "source": [
    "# 20\n",
    "def task_20() -> None:\n",
    "    \"\"\"Task 20.\"\"\"\n",
    "    block_count: int = int(input())\n",
    "    previous_hash: int = 0\n",
    "\n",
    "    for block_index in range(block_count):\n",
    "        block_value: int = int(input())\n",
    "        hash_value: int = block_value % 256\n",
    "        random_value: int = (block_value // 256) % 256\n",
    "        message_value: int = block_value // (256 * 256)\n",
    "\n",
    "        expected_hash: int = (37 * (message_value + random_value + previous_hash)) % 256\n",
    "\n",
    "        # если хэш не соответствует формуле или не меньше 100 — это первая ошибка\n",
    "        if hash_value != expected_hash or hash_value >= 100:\n",
    "            print(block_index)\n",
    "            return\n",
    "\n",
    "        previous_hash = hash_value\n",
    "\n",
    "    print(-1)\n",
    "\n",
    "\n",
    "task_20()"
   ]
  }
 ],
 "metadata": {
  "kernelspec": {
   "display_name": "dsfb",
   "language": "python",
   "name": "python3"
  },
  "language_info": {
   "codemirror_mode": {
    "name": "ipython",
    "version": 3
   },
   "file_extension": ".py",
   "mimetype": "text/x-python",
   "name": "python",
   "nbconvert_exporter": "python",
   "pygments_lexer": "ipython3",
   "version": "3.12.9"
  }
 },
 "nbformat": 4,
 "nbformat_minor": 5
}
